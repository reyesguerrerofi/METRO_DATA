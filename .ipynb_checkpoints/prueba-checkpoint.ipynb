{
 "cells": [
  {
   "cell_type": "code",
   "execution_count": 1,
   "id": "7fb696c7-74a5-4261-a6a1-bf0c8540e8df",
   "metadata": {},
   "outputs": [],
   "source": [
    "import polars as pl"
   ]
  },
  {
   "cell_type": "code",
   "execution_count": 30,
   "id": "63e388db-c451-4736-bbab-1eceed7da07a",
   "metadata": {},
   "outputs": [
    {
     "data": {
      "text/html": [
       "<div><style>\n",
       ".dataframe > thead > tr,\n",
       ".dataframe > tbody > tr {\n",
       "  text-align: right;\n",
       "  white-space: pre-wrap;\n",
       "}\n",
       "</style>\n",
       "<small>shape: (10, 7)</small><table border=\"1\" class=\"dataframe\"><thead><tr><th>fecha</th><th>mes</th><th>anio</th><th>linea</th><th>estacion</th><th>tipo_pago</th><th>afluencia</th></tr><tr><td>str</td><td>str</td><td>i64</td><td>str</td><td>str</td><td>str</td><td>i64</td></tr></thead><tbody><tr><td>&quot;2021-01-01&quot;</td><td>&quot;enero&quot;</td><td>2021</td><td>&quot;Linea 12&quot;</td><td>&quot;hospital 20 de noviembre&quot;</td><td>&quot;boleto&quot;</td><td>0</td></tr><tr><td>&quot;2021-01-01&quot;</td><td>&quot;enero&quot;</td><td>2021</td><td>&quot;Linea 12&quot;</td><td>&quot;hospital 20 de noviembre&quot;</td><td>&quot;prepago&quot;</td><td>832</td></tr><tr><td>&quot;2021-01-01&quot;</td><td>&quot;enero&quot;</td><td>2021</td><td>&quot;Linea 12&quot;</td><td>&quot;hospital 20 de noviembre&quot;</td><td>&quot;gratuidad&quot;</td><td>733</td></tr><tr><td>&quot;2021-01-01&quot;</td><td>&quot;enero&quot;</td><td>2021</td><td>&quot;Linea 12&quot;</td><td>&quot;atlalilco&quot;</td><td>&quot;boleto&quot;</td><td>0</td></tr><tr><td>&quot;2021-01-01&quot;</td><td>&quot;enero&quot;</td><td>2021</td><td>&quot;Linea 12&quot;</td><td>&quot;atlalilco&quot;</td><td>&quot;prepago&quot;</td><td>1141</td></tr><tr><td>&quot;2021-01-01&quot;</td><td>&quot;enero&quot;</td><td>2021</td><td>&quot;Linea 12&quot;</td><td>&quot;atlalilco&quot;</td><td>&quot;gratuidad&quot;</td><td>836</td></tr><tr><td>&quot;2021-01-01&quot;</td><td>&quot;enero&quot;</td><td>2021</td><td>&quot;Linea 12&quot;</td><td>&quot;calle 11&quot;</td><td>&quot;boleto&quot;</td><td>0</td></tr><tr><td>&quot;2021-01-01&quot;</td><td>&quot;enero&quot;</td><td>2021</td><td>&quot;Linea 12&quot;</td><td>&quot;calle 11&quot;</td><td>&quot;prepago&quot;</td><td>2063</td></tr><tr><td>&quot;2021-01-01&quot;</td><td>&quot;enero&quot;</td><td>2021</td><td>&quot;Linea 12&quot;</td><td>&quot;calle 11&quot;</td><td>&quot;gratuidad&quot;</td><td>311</td></tr><tr><td>&quot;2021-01-01&quot;</td><td>&quot;enero&quot;</td><td>2021</td><td>&quot;Linea 12&quot;</td><td>&quot;culhuacan&quot;</td><td>&quot;boleto&quot;</td><td>0</td></tr></tbody></table></div>"
      ],
      "text/plain": [
       "shape: (10, 7)\n",
       "┌────────────┬───────┬──────┬──────────┬──────────────────────────┬───────────┬───────────┐\n",
       "│ fecha      ┆ mes   ┆ anio ┆ linea    ┆ estacion                 ┆ tipo_pago ┆ afluencia │\n",
       "│ ---        ┆ ---   ┆ ---  ┆ ---      ┆ ---                      ┆ ---       ┆ ---       │\n",
       "│ str        ┆ str   ┆ i64  ┆ str      ┆ str                      ┆ str       ┆ i64       │\n",
       "╞════════════╪═══════╪══════╪══════════╪══════════════════════════╪═══════════╪═══════════╡\n",
       "│ 2021-01-01 ┆ enero ┆ 2021 ┆ Linea 12 ┆ hospital 20 de noviembre ┆ boleto    ┆ 0         │\n",
       "│ 2021-01-01 ┆ enero ┆ 2021 ┆ Linea 12 ┆ hospital 20 de noviembre ┆ prepago   ┆ 832       │\n",
       "│ 2021-01-01 ┆ enero ┆ 2021 ┆ Linea 12 ┆ hospital 20 de noviembre ┆ gratuidad ┆ 733       │\n",
       "│ 2021-01-01 ┆ enero ┆ 2021 ┆ Linea 12 ┆ atlalilco                ┆ boleto    ┆ 0         │\n",
       "│ 2021-01-01 ┆ enero ┆ 2021 ┆ Linea 12 ┆ atlalilco                ┆ prepago   ┆ 1141      │\n",
       "│ 2021-01-01 ┆ enero ┆ 2021 ┆ Linea 12 ┆ atlalilco                ┆ gratuidad ┆ 836       │\n",
       "│ 2021-01-01 ┆ enero ┆ 2021 ┆ Linea 12 ┆ calle 11                 ┆ boleto    ┆ 0         │\n",
       "│ 2021-01-01 ┆ enero ┆ 2021 ┆ Linea 12 ┆ calle 11                 ┆ prepago   ┆ 2063      │\n",
       "│ 2021-01-01 ┆ enero ┆ 2021 ┆ Linea 12 ┆ calle 11                 ┆ gratuidad ┆ 311       │\n",
       "│ 2021-01-01 ┆ enero ┆ 2021 ┆ Linea 12 ┆ culhuacan                ┆ boleto    ┆ 0         │\n",
       "└────────────┴───────┴──────┴──────────┴──────────────────────────┴───────────┴───────────┘"
      ]
     },
     "execution_count": 30,
     "metadata": {},
     "output_type": "execute_result"
    }
   ],
   "source": [
    "df =pl.read_csv('metro_cdmx/linea_12_limpio.csv')\n",
    "df.head(10)"
   ]
  },
  {
   "cell_type": "code",
   "execution_count": 31,
   "id": "ef6197db-33fd-4fda-a649-423dc024c036",
   "metadata": {},
   "outputs": [],
   "source": [
    "df_final = df.write_csv()\n",
    "with open(\"./metro_cdmx/linea_12_limpio.csv\",'wb') as f:\n",
    "    f.write(df_final.encode('utf-8-sig'))#Esto hace explicita la codificacion en Excel"
   ]
  },
  {
   "cell_type": "code",
   "execution_count": null,
   "id": "22d8cbf0-9108-4dd1-b193-79e857ad415f",
   "metadata": {},
   "outputs": [],
   "source": []
  }
 ],
 "metadata": {
  "kernelspec": {
   "display_name": "Python 3 (ipykernel)",
   "language": "python",
   "name": "python3"
  },
  "language_info": {
   "codemirror_mode": {
    "name": "ipython",
    "version": 3
   },
   "file_extension": ".py",
   "mimetype": "text/x-python",
   "name": "python",
   "nbconvert_exporter": "python",
   "pygments_lexer": "ipython3",
   "version": "3.12.3"
  }
 },
 "nbformat": 4,
 "nbformat_minor": 5
}
