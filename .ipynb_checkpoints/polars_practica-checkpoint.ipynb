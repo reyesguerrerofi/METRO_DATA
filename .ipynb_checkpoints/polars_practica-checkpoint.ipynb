{
 "cells": [
  {
   "cell_type": "code",
   "execution_count": 1,
   "id": "cd1077d9-3682-4fe1-9c4a-2cde36eebe66",
   "metadata": {},
   "outputs": [],
   "source": [
    "import polars as pl\n",
    "from datetime import datetime\n",
    "import unicodedata\n",
    "import os"
   ]
  },
  {
   "cell_type": "code",
   "execution_count": 2,
   "id": "231f2201-be0d-474a-a925-6d2ba0db43a7",
   "metadata": {},
   "outputs": [
    {
     "data": {
      "text/html": [
       "<div><style>\n",
       ".dataframe > thead > tr,\n",
       ".dataframe > tbody > tr {\n",
       "  text-align: right;\n",
       "  white-space: pre-wrap;\n",
       "}\n",
       "</style>\n",
       "<small>shape: (854_685, 7)</small><table border=\"1\" class=\"dataframe\"><thead><tr><th>fecha</th><th>mes</th><th>anio</th><th>linea</th><th>estacion</th><th>tipo_pago</th><th>afluencia</th></tr><tr><td>str</td><td>str</td><td>i64</td><td>str</td><td>str</td><td>str</td><td>i64</td></tr></thead><tbody><tr><td>&quot;2021-01-01&quot;</td><td>&quot;Enero&quot;</td><td>2021</td><td>&quot;Línea 1&quot;</td><td>&quot;Balbuena&quot;</td><td>&quot;Boleto&quot;</td><td>1848</td></tr><tr><td>&quot;2021-01-01&quot;</td><td>&quot;Enero&quot;</td><td>2021</td><td>&quot;Línea 1&quot;</td><td>&quot;Balbuena&quot;</td><td>&quot;Prepago&quot;</td><td>790</td></tr><tr><td>&quot;2021-01-01&quot;</td><td>&quot;Enero&quot;</td><td>2021</td><td>&quot;Línea 1&quot;</td><td>&quot;Balbuena&quot;</td><td>&quot;Gratuidad&quot;</td><td>325</td></tr><tr><td>&quot;2021-01-01&quot;</td><td>&quot;Enero&quot;</td><td>2021</td><td>&quot;Línea 1&quot;</td><td>&quot;Balderas&quot;</td><td>&quot;Boleto&quot;</td><td>1103</td></tr><tr><td>&quot;2021-01-01&quot;</td><td>&quot;Enero&quot;</td><td>2021</td><td>&quot;Línea 1&quot;</td><td>&quot;Balderas&quot;</td><td>&quot;Prepago&quot;</td><td>922</td></tr><tr><td>&hellip;</td><td>&hellip;</td><td>&hellip;</td><td>&hellip;</td><td>&hellip;</td><td>&hellip;</td><td>&hellip;</td></tr><tr><td>&quot;2024-12-31&quot;</td><td>&quot;Diciembre&quot;</td><td>2024</td><td>&quot;Linea 12&quot;</td><td>&quot;Insurgentes Sur&quot;</td><td>&quot;Prepago&quot;</td><td>14662</td></tr><tr><td>&quot;2024-12-31&quot;</td><td>&quot;Diciembre&quot;</td><td>2024</td><td>&quot;Linea 12&quot;</td><td>&quot;Insurgentes Sur&quot;</td><td>&quot;Gratuidad&quot;</td><td>1537</td></tr><tr><td>&quot;2024-12-31&quot;</td><td>&quot;Diciembre&quot;</td><td>2024</td><td>&quot;Linea 12&quot;</td><td>&quot;Mixcoac&quot;</td><td>&quot;Boleto&quot;</td><td>0</td></tr><tr><td>&quot;2024-12-31&quot;</td><td>&quot;Diciembre&quot;</td><td>2024</td><td>&quot;Linea 12&quot;</td><td>&quot;Mixcoac&quot;</td><td>&quot;Prepago&quot;</td><td>6654</td></tr><tr><td>&quot;2024-12-31&quot;</td><td>&quot;Diciembre&quot;</td><td>2024</td><td>&quot;Linea 12&quot;</td><td>&quot;Mixcoac&quot;</td><td>&quot;Gratuidad&quot;</td><td>733</td></tr></tbody></table></div>"
      ],
      "text/plain": [
       "shape: (854_685, 7)\n",
       "┌────────────┬───────────┬──────┬──────────┬─────────────────┬───────────┬───────────┐\n",
       "│ fecha      ┆ mes       ┆ anio ┆ linea    ┆ estacion        ┆ tipo_pago ┆ afluencia │\n",
       "│ ---        ┆ ---       ┆ ---  ┆ ---      ┆ ---             ┆ ---       ┆ ---       │\n",
       "│ str        ┆ str       ┆ i64  ┆ str      ┆ str             ┆ str       ┆ i64       │\n",
       "╞════════════╪═══════════╪══════╪══════════╪═════════════════╪═══════════╪═══════════╡\n",
       "│ 2021-01-01 ┆ Enero     ┆ 2021 ┆ Línea 1  ┆ Balbuena        ┆ Boleto    ┆ 1848      │\n",
       "│ 2021-01-01 ┆ Enero     ┆ 2021 ┆ Línea 1  ┆ Balbuena        ┆ Prepago   ┆ 790       │\n",
       "│ 2021-01-01 ┆ Enero     ┆ 2021 ┆ Línea 1  ┆ Balbuena        ┆ Gratuidad ┆ 325       │\n",
       "│ 2021-01-01 ┆ Enero     ┆ 2021 ┆ Línea 1  ┆ Balderas        ┆ Boleto    ┆ 1103      │\n",
       "│ 2021-01-01 ┆ Enero     ┆ 2021 ┆ Línea 1  ┆ Balderas        ┆ Prepago   ┆ 922       │\n",
       "│ …          ┆ …         ┆ …    ┆ …        ┆ …               ┆ …         ┆ …         │\n",
       "│ 2024-12-31 ┆ Diciembre ┆ 2024 ┆ Linea 12 ┆ Insurgentes Sur ┆ Prepago   ┆ 14662     │\n",
       "│ 2024-12-31 ┆ Diciembre ┆ 2024 ┆ Linea 12 ┆ Insurgentes Sur ┆ Gratuidad ┆ 1537      │\n",
       "│ 2024-12-31 ┆ Diciembre ┆ 2024 ┆ Linea 12 ┆ Mixcoac         ┆ Boleto    ┆ 0         │\n",
       "│ 2024-12-31 ┆ Diciembre ┆ 2024 ┆ Linea 12 ┆ Mixcoac         ┆ Prepago   ┆ 6654      │\n",
       "│ 2024-12-31 ┆ Diciembre ┆ 2024 ┆ Linea 12 ┆ Mixcoac         ┆ Gratuidad ┆ 733       │\n",
       "└────────────┴───────────┴──────┴──────────┴─────────────────┴───────────┴───────────┘"
      ]
     },
     "execution_count": 2,
     "metadata": {},
     "output_type": "execute_result"
    }
   ],
   "source": [
    "df = pl.read_csv('afluenciastc_desglosado_12_2024.csv')\n",
    "df #854,685"
   ]
  },
  {
   "cell_type": "code",
   "execution_count": 3,
   "id": "30375d75-3c79-44a4-a702-2919ce5cef10",
   "metadata": {},
   "outputs": [
    {
     "data": {
      "text/html": [
       "<div><style>\n",
       ".dataframe > thead > tr,\n",
       ".dataframe > tbody > tr {\n",
       "  text-align: right;\n",
       "  white-space: pre-wrap;\n",
       "}\n",
       "</style>\n",
       "<small>shape: (5, 7)</small><table border=\"1\" class=\"dataframe\"><thead><tr><th>fecha</th><th>mes</th><th>anio</th><th>linea</th><th>estacion</th><th>tipo_pago</th><th>afluencia</th></tr><tr><td>date</td><td>str</td><td>i64</td><td>str</td><td>str</td><td>str</td><td>i64</td></tr></thead><tbody><tr><td>2021-01-01</td><td>&quot;Enero&quot;</td><td>2021</td><td>&quot;Línea 1&quot;</td><td>&quot;Balbuena&quot;</td><td>&quot;Boleto&quot;</td><td>1848</td></tr><tr><td>2021-01-01</td><td>&quot;Enero&quot;</td><td>2021</td><td>&quot;Línea 1&quot;</td><td>&quot;Balbuena&quot;</td><td>&quot;Prepago&quot;</td><td>790</td></tr><tr><td>2021-01-01</td><td>&quot;Enero&quot;</td><td>2021</td><td>&quot;Línea 1&quot;</td><td>&quot;Balbuena&quot;</td><td>&quot;Gratuidad&quot;</td><td>325</td></tr><tr><td>2021-01-01</td><td>&quot;Enero&quot;</td><td>2021</td><td>&quot;Línea 1&quot;</td><td>&quot;Balderas&quot;</td><td>&quot;Boleto&quot;</td><td>1103</td></tr><tr><td>2021-01-01</td><td>&quot;Enero&quot;</td><td>2021</td><td>&quot;Línea 1&quot;</td><td>&quot;Balderas&quot;</td><td>&quot;Prepago&quot;</td><td>922</td></tr></tbody></table></div>"
      ],
      "text/plain": [
       "shape: (5, 7)\n",
       "┌────────────┬───────┬──────┬─────────┬──────────┬───────────┬───────────┐\n",
       "│ fecha      ┆ mes   ┆ anio ┆ linea   ┆ estacion ┆ tipo_pago ┆ afluencia │\n",
       "│ ---        ┆ ---   ┆ ---  ┆ ---     ┆ ---      ┆ ---       ┆ ---       │\n",
       "│ date       ┆ str   ┆ i64  ┆ str     ┆ str      ┆ str       ┆ i64       │\n",
       "╞════════════╪═══════╪══════╪═════════╪══════════╪═══════════╪═══════════╡\n",
       "│ 2021-01-01 ┆ Enero ┆ 2021 ┆ Línea 1 ┆ Balbuena ┆ Boleto    ┆ 1848      │\n",
       "│ 2021-01-01 ┆ Enero ┆ 2021 ┆ Línea 1 ┆ Balbuena ┆ Prepago   ┆ 790       │\n",
       "│ 2021-01-01 ┆ Enero ┆ 2021 ┆ Línea 1 ┆ Balbuena ┆ Gratuidad ┆ 325       │\n",
       "│ 2021-01-01 ┆ Enero ┆ 2021 ┆ Línea 1 ┆ Balderas ┆ Boleto    ┆ 1103      │\n",
       "│ 2021-01-01 ┆ Enero ┆ 2021 ┆ Línea 1 ┆ Balderas ┆ Prepago   ┆ 922       │\n",
       "└────────────┴───────┴──────┴─────────┴──────────┴───────────┴───────────┘"
      ]
     },
     "execution_count": 3,
     "metadata": {},
     "output_type": "execute_result"
    }
   ],
   "source": [
    "# Convertir a fechas \n",
    "df = df.with_columns(pl.col('fecha').cast(pl.Date))\n",
    "df = df.sort('fecha')\n",
    "df.head()"
   ]
  },
  {
   "cell_type": "code",
   "execution_count": 4,
   "id": "224882d3-1cc9-4fad-bd6b-aa0d1cbe825f",
   "metadata": {},
   "outputs": [
    {
     "data": {
      "text/plain": [
       "Schema([('fecha', Date),\n",
       "        ('mes', String),\n",
       "        ('anio', Int64),\n",
       "        ('linea', String),\n",
       "        ('estacion', String),\n",
       "        ('tipo_pago', String),\n",
       "        ('afluencia', Int64)])"
      ]
     },
     "execution_count": 4,
     "metadata": {},
     "output_type": "execute_result"
    }
   ],
   "source": [
    "df.schema"
   ]
  },
  {
   "cell_type": "code",
   "execution_count": 5,
   "id": "8f36eedf-9230-4853-a7d5-6e8fac3143ae",
   "metadata": {},
   "outputs": [
    {
     "data": {
      "text/html": [
       "<div><style>\n",
       ".dataframe > thead > tr,\n",
       ".dataframe > tbody > tr {\n",
       "  text-align: right;\n",
       "  white-space: pre-wrap;\n",
       "}\n",
       "</style>\n",
       "<small>shape: (4, 1)</small><table border=\"1\" class=\"dataframe\"><thead><tr><th>anio</th></tr><tr><td>i64</td></tr></thead><tbody><tr><td>2021</td></tr><tr><td>2022</td></tr><tr><td>2023</td></tr><tr><td>2024</td></tr></tbody></table></div>"
      ],
      "text/plain": [
       "shape: (4, 1)\n",
       "┌──────┐\n",
       "│ anio │\n",
       "│ ---  │\n",
       "│ i64  │\n",
       "╞══════╡\n",
       "│ 2021 │\n",
       "│ 2022 │\n",
       "│ 2023 │\n",
       "│ 2024 │\n",
       "└──────┘"
      ]
     },
     "execution_count": 5,
     "metadata": {},
     "output_type": "execute_result"
    }
   ],
   "source": [
    "# Revisando columnas\n",
    "\n",
    "columna = df.select(pl.col(\"anio\").unique())\n",
    "columna\n",
    "#Fecha - Date\n",
    "#Mes - Tiene un valores en NA\n",
    "#Anio - solo cubre 4 años en el DataSet desplegado\n",
    "#Lineas - tienen nombres con acento y sin acento, por lo que son más\n",
    "#Estaciones - Son 195 oficialmente pero marca 216\n",
    "#Tipo pago - Solo son 3\n",
    "#Afluencia - Int64\n"
   ]
  },
  {
   "cell_type": "code",
   "execution_count": 6,
   "id": "2504bbbc-b50e-4c21-8295-c5de1e41da21",
   "metadata": {},
   "outputs": [
    {
     "data": {
      "text/html": [
       "<div><style>\n",
       ".dataframe > thead > tr,\n",
       ".dataframe > tbody > tr {\n",
       "  text-align: right;\n",
       "  white-space: pre-wrap;\n",
       "}\n",
       "</style>\n",
       "<small>shape: (18_135, 7)</small><table border=\"1\" class=\"dataframe\"><thead><tr><th>fecha</th><th>mes</th><th>anio</th><th>linea</th><th>estacion</th><th>tipo_pago</th><th>afluencia</th></tr><tr><td>date</td><td>str</td><td>i64</td><td>str</td><td>str</td><td>str</td><td>i64</td></tr></thead><tbody><tr><td>2023-12-01</td><td>&quot;NA&quot;</td><td>2023</td><td>&quot;Línea 1&quot;</td><td>&quot;Pantitlán&quot;</td><td>&quot;Boleto&quot;</td><td>0</td></tr><tr><td>2023-12-01</td><td>&quot;NA&quot;</td><td>2023</td><td>&quot;Línea 1&quot;</td><td>&quot;Pantitlán&quot;</td><td>&quot;Prepago&quot;</td><td>22826</td></tr><tr><td>2023-12-01</td><td>&quot;NA&quot;</td><td>2023</td><td>&quot;Línea 1&quot;</td><td>&quot;Pantitlán&quot;</td><td>&quot;Gratuidad&quot;</td><td>3930</td></tr><tr><td>2023-12-01</td><td>&quot;NA&quot;</td><td>2023</td><td>&quot;Línea 1&quot;</td><td>&quot;Zaragoza&quot;</td><td>&quot;Boleto&quot;</td><td>0</td></tr><tr><td>2023-12-01</td><td>&quot;NA&quot;</td><td>2023</td><td>&quot;Línea 1&quot;</td><td>&quot;Zaragoza&quot;</td><td>&quot;Prepago&quot;</td><td>15315</td></tr><tr><td>&hellip;</td><td>&hellip;</td><td>&hellip;</td><td>&hellip;</td><td>&hellip;</td><td>&hellip;</td><td>&hellip;</td></tr><tr><td>2023-12-31</td><td>&quot;NA&quot;</td><td>2023</td><td>&quot;Línea 12&quot;</td><td>&quot;Insurgentes Sur&quot;</td><td>&quot;Prepago&quot;</td><td>6129</td></tr><tr><td>2023-12-31</td><td>&quot;NA&quot;</td><td>2023</td><td>&quot;Línea 12&quot;</td><td>&quot;Insurgentes Sur&quot;</td><td>&quot;Gratuidad&quot;</td><td>897</td></tr><tr><td>2023-12-31</td><td>&quot;NA&quot;</td><td>2023</td><td>&quot;Línea 12&quot;</td><td>&quot;Mixcoac&quot;</td><td>&quot;Boleto&quot;</td><td>0</td></tr><tr><td>2023-12-31</td><td>&quot;NA&quot;</td><td>2023</td><td>&quot;Línea 12&quot;</td><td>&quot;Mixcoac&quot;</td><td>&quot;Prepago&quot;</td><td>2961</td></tr><tr><td>2023-12-31</td><td>&quot;NA&quot;</td><td>2023</td><td>&quot;Línea 12&quot;</td><td>&quot;Mixcoac&quot;</td><td>&quot;Gratuidad&quot;</td><td>368</td></tr></tbody></table></div>"
      ],
      "text/plain": [
       "shape: (18_135, 7)\n",
       "┌────────────┬─────┬──────┬──────────┬─────────────────┬───────────┬───────────┐\n",
       "│ fecha      ┆ mes ┆ anio ┆ linea    ┆ estacion        ┆ tipo_pago ┆ afluencia │\n",
       "│ ---        ┆ --- ┆ ---  ┆ ---      ┆ ---             ┆ ---       ┆ ---       │\n",
       "│ date       ┆ str ┆ i64  ┆ str      ┆ str             ┆ str       ┆ i64       │\n",
       "╞════════════╪═════╪══════╪══════════╪═════════════════╪═══════════╪═══════════╡\n",
       "│ 2023-12-01 ┆ NA  ┆ 2023 ┆ Línea 1  ┆ Pantitlán       ┆ Boleto    ┆ 0         │\n",
       "│ 2023-12-01 ┆ NA  ┆ 2023 ┆ Línea 1  ┆ Pantitlán       ┆ Prepago   ┆ 22826     │\n",
       "│ 2023-12-01 ┆ NA  ┆ 2023 ┆ Línea 1  ┆ Pantitlán       ┆ Gratuidad ┆ 3930      │\n",
       "│ 2023-12-01 ┆ NA  ┆ 2023 ┆ Línea 1  ┆ Zaragoza        ┆ Boleto    ┆ 0         │\n",
       "│ 2023-12-01 ┆ NA  ┆ 2023 ┆ Línea 1  ┆ Zaragoza        ┆ Prepago   ┆ 15315     │\n",
       "│ …          ┆ …   ┆ …    ┆ …        ┆ …               ┆ …         ┆ …         │\n",
       "│ 2023-12-31 ┆ NA  ┆ 2023 ┆ Línea 12 ┆ Insurgentes Sur ┆ Prepago   ┆ 6129      │\n",
       "│ 2023-12-31 ┆ NA  ┆ 2023 ┆ Línea 12 ┆ Insurgentes Sur ┆ Gratuidad ┆ 897       │\n",
       "│ 2023-12-31 ┆ NA  ┆ 2023 ┆ Línea 12 ┆ Mixcoac         ┆ Boleto    ┆ 0         │\n",
       "│ 2023-12-31 ┆ NA  ┆ 2023 ┆ Línea 12 ┆ Mixcoac         ┆ Prepago   ┆ 2961      │\n",
       "│ 2023-12-31 ┆ NA  ┆ 2023 ┆ Línea 12 ┆ Mixcoac         ┆ Gratuidad ┆ 368       │\n",
       "└────────────┴─────┴──────┴──────────┴─────────────────┴───────────┴───────────┘"
      ]
     },
     "execution_count": 6,
     "metadata": {},
     "output_type": "execute_result"
    }
   ],
   "source": [
    "df.filter(pl.col('mes')=='NA')"
   ]
  },
  {
   "cell_type": "markdown",
   "id": "7df0f588-d2da-4fec-aebe-e8e8a6632535",
   "metadata": {},
   "source": [
    "# Limpiar"
   ]
  },
  {
   "cell_type": "markdown",
   "id": "7dd2b78b-ada2-4e1f-8598-661b93818521",
   "metadata": {},
   "source": [
    "## Meses"
   ]
  },
  {
   "cell_type": "code",
   "execution_count": 7,
   "id": "cab68312-8344-4d5a-b82a-958a9726d51d",
   "metadata": {},
   "outputs": [
    {
     "data": {
      "text/html": [
       "<div><style>\n",
       ".dataframe > thead > tr,\n",
       ".dataframe > tbody > tr {\n",
       "  text-align: right;\n",
       "  white-space: pre-wrap;\n",
       "}\n",
       "</style>\n",
       "<small>shape: (1, 1)</small><table border=\"1\" class=\"dataframe\"><thead><tr><th>mes</th></tr><tr><td>u32</td></tr></thead><tbody><tr><td>0</td></tr></tbody></table></div>"
      ],
      "text/plain": [
       "shape: (1, 1)\n",
       "┌─────┐\n",
       "│ mes │\n",
       "│ --- │\n",
       "│ u32 │\n",
       "╞═════╡\n",
       "│ 0   │\n",
       "└─────┘"
      ]
     },
     "execution_count": 7,
     "metadata": {},
     "output_type": "execute_result"
    }
   ],
   "source": [
    "#Nulos\n",
    "df.select(pl.col('mes').is_null()).sum()\n",
    "#No hay nulos"
   ]
  },
  {
   "cell_type": "code",
   "execution_count": 8,
   "id": "b1f91a97-0d36-4a6f-85ba-62bd16903e4e",
   "metadata": {},
   "outputs": [
    {
     "data": {
      "text/html": [
       "<div><style>\n",
       ".dataframe > thead > tr,\n",
       ".dataframe > tbody > tr {\n",
       "  text-align: right;\n",
       "  white-space: pre-wrap;\n",
       "}\n",
       "</style>\n",
       "<small>shape: (18_135, 7)</small><table border=\"1\" class=\"dataframe\"><thead><tr><th>fecha</th><th>mes</th><th>anio</th><th>linea</th><th>estacion</th><th>tipo_pago</th><th>afluencia</th></tr><tr><td>date</td><td>str</td><td>i64</td><td>str</td><td>str</td><td>str</td><td>i64</td></tr></thead><tbody><tr><td>2023-12-01</td><td>&quot;NA&quot;</td><td>2023</td><td>&quot;Línea 1&quot;</td><td>&quot;Pantitlán&quot;</td><td>&quot;Boleto&quot;</td><td>0</td></tr><tr><td>2023-12-01</td><td>&quot;NA&quot;</td><td>2023</td><td>&quot;Línea 1&quot;</td><td>&quot;Pantitlán&quot;</td><td>&quot;Prepago&quot;</td><td>22826</td></tr><tr><td>2023-12-01</td><td>&quot;NA&quot;</td><td>2023</td><td>&quot;Línea 1&quot;</td><td>&quot;Pantitlán&quot;</td><td>&quot;Gratuidad&quot;</td><td>3930</td></tr><tr><td>2023-12-01</td><td>&quot;NA&quot;</td><td>2023</td><td>&quot;Línea 1&quot;</td><td>&quot;Zaragoza&quot;</td><td>&quot;Boleto&quot;</td><td>0</td></tr><tr><td>2023-12-01</td><td>&quot;NA&quot;</td><td>2023</td><td>&quot;Línea 1&quot;</td><td>&quot;Zaragoza&quot;</td><td>&quot;Prepago&quot;</td><td>15315</td></tr><tr><td>&hellip;</td><td>&hellip;</td><td>&hellip;</td><td>&hellip;</td><td>&hellip;</td><td>&hellip;</td><td>&hellip;</td></tr><tr><td>2023-12-31</td><td>&quot;NA&quot;</td><td>2023</td><td>&quot;Línea 12&quot;</td><td>&quot;Insurgentes Sur&quot;</td><td>&quot;Prepago&quot;</td><td>6129</td></tr><tr><td>2023-12-31</td><td>&quot;NA&quot;</td><td>2023</td><td>&quot;Línea 12&quot;</td><td>&quot;Insurgentes Sur&quot;</td><td>&quot;Gratuidad&quot;</td><td>897</td></tr><tr><td>2023-12-31</td><td>&quot;NA&quot;</td><td>2023</td><td>&quot;Línea 12&quot;</td><td>&quot;Mixcoac&quot;</td><td>&quot;Boleto&quot;</td><td>0</td></tr><tr><td>2023-12-31</td><td>&quot;NA&quot;</td><td>2023</td><td>&quot;Línea 12&quot;</td><td>&quot;Mixcoac&quot;</td><td>&quot;Prepago&quot;</td><td>2961</td></tr><tr><td>2023-12-31</td><td>&quot;NA&quot;</td><td>2023</td><td>&quot;Línea 12&quot;</td><td>&quot;Mixcoac&quot;</td><td>&quot;Gratuidad&quot;</td><td>368</td></tr></tbody></table></div>"
      ],
      "text/plain": [
       "shape: (18_135, 7)\n",
       "┌────────────┬─────┬──────┬──────────┬─────────────────┬───────────┬───────────┐\n",
       "│ fecha      ┆ mes ┆ anio ┆ linea    ┆ estacion        ┆ tipo_pago ┆ afluencia │\n",
       "│ ---        ┆ --- ┆ ---  ┆ ---      ┆ ---             ┆ ---       ┆ ---       │\n",
       "│ date       ┆ str ┆ i64  ┆ str      ┆ str             ┆ str       ┆ i64       │\n",
       "╞════════════╪═════╪══════╪══════════╪═════════════════╪═══════════╪═══════════╡\n",
       "│ 2023-12-01 ┆ NA  ┆ 2023 ┆ Línea 1  ┆ Pantitlán       ┆ Boleto    ┆ 0         │\n",
       "│ 2023-12-01 ┆ NA  ┆ 2023 ┆ Línea 1  ┆ Pantitlán       ┆ Prepago   ┆ 22826     │\n",
       "│ 2023-12-01 ┆ NA  ┆ 2023 ┆ Línea 1  ┆ Pantitlán       ┆ Gratuidad ┆ 3930      │\n",
       "│ 2023-12-01 ┆ NA  ┆ 2023 ┆ Línea 1  ┆ Zaragoza        ┆ Boleto    ┆ 0         │\n",
       "│ 2023-12-01 ┆ NA  ┆ 2023 ┆ Línea 1  ┆ Zaragoza        ┆ Prepago   ┆ 15315     │\n",
       "│ …          ┆ …   ┆ …    ┆ …        ┆ …               ┆ …         ┆ …         │\n",
       "│ 2023-12-31 ┆ NA  ┆ 2023 ┆ Línea 12 ┆ Insurgentes Sur ┆ Prepago   ┆ 6129      │\n",
       "│ 2023-12-31 ┆ NA  ┆ 2023 ┆ Línea 12 ┆ Insurgentes Sur ┆ Gratuidad ┆ 897       │\n",
       "│ 2023-12-31 ┆ NA  ┆ 2023 ┆ Línea 12 ┆ Mixcoac         ┆ Boleto    ┆ 0         │\n",
       "│ 2023-12-31 ┆ NA  ┆ 2023 ┆ Línea 12 ┆ Mixcoac         ┆ Prepago   ┆ 2961      │\n",
       "│ 2023-12-31 ┆ NA  ┆ 2023 ┆ Línea 12 ┆ Mixcoac         ┆ Gratuidad ┆ 368       │\n",
       "└────────────┴─────┴──────┴──────────┴─────────────────┴───────────┴───────────┘"
      ]
     },
     "execution_count": 8,
     "metadata": {},
     "output_type": "execute_result"
    }
   ],
   "source": [
    "df.filter(pl.col('mes')=='NA')#Hay 18k valores NA pero tienen correspondencia con fecha (fecha no tiene nulos)"
   ]
  },
  {
   "cell_type": "markdown",
   "id": "6e6f7ae9-408e-4c60-aa69-602c1b504ac3",
   "metadata": {},
   "source": [
    "### Pasos a seguir\n",
    "- Minusculas meses\n",
    "- Extraer de fecha el mes y asociarlo a columna mes"
   ]
  },
  {
   "cell_type": "code",
   "execution_count": 9,
   "id": "44b29390-bd89-414f-884d-709131556be2",
   "metadata": {},
   "outputs": [
    {
     "data": {
      "text/html": [
       "<div><style>\n",
       ".dataframe > thead > tr,\n",
       ".dataframe > tbody > tr {\n",
       "  text-align: right;\n",
       "  white-space: pre-wrap;\n",
       "}\n",
       "</style>\n",
       "<small>shape: (854_685, 7)</small><table border=\"1\" class=\"dataframe\"><thead><tr><th>fecha</th><th>mes</th><th>anio</th><th>linea</th><th>estacion</th><th>tipo_pago</th><th>afluencia</th></tr><tr><td>date</td><td>str</td><td>i64</td><td>str</td><td>str</td><td>str</td><td>i64</td></tr></thead><tbody><tr><td>2021-01-01</td><td>&quot;enero&quot;</td><td>2021</td><td>&quot;Línea 1&quot;</td><td>&quot;Balbuena&quot;</td><td>&quot;Boleto&quot;</td><td>1848</td></tr><tr><td>2021-01-01</td><td>&quot;enero&quot;</td><td>2021</td><td>&quot;Línea 1&quot;</td><td>&quot;Balbuena&quot;</td><td>&quot;Prepago&quot;</td><td>790</td></tr><tr><td>2021-01-01</td><td>&quot;enero&quot;</td><td>2021</td><td>&quot;Línea 1&quot;</td><td>&quot;Balbuena&quot;</td><td>&quot;Gratuidad&quot;</td><td>325</td></tr><tr><td>2021-01-01</td><td>&quot;enero&quot;</td><td>2021</td><td>&quot;Línea 1&quot;</td><td>&quot;Balderas&quot;</td><td>&quot;Boleto&quot;</td><td>1103</td></tr><tr><td>2021-01-01</td><td>&quot;enero&quot;</td><td>2021</td><td>&quot;Línea 1&quot;</td><td>&quot;Balderas&quot;</td><td>&quot;Prepago&quot;</td><td>922</td></tr><tr><td>&hellip;</td><td>&hellip;</td><td>&hellip;</td><td>&hellip;</td><td>&hellip;</td><td>&hellip;</td><td>&hellip;</td></tr><tr><td>2024-12-31</td><td>&quot;diciembre&quot;</td><td>2024</td><td>&quot;Linea 12&quot;</td><td>&quot;Insurgentes Sur&quot;</td><td>&quot;Prepago&quot;</td><td>14662</td></tr><tr><td>2024-12-31</td><td>&quot;diciembre&quot;</td><td>2024</td><td>&quot;Linea 12&quot;</td><td>&quot;Insurgentes Sur&quot;</td><td>&quot;Gratuidad&quot;</td><td>1537</td></tr><tr><td>2024-12-31</td><td>&quot;diciembre&quot;</td><td>2024</td><td>&quot;Linea 12&quot;</td><td>&quot;Mixcoac&quot;</td><td>&quot;Boleto&quot;</td><td>0</td></tr><tr><td>2024-12-31</td><td>&quot;diciembre&quot;</td><td>2024</td><td>&quot;Linea 12&quot;</td><td>&quot;Mixcoac&quot;</td><td>&quot;Prepago&quot;</td><td>6654</td></tr><tr><td>2024-12-31</td><td>&quot;diciembre&quot;</td><td>2024</td><td>&quot;Linea 12&quot;</td><td>&quot;Mixcoac&quot;</td><td>&quot;Gratuidad&quot;</td><td>733</td></tr></tbody></table></div>"
      ],
      "text/plain": [
       "shape: (854_685, 7)\n",
       "┌────────────┬───────────┬──────┬──────────┬─────────────────┬───────────┬───────────┐\n",
       "│ fecha      ┆ mes       ┆ anio ┆ linea    ┆ estacion        ┆ tipo_pago ┆ afluencia │\n",
       "│ ---        ┆ ---       ┆ ---  ┆ ---      ┆ ---             ┆ ---       ┆ ---       │\n",
       "│ date       ┆ str       ┆ i64  ┆ str      ┆ str             ┆ str       ┆ i64       │\n",
       "╞════════════╪═══════════╪══════╪══════════╪═════════════════╪═══════════╪═══════════╡\n",
       "│ 2021-01-01 ┆ enero     ┆ 2021 ┆ Línea 1  ┆ Balbuena        ┆ Boleto    ┆ 1848      │\n",
       "│ 2021-01-01 ┆ enero     ┆ 2021 ┆ Línea 1  ┆ Balbuena        ┆ Prepago   ┆ 790       │\n",
       "│ 2021-01-01 ┆ enero     ┆ 2021 ┆ Línea 1  ┆ Balbuena        ┆ Gratuidad ┆ 325       │\n",
       "│ 2021-01-01 ┆ enero     ┆ 2021 ┆ Línea 1  ┆ Balderas        ┆ Boleto    ┆ 1103      │\n",
       "│ 2021-01-01 ┆ enero     ┆ 2021 ┆ Línea 1  ┆ Balderas        ┆ Prepago   ┆ 922       │\n",
       "│ …          ┆ …         ┆ …    ┆ …        ┆ …               ┆ …         ┆ …         │\n",
       "│ 2024-12-31 ┆ diciembre ┆ 2024 ┆ Linea 12 ┆ Insurgentes Sur ┆ Prepago   ┆ 14662     │\n",
       "│ 2024-12-31 ┆ diciembre ┆ 2024 ┆ Linea 12 ┆ Insurgentes Sur ┆ Gratuidad ┆ 1537      │\n",
       "│ 2024-12-31 ┆ diciembre ┆ 2024 ┆ Linea 12 ┆ Mixcoac         ┆ Boleto    ┆ 0         │\n",
       "│ 2024-12-31 ┆ diciembre ┆ 2024 ┆ Linea 12 ┆ Mixcoac         ┆ Prepago   ┆ 6654      │\n",
       "│ 2024-12-31 ┆ diciembre ┆ 2024 ┆ Linea 12 ┆ Mixcoac         ┆ Gratuidad ┆ 733       │\n",
       "└────────────┴───────────┴──────┴──────────┴─────────────────┴───────────┴───────────┘"
      ]
     },
     "execution_count": 9,
     "metadata": {},
     "output_type": "execute_result"
    }
   ],
   "source": [
    "df = df.with_columns(pl.col('mes').str.to_lowercase())\n",
    "df"
   ]
  },
  {
   "cell_type": "code",
   "execution_count": 10,
   "id": "f0b4c971-31da-455b-9ef6-6d4f670f95f9",
   "metadata": {},
   "outputs": [],
   "source": [
    "meses = {\n",
    "    'january'  :'enero',\n",
    "    'february' :'febrero',\n",
    "    'march'    :'marzo',\n",
    "    'april'    :'abril',\n",
    "    'may'      :'mayo',\n",
    "    'june'     :'junio',\n",
    "    'july'     :'julio',\n",
    "    'august'   :'agosto',\n",
    "    'september':'septiembre',\n",
    "    'october'  :'octubre',\n",
    "    'november' :'noviembre',\n",
    "    'december' :'diciembre'\n",
    "}\n",
    "\n",
    "months = pl.col('fecha').dt.strftime(\"%B\").str.to_lowercase().alias(\"month\")\n",
    "meses_final = months.replace(meses)"
   ]
  },
  {
   "cell_type": "code",
   "execution_count": 11,
   "id": "8b1aebe7-396d-48df-b460-dd1f3b8b9a68",
   "metadata": {},
   "outputs": [
    {
     "data": {
      "text/html": [
       "col(\"fecha\").dt.to_string().str.lowercase().alias(\"month\").replace([Series, Series])"
      ],
      "text/plain": [
       "<Expr ['col(\"fecha\").dt.to_string().st…'] at 0x1A9FABD1400>"
      ]
     },
     "execution_count": 11,
     "metadata": {},
     "output_type": "execute_result"
    }
   ],
   "source": [
    "meses_final"
   ]
  },
  {
   "cell_type": "code",
   "execution_count": 12,
   "id": "62138b0c-1264-4b84-923d-799406b201f7",
   "metadata": {},
   "outputs": [
    {
     "data": {
      "text/html": [
       "<div><style>\n",
       ".dataframe > thead > tr,\n",
       ".dataframe > tbody > tr {\n",
       "  text-align: right;\n",
       "  white-space: pre-wrap;\n",
       "}\n",
       "</style>\n",
       "<small>shape: (854_685, 8)</small><table border=\"1\" class=\"dataframe\"><thead><tr><th>fecha</th><th>mes</th><th>anio</th><th>linea</th><th>estacion</th><th>tipo_pago</th><th>afluencia</th><th>meses</th></tr><tr><td>date</td><td>str</td><td>i64</td><td>str</td><td>str</td><td>str</td><td>i64</td><td>str</td></tr></thead><tbody><tr><td>2021-01-01</td><td>&quot;enero&quot;</td><td>2021</td><td>&quot;Línea 1&quot;</td><td>&quot;Balbuena&quot;</td><td>&quot;Boleto&quot;</td><td>1848</td><td>&quot;enero&quot;</td></tr><tr><td>2021-01-01</td><td>&quot;enero&quot;</td><td>2021</td><td>&quot;Línea 1&quot;</td><td>&quot;Balbuena&quot;</td><td>&quot;Prepago&quot;</td><td>790</td><td>&quot;enero&quot;</td></tr><tr><td>2021-01-01</td><td>&quot;enero&quot;</td><td>2021</td><td>&quot;Línea 1&quot;</td><td>&quot;Balbuena&quot;</td><td>&quot;Gratuidad&quot;</td><td>325</td><td>&quot;enero&quot;</td></tr><tr><td>2021-01-01</td><td>&quot;enero&quot;</td><td>2021</td><td>&quot;Línea 1&quot;</td><td>&quot;Balderas&quot;</td><td>&quot;Boleto&quot;</td><td>1103</td><td>&quot;enero&quot;</td></tr><tr><td>2021-01-01</td><td>&quot;enero&quot;</td><td>2021</td><td>&quot;Línea 1&quot;</td><td>&quot;Balderas&quot;</td><td>&quot;Prepago&quot;</td><td>922</td><td>&quot;enero&quot;</td></tr><tr><td>&hellip;</td><td>&hellip;</td><td>&hellip;</td><td>&hellip;</td><td>&hellip;</td><td>&hellip;</td><td>&hellip;</td><td>&hellip;</td></tr><tr><td>2024-12-31</td><td>&quot;diciembre&quot;</td><td>2024</td><td>&quot;Linea 12&quot;</td><td>&quot;Insurgentes Sur&quot;</td><td>&quot;Prepago&quot;</td><td>14662</td><td>&quot;diciembre&quot;</td></tr><tr><td>2024-12-31</td><td>&quot;diciembre&quot;</td><td>2024</td><td>&quot;Linea 12&quot;</td><td>&quot;Insurgentes Sur&quot;</td><td>&quot;Gratuidad&quot;</td><td>1537</td><td>&quot;diciembre&quot;</td></tr><tr><td>2024-12-31</td><td>&quot;diciembre&quot;</td><td>2024</td><td>&quot;Linea 12&quot;</td><td>&quot;Mixcoac&quot;</td><td>&quot;Boleto&quot;</td><td>0</td><td>&quot;diciembre&quot;</td></tr><tr><td>2024-12-31</td><td>&quot;diciembre&quot;</td><td>2024</td><td>&quot;Linea 12&quot;</td><td>&quot;Mixcoac&quot;</td><td>&quot;Prepago&quot;</td><td>6654</td><td>&quot;diciembre&quot;</td></tr><tr><td>2024-12-31</td><td>&quot;diciembre&quot;</td><td>2024</td><td>&quot;Linea 12&quot;</td><td>&quot;Mixcoac&quot;</td><td>&quot;Gratuidad&quot;</td><td>733</td><td>&quot;diciembre&quot;</td></tr></tbody></table></div>"
      ],
      "text/plain": [
       "shape: (854_685, 8)\n",
       "┌────────────┬───────────┬──────┬──────────┬─────────────────┬───────────┬───────────┬───────────┐\n",
       "│ fecha      ┆ mes       ┆ anio ┆ linea    ┆ estacion        ┆ tipo_pago ┆ afluencia ┆ meses     │\n",
       "│ ---        ┆ ---       ┆ ---  ┆ ---      ┆ ---             ┆ ---       ┆ ---       ┆ ---       │\n",
       "│ date       ┆ str       ┆ i64  ┆ str      ┆ str             ┆ str       ┆ i64       ┆ str       │\n",
       "╞════════════╪═══════════╪══════╪══════════╪═════════════════╪═══════════╪═══════════╪═══════════╡\n",
       "│ 2021-01-01 ┆ enero     ┆ 2021 ┆ Línea 1  ┆ Balbuena        ┆ Boleto    ┆ 1848      ┆ enero     │\n",
       "│ 2021-01-01 ┆ enero     ┆ 2021 ┆ Línea 1  ┆ Balbuena        ┆ Prepago   ┆ 790       ┆ enero     │\n",
       "│ 2021-01-01 ┆ enero     ┆ 2021 ┆ Línea 1  ┆ Balbuena        ┆ Gratuidad ┆ 325       ┆ enero     │\n",
       "│ 2021-01-01 ┆ enero     ┆ 2021 ┆ Línea 1  ┆ Balderas        ┆ Boleto    ┆ 1103      ┆ enero     │\n",
       "│ 2021-01-01 ┆ enero     ┆ 2021 ┆ Línea 1  ┆ Balderas        ┆ Prepago   ┆ 922       ┆ enero     │\n",
       "│ …          ┆ …         ┆ …    ┆ …        ┆ …               ┆ …         ┆ …         ┆ …         │\n",
       "│ 2024-12-31 ┆ diciembre ┆ 2024 ┆ Linea 12 ┆ Insurgentes Sur ┆ Prepago   ┆ 14662     ┆ diciembre │\n",
       "│ 2024-12-31 ┆ diciembre ┆ 2024 ┆ Linea 12 ┆ Insurgentes Sur ┆ Gratuidad ┆ 1537      ┆ diciembre │\n",
       "│ 2024-12-31 ┆ diciembre ┆ 2024 ┆ Linea 12 ┆ Mixcoac         ┆ Boleto    ┆ 0         ┆ diciembre │\n",
       "│ 2024-12-31 ┆ diciembre ┆ 2024 ┆ Linea 12 ┆ Mixcoac         ┆ Prepago   ┆ 6654      ┆ diciembre │\n",
       "│ 2024-12-31 ┆ diciembre ┆ 2024 ┆ Linea 12 ┆ Mixcoac         ┆ Gratuidad ┆ 733       ┆ diciembre │\n",
       "└────────────┴───────────┴──────┴──────────┴─────────────────┴───────────┴───────────┴───────────┘"
      ]
     },
     "execution_count": 12,
     "metadata": {},
     "output_type": "execute_result"
    }
   ],
   "source": [
    "df = df.with_columns(\n",
    "    pl.when(pl.col(\"mes\")=='NA')  # Si el valor en \"meses\" es NA\n",
    "    .then(meses_final)                # Asignar el mes traducido\n",
    "    .otherwise(pl.col(\"mes\"))         # De lo contrario, mantener el valor original\n",
    "    .alias(\"meses\")                     # Actualizar la columna \"meses\"\n",
    ")\n",
    "df"
   ]
  },
  {
   "cell_type": "code",
   "execution_count": 13,
   "id": "dadcf2e0-28fd-4c0a-89a6-4955e62a0d49",
   "metadata": {},
   "outputs": [
    {
     "data": {
      "text/html": [
       "<div><style>\n",
       ".dataframe > thead > tr,\n",
       ".dataframe > tbody > tr {\n",
       "  text-align: right;\n",
       "  white-space: pre-wrap;\n",
       "}\n",
       "</style>\n",
       "<small>shape: (0, 8)</small><table border=\"1\" class=\"dataframe\"><thead><tr><th>fecha</th><th>mes</th><th>anio</th><th>linea</th><th>estacion</th><th>tipo_pago</th><th>afluencia</th><th>meses</th></tr><tr><td>date</td><td>str</td><td>i64</td><td>str</td><td>str</td><td>str</td><td>i64</td><td>str</td></tr></thead><tbody></tbody></table></div>"
      ],
      "text/plain": [
       "shape: (0, 8)\n",
       "┌───────┬─────┬──────┬───────┬──────────┬───────────┬───────────┬───────┐\n",
       "│ fecha ┆ mes ┆ anio ┆ linea ┆ estacion ┆ tipo_pago ┆ afluencia ┆ meses │\n",
       "│ ---   ┆ --- ┆ ---  ┆ ---   ┆ ---      ┆ ---       ┆ ---       ┆ ---   │\n",
       "│ date  ┆ str ┆ i64  ┆ str   ┆ str      ┆ str       ┆ i64       ┆ str   │\n",
       "╞═══════╪═════╪══════╪═══════╪══════════╪═══════════╪═══════════╪═══════╡\n",
       "└───────┴─────┴──────┴───────┴──────────┴───────────┴───────────┴───────┘"
      ]
     },
     "execution_count": 13,
     "metadata": {},
     "output_type": "execute_result"
    }
   ],
   "source": [
    "df.filter(pl.col('mes')=='NA')#Hay 18k valores NA pero tienen correspondencia con fecha (fecha no tiene nulos)"
   ]
  },
  {
   "cell_type": "markdown",
   "id": "d8883152-58c5-4859-8fe2-ca26fe1888ff",
   "metadata": {},
   "source": [
    "### Lineas metro"
   ]
  },
  {
   "cell_type": "code",
   "execution_count": 14,
   "id": "6292e34f-a0b8-4230-a596-27995090f4b2",
   "metadata": {},
   "outputs": [
    {
     "data": {
      "text/plain": [
       "['Linea 3',\n",
       " 'Linea 7',\n",
       " 'Línea 1',\n",
       " 'Línea 6',\n",
       " 'Linea B',\n",
       " 'Línea 12',\n",
       " 'Linea 4',\n",
       " 'Linea 8',\n",
       " 'Linea 9',\n",
       " 'Línea B',\n",
       " 'Linea 2',\n",
       " 'Línea A',\n",
       " 'Linea A',\n",
       " 'Línea 2',\n",
       " 'Linea 12',\n",
       " 'Linea 5',\n",
       " 'Línea 3',\n",
       " 'Línea 7',\n",
       " 'Línea 5',\n",
       " 'Linea 1',\n",
       " 'Línea 4',\n",
       " 'Linea 6',\n",
       " 'Línea 8',\n",
       " 'Línea 9']"
      ]
     },
     "execution_count": 14,
     "metadata": {},
     "output_type": "execute_result"
    }
   ],
   "source": [
    "lineas = df['linea'].unique().to_list()\n",
    "lineas #Son 24 lineas significando que podrían estar duplicadas o hay linea con acento y sin acento"
   ]
  },
  {
   "cell_type": "code",
   "execution_count": 15,
   "id": "22a86c69-c9af-4009-8939-d745cd0f1a81",
   "metadata": {},
   "outputs": [
    {
     "data": {
      "text/plain": [
       "(shape: (1, 1)\n",
       " ┌───────┐\n",
       " │ linea │\n",
       " │ ---   │\n",
       " │ u32   │\n",
       " ╞═══════╡\n",
       " │ 9180  │\n",
       " └───────┘,\n",
       " shape: (1, 1)\n",
       " ┌───────┐\n",
       " │ linea │\n",
       " │ ---   │\n",
       " │ u32   │\n",
       " ╞═══════╡\n",
       " │ 34650 │\n",
       " └───────┘)"
      ]
     },
     "execution_count": 15,
     "metadata": {},
     "output_type": "execute_result"
    }
   ],
   "source": [
    "# Comparando lineas\n",
    "df.select(pl.col('linea')=='Linea A').sum(),df.select(pl.col('linea')=='Línea A').sum() #Hay mas Líneas que Lineas"
   ]
  },
  {
   "cell_type": "code",
   "execution_count": 16,
   "id": "b414e357-ee2b-4f14-a00d-9eee14bf67fa",
   "metadata": {},
   "outputs": [
    {
     "data": {
      "text/html": [
       "<div><style>\n",
       ".dataframe > thead > tr,\n",
       ".dataframe > tbody > tr {\n",
       "  text-align: right;\n",
       "  white-space: pre-wrap;\n",
       "}\n",
       "</style>\n",
       "<small>shape: (30, 8)</small><table border=\"1\" class=\"dataframe\"><thead><tr><th>fecha</th><th>mes</th><th>anio</th><th>linea</th><th>estacion</th><th>tipo_pago</th><th>afluencia</th><th>meses</th></tr><tr><td>date</td><td>str</td><td>i64</td><td>str</td><td>str</td><td>str</td><td>i64</td><td>str</td></tr></thead><tbody><tr><td>2024-12-31</td><td>&quot;diciembre&quot;</td><td>2024</td><td>&quot;Linea A&quot;</td><td>&quot;PantitlÃ¡n&quot;</td><td>&quot;Boleto&quot;</td><td>0</td><td>&quot;diciembre&quot;</td></tr><tr><td>2024-12-31</td><td>&quot;diciembre&quot;</td><td>2024</td><td>&quot;Linea A&quot;</td><td>&quot;PantitlÃ¡n&quot;</td><td>&quot;Prepago&quot;</td><td>19172</td><td>&quot;diciembre&quot;</td></tr><tr><td>2024-12-31</td><td>&quot;diciembre&quot;</td><td>2024</td><td>&quot;Linea A&quot;</td><td>&quot;PantitlÃ¡n&quot;</td><td>&quot;Gratuidad&quot;</td><td>1881</td><td>&quot;diciembre&quot;</td></tr><tr><td>2024-12-31</td><td>&quot;diciembre&quot;</td><td>2024</td><td>&quot;Linea A&quot;</td><td>&quot;AgrÃ­cola Oriental&quot;</td><td>&quot;Boleto&quot;</td><td>0</td><td>&quot;diciembre&quot;</td></tr><tr><td>2024-12-31</td><td>&quot;diciembre&quot;</td><td>2024</td><td>&quot;Linea A&quot;</td><td>&quot;AgrÃ­cola Oriental&quot;</td><td>&quot;Prepago&quot;</td><td>7319</td><td>&quot;diciembre&quot;</td></tr><tr><td>&hellip;</td><td>&hellip;</td><td>&hellip;</td><td>&hellip;</td><td>&hellip;</td><td>&hellip;</td><td>&hellip;</td><td>&hellip;</td></tr><tr><td>2024-12-31</td><td>&quot;diciembre&quot;</td><td>2024</td><td>&quot;Linea A&quot;</td><td>&quot;Los Reyes&quot;</td><td>&quot;Prepago&quot;</td><td>13934</td><td>&quot;diciembre&quot;</td></tr><tr><td>2024-12-31</td><td>&quot;diciembre&quot;</td><td>2024</td><td>&quot;Linea A&quot;</td><td>&quot;Los Reyes&quot;</td><td>&quot;Gratuidad&quot;</td><td>2138</td><td>&quot;diciembre&quot;</td></tr><tr><td>2024-12-31</td><td>&quot;diciembre&quot;</td><td>2024</td><td>&quot;Linea A&quot;</td><td>&quot;La Paz&quot;</td><td>&quot;Boleto&quot;</td><td>0</td><td>&quot;diciembre&quot;</td></tr><tr><td>2024-12-31</td><td>&quot;diciembre&quot;</td><td>2024</td><td>&quot;Linea A&quot;</td><td>&quot;La Paz&quot;</td><td>&quot;Prepago&quot;</td><td>26139</td><td>&quot;diciembre&quot;</td></tr><tr><td>2024-12-31</td><td>&quot;diciembre&quot;</td><td>2024</td><td>&quot;Linea A&quot;</td><td>&quot;La Paz&quot;</td><td>&quot;Gratuidad&quot;</td><td>3983</td><td>&quot;diciembre&quot;</td></tr></tbody></table></div>"
      ],
      "text/plain": [
       "shape: (30, 8)\n",
       "┌────────────┬───────────┬──────┬─────────┬───────────────────┬───────────┬───────────┬───────────┐\n",
       "│ fecha      ┆ mes       ┆ anio ┆ linea   ┆ estacion          ┆ tipo_pago ┆ afluencia ┆ meses     │\n",
       "│ ---        ┆ ---       ┆ ---  ┆ ---     ┆ ---               ┆ ---       ┆ ---       ┆ ---       │\n",
       "│ date       ┆ str       ┆ i64  ┆ str     ┆ str               ┆ str       ┆ i64       ┆ str       │\n",
       "╞════════════╪═══════════╪══════╪═════════╪═══════════════════╪═══════════╪═══════════╪═══════════╡\n",
       "│ 2024-12-31 ┆ diciembre ┆ 2024 ┆ Linea A ┆ PantitlÃ¡n        ┆ Boleto    ┆ 0         ┆ diciembre │\n",
       "│ 2024-12-31 ┆ diciembre ┆ 2024 ┆ Linea A ┆ PantitlÃ¡n        ┆ Prepago   ┆ 19172     ┆ diciembre │\n",
       "│ 2024-12-31 ┆ diciembre ┆ 2024 ┆ Linea A ┆ PantitlÃ¡n        ┆ Gratuidad ┆ 1881      ┆ diciembre │\n",
       "│ 2024-12-31 ┆ diciembre ┆ 2024 ┆ Linea A ┆ AgrÃ­cola Oriental ┆ Boleto    ┆ 0         ┆ diciembre │\n",
       "│ 2024-12-31 ┆ diciembre ┆ 2024 ┆ Linea A ┆ AgrÃ­cola Oriental ┆ Prepago   ┆ 7319      ┆ diciembre │\n",
       "│ …          ┆ …         ┆ …    ┆ …       ┆ …                 ┆ …         ┆ …         ┆ …         │\n",
       "│ 2024-12-31 ┆ diciembre ┆ 2024 ┆ Linea A ┆ Los Reyes         ┆ Prepago   ┆ 13934     ┆ diciembre │\n",
       "│ 2024-12-31 ┆ diciembre ┆ 2024 ┆ Linea A ┆ Los Reyes         ┆ Gratuidad ┆ 2138      ┆ diciembre │\n",
       "│ 2024-12-31 ┆ diciembre ┆ 2024 ┆ Linea A ┆ La Paz            ┆ Boleto    ┆ 0         ┆ diciembre │\n",
       "│ 2024-12-31 ┆ diciembre ┆ 2024 ┆ Linea A ┆ La Paz            ┆ Prepago   ┆ 26139     ┆ diciembre │\n",
       "│ 2024-12-31 ┆ diciembre ┆ 2024 ┆ Linea A ┆ La Paz            ┆ Gratuidad ┆ 3983      ┆ diciembre │\n",
       "└────────────┴───────────┴──────┴─────────┴───────────────────┴───────────┴───────────┴───────────┘"
      ]
     },
     "execution_count": 16,
     "metadata": {},
     "output_type": "execute_result"
    }
   ],
   "source": [
    "df.filter(\n",
    "    (pl.col('linea')=='Linea A') & (pl.col('fecha')==datetime(2024,12,31))\n",
    ")"
   ]
  },
  {
   "cell_type": "code",
   "execution_count": 17,
   "id": "e8928bb4-45c6-487f-a8d4-74cf7eb71443",
   "metadata": {},
   "outputs": [
    {
     "data": {
      "text/html": [
       "<div><style>\n",
       ".dataframe > thead > tr,\n",
       ".dataframe > tbody > tr {\n",
       "  text-align: right;\n",
       "  white-space: pre-wrap;\n",
       "}\n",
       "</style>\n",
       "<small>shape: (0, 8)</small><table border=\"1\" class=\"dataframe\"><thead><tr><th>fecha</th><th>mes</th><th>anio</th><th>linea</th><th>estacion</th><th>tipo_pago</th><th>afluencia</th><th>meses</th></tr><tr><td>date</td><td>str</td><td>i64</td><td>str</td><td>str</td><td>str</td><td>i64</td><td>str</td></tr></thead><tbody></tbody></table></div>"
      ],
      "text/plain": [
       "shape: (0, 8)\n",
       "┌───────┬─────┬──────┬───────┬──────────┬───────────┬───────────┬───────┐\n",
       "│ fecha ┆ mes ┆ anio ┆ linea ┆ estacion ┆ tipo_pago ┆ afluencia ┆ meses │\n",
       "│ ---   ┆ --- ┆ ---  ┆ ---   ┆ ---      ┆ ---       ┆ ---       ┆ ---   │\n",
       "│ date  ┆ str ┆ i64  ┆ str   ┆ str      ┆ str       ┆ i64       ┆ str   │\n",
       "╞═══════╪═════╪══════╪═══════╪══════════╪═══════════╪═══════════╪═══════╡\n",
       "└───────┴─────┴──────┴───────┴──────────┴───────────┴───────────┴───────┘"
      ]
     },
     "execution_count": 17,
     "metadata": {},
     "output_type": "execute_result"
    }
   ],
   "source": [
    "df.filter(\n",
    "    (pl.col('linea')=='Línea A') & (pl.col('fecha')==datetime(2024,12,31))\n",
    ")"
   ]
  },
  {
   "cell_type": "markdown",
   "id": "5066bc67-0d4b-494a-95db-886b1a59a205",
   "metadata": {},
   "source": [
    "Se analizara si la diferencia que tienen los dos conjuntos es debido a la fecha o al contenido en alguna columna.\n",
    "- Primero obteniendo el rango de fechas que contiene cada conjunto\n",
    "- Despues con algún tipo de Join para saber si tienen cosas en común\n",
    "Aunque con la fecha debería de bastar"
   ]
  },
  {
   "cell_type": "code",
   "execution_count": 18,
   "id": "1f0e9c3c-a464-439c-b507-c832393f1424",
   "metadata": {},
   "outputs": [
    {
     "data": {
      "text/plain": [
       "(shape: (1,)\n",
       " Series: 'anio' [i64]\n",
       " [\n",
       " \t2024\n",
       " ],\n",
       " shape: (4,)\n",
       " Series: 'anio' [i64]\n",
       " [\n",
       " \t2021\n",
       " \t2022\n",
       " \t2023\n",
       " \t2024\n",
       " ])"
      ]
     },
     "execution_count": 18,
     "metadata": {},
     "output_type": "execute_result"
    }
   ],
   "source": [
    "df.filter(pl.col('linea')=='Linea 12')['anio'].unique(),df.filter(pl.col('linea')=='Línea 12')['anio'].unique()\n",
    "# 2024 es la única fecha en común entre las líneas"
   ]
  },
  {
   "cell_type": "code",
   "execution_count": 19,
   "id": "268cd312-7a36-43c2-8a17-f976e0847821",
   "metadata": {},
   "outputs": [],
   "source": [
    "#Buscando diferencias o similitudes entre 2024 y por linea\n",
    "#Primero hay que normalizar el texto\n",
    "def elimina_acentos(texto):\n",
    "    if texto is None:\n",
    "        return None\n",
    "    texto_normalizado = unicodedata.normalize('NFD', texto)\n",
    "    texto_sin_acentos = ''.join(c for c in texto_normalizado if not unicodedata.combining(c))\n",
    "    return texto_sin_acentos"
   ]
  },
  {
   "cell_type": "code",
   "execution_count": 20,
   "id": "380b1d45-668d-4494-9150-24585f0be703",
   "metadata": {},
   "outputs": [
    {
     "data": {
      "text/html": [
       "<div><style>\n",
       ".dataframe > thead > tr,\n",
       ".dataframe > tbody > tr {\n",
       "  text-align: right;\n",
       "  white-space: pre-wrap;\n",
       "}\n",
       "</style>\n",
       "<small>shape: (5, 9)</small><table border=\"1\" class=\"dataframe\"><thead><tr><th>fecha</th><th>mes</th><th>anio</th><th>linea</th><th>estacion</th><th>tipo_pago</th><th>afluencia</th><th>meses</th><th>texto_sin_acentos</th></tr><tr><td>date</td><td>str</td><td>i64</td><td>str</td><td>str</td><td>str</td><td>i64</td><td>str</td><td>str</td></tr></thead><tbody><tr><td>2021-01-01</td><td>&quot;enero&quot;</td><td>2021</td><td>&quot;Línea 1&quot;</td><td>&quot;Balbuena&quot;</td><td>&quot;Boleto&quot;</td><td>1848</td><td>&quot;enero&quot;</td><td>&quot;Linea 1&quot;</td></tr><tr><td>2021-01-01</td><td>&quot;enero&quot;</td><td>2021</td><td>&quot;Línea 1&quot;</td><td>&quot;Balbuena&quot;</td><td>&quot;Prepago&quot;</td><td>790</td><td>&quot;enero&quot;</td><td>&quot;Linea 1&quot;</td></tr><tr><td>2021-01-01</td><td>&quot;enero&quot;</td><td>2021</td><td>&quot;Línea 1&quot;</td><td>&quot;Balbuena&quot;</td><td>&quot;Gratuidad&quot;</td><td>325</td><td>&quot;enero&quot;</td><td>&quot;Linea 1&quot;</td></tr><tr><td>2021-01-01</td><td>&quot;enero&quot;</td><td>2021</td><td>&quot;Línea 1&quot;</td><td>&quot;Balderas&quot;</td><td>&quot;Boleto&quot;</td><td>1103</td><td>&quot;enero&quot;</td><td>&quot;Linea 1&quot;</td></tr><tr><td>2021-01-01</td><td>&quot;enero&quot;</td><td>2021</td><td>&quot;Línea 1&quot;</td><td>&quot;Balderas&quot;</td><td>&quot;Prepago&quot;</td><td>922</td><td>&quot;enero&quot;</td><td>&quot;Linea 1&quot;</td></tr></tbody></table></div>"
      ],
      "text/plain": [
       "shape: (5, 9)\n",
       "┌────────────┬───────┬──────┬─────────┬───┬───────────┬───────────┬───────┬───────────────────┐\n",
       "│ fecha      ┆ mes   ┆ anio ┆ linea   ┆ … ┆ tipo_pago ┆ afluencia ┆ meses ┆ texto_sin_acentos │\n",
       "│ ---        ┆ ---   ┆ ---  ┆ ---     ┆   ┆ ---       ┆ ---       ┆ ---   ┆ ---               │\n",
       "│ date       ┆ str   ┆ i64  ┆ str     ┆   ┆ str       ┆ i64       ┆ str   ┆ str               │\n",
       "╞════════════╪═══════╪══════╪═════════╪═══╪═══════════╪═══════════╪═══════╪═══════════════════╡\n",
       "│ 2021-01-01 ┆ enero ┆ 2021 ┆ Línea 1 ┆ … ┆ Boleto    ┆ 1848      ┆ enero ┆ Linea 1           │\n",
       "│ 2021-01-01 ┆ enero ┆ 2021 ┆ Línea 1 ┆ … ┆ Prepago   ┆ 790       ┆ enero ┆ Linea 1           │\n",
       "│ 2021-01-01 ┆ enero ┆ 2021 ┆ Línea 1 ┆ … ┆ Gratuidad ┆ 325       ┆ enero ┆ Linea 1           │\n",
       "│ 2021-01-01 ┆ enero ┆ 2021 ┆ Línea 1 ┆ … ┆ Boleto    ┆ 1103      ┆ enero ┆ Linea 1           │\n",
       "│ 2021-01-01 ┆ enero ┆ 2021 ┆ Línea 1 ┆ … ┆ Prepago   ┆ 922       ┆ enero ┆ Linea 1           │\n",
       "└────────────┴───────┴──────┴─────────┴───┴───────────┴───────────┴───────┴───────────────────┘"
      ]
     },
     "execution_count": 20,
     "metadata": {},
     "output_type": "execute_result"
    }
   ],
   "source": [
    "df = df.with_columns(pl.col(\"linea\").map_elements(elimina_acentos, return_dtype=pl.String).alias(\"texto_sin_acentos\"))\n",
    "df.head()"
   ]
  },
  {
   "cell_type": "code",
   "execution_count": 21,
   "id": "3a7d55ac-a049-4091-ac27-2a99b175d573",
   "metadata": {},
   "outputs": [
    {
     "data": {
      "text/html": [
       "<div><style>\n",
       ".dataframe > thead > tr,\n",
       ".dataframe > tbody > tr {\n",
       "  text-align: right;\n",
       "  white-space: pre-wrap;\n",
       "}\n",
       "</style>\n",
       "<small>shape: (5, 7)</small><table border=\"1\" class=\"dataframe\"><thead><tr><th>fecha</th><th>mes</th><th>anio</th><th>linea</th><th>estacion</th><th>tipo_pago</th><th>afluencia</th></tr><tr><td>date</td><td>str</td><td>i64</td><td>str</td><td>str</td><td>str</td><td>i64</td></tr></thead><tbody><tr><td>2021-01-01</td><td>&quot;enero&quot;</td><td>2021</td><td>&quot;Linea 1&quot;</td><td>&quot;Balbuena&quot;</td><td>&quot;Boleto&quot;</td><td>1848</td></tr><tr><td>2021-01-01</td><td>&quot;enero&quot;</td><td>2021</td><td>&quot;Linea 1&quot;</td><td>&quot;Balbuena&quot;</td><td>&quot;Prepago&quot;</td><td>790</td></tr><tr><td>2021-01-01</td><td>&quot;enero&quot;</td><td>2021</td><td>&quot;Linea 1&quot;</td><td>&quot;Balbuena&quot;</td><td>&quot;Gratuidad&quot;</td><td>325</td></tr><tr><td>2021-01-01</td><td>&quot;enero&quot;</td><td>2021</td><td>&quot;Linea 1&quot;</td><td>&quot;Balderas&quot;</td><td>&quot;Boleto&quot;</td><td>1103</td></tr><tr><td>2021-01-01</td><td>&quot;enero&quot;</td><td>2021</td><td>&quot;Linea 1&quot;</td><td>&quot;Balderas&quot;</td><td>&quot;Prepago&quot;</td><td>922</td></tr></tbody></table></div>"
      ],
      "text/plain": [
       "shape: (5, 7)\n",
       "┌────────────┬───────┬──────┬─────────┬──────────┬───────────┬───────────┐\n",
       "│ fecha      ┆ mes   ┆ anio ┆ linea   ┆ estacion ┆ tipo_pago ┆ afluencia │\n",
       "│ ---        ┆ ---   ┆ ---  ┆ ---     ┆ ---      ┆ ---       ┆ ---       │\n",
       "│ date       ┆ str   ┆ i64  ┆ str     ┆ str      ┆ str       ┆ i64       │\n",
       "╞════════════╪═══════╪══════╪═════════╪══════════╪═══════════╪═══════════╡\n",
       "│ 2021-01-01 ┆ enero ┆ 2021 ┆ Linea 1 ┆ Balbuena ┆ Boleto    ┆ 1848      │\n",
       "│ 2021-01-01 ┆ enero ┆ 2021 ┆ Linea 1 ┆ Balbuena ┆ Prepago   ┆ 790       │\n",
       "│ 2021-01-01 ┆ enero ┆ 2021 ┆ Linea 1 ┆ Balbuena ┆ Gratuidad ┆ 325       │\n",
       "│ 2021-01-01 ┆ enero ┆ 2021 ┆ Linea 1 ┆ Balderas ┆ Boleto    ┆ 1103      │\n",
       "│ 2021-01-01 ┆ enero ┆ 2021 ┆ Linea 1 ┆ Balderas ┆ Prepago   ┆ 922       │\n",
       "└────────────┴───────┴──────┴─────────┴──────────┴───────────┴───────────┘"
      ]
     },
     "execution_count": 21,
     "metadata": {},
     "output_type": "execute_result"
    }
   ],
   "source": [
    "df = df.drop('linea')\n",
    "df = df.select(['fecha','meses','anio','texto_sin_acentos','estacion','tipo_pago','afluencia'])\n",
    "df = df.rename({'meses':'mes','texto_sin_acentos':'linea'})\n",
    "df.head()"
   ]
  },
  {
   "cell_type": "markdown",
   "id": "dd593325-8097-4f0a-bb59-b7ce40485f66",
   "metadata": {},
   "source": [
    "Para Línea y Linea deberian haber algunos criterios para saber si no son duplicados:\n",
    "- El primero es no cambiar los acentos en primera instancia.\n",
    "- Para cada dia todos los datos pueden repetirse menos en tipo de pago para una estacion en particular\n",
    "- El maximo por mes de una linea (sumando los dos conjuntos) es total de dias del mes x numero de estaciones x tipo_pago"
   ]
  },
  {
   "cell_type": "markdown",
   "id": "cc2008a8-be70-48b8-8a19-da0b01a4052f",
   "metadata": {},
   "source": [
    "## Linea A"
   ]
  },
  {
   "cell_type": "code",
   "execution_count": 22,
   "id": "fd08fd8f-207d-433b-86f3-933bbf0618fe",
   "metadata": {},
   "outputs": [],
   "source": [
    "fecha_inicio = datetime(2024,1,1)\n",
    "fecha_fin    = datetime(2024,12,31)\n",
    "\n",
    "df_linea_A = df.filter(pl.col('linea')==\"Linea A\")\n",
    "#df_linea_A = df.filter((pl.col('linea')==\"Linea A\")&(pl.col('fecha').is_between(fecha_inicio,fecha_fin)))"
   ]
  },
  {
   "cell_type": "code",
   "execution_count": 23,
   "id": "fd1ba042-bf73-4328-899c-5dfc23e9bb9a",
   "metadata": {},
   "outputs": [],
   "source": [
    "df_linea_A = df_linea_A.with_columns(pl.col(\"tipo_pago\").map_elements(elimina_acentos, return_dtype=pl.String).alias(\"tipo_pago\"))\n",
    "df_linea_A = df_linea_A.with_columns(pl.col(\"tipo_pago\").str.to_lowercase().alias(\"tipo_pago\"))\n",
    "df_linea_A = df_linea_A.with_columns(pl.col(\"estacion\").map_elements(elimina_acentos, return_dtype=pl.String).alias(\"estacion\"))\n",
    "df_linea_A = df_linea_A.with_columns(pl.col(\"estacion\").str.to_lowercase().alias(\"estacion\"))"
   ]
  },
  {
   "cell_type": "code",
   "execution_count": 24,
   "id": "fc536ed4-8251-4d6e-b8b1-4325bcfed84a",
   "metadata": {},
   "outputs": [],
   "source": [
    "estaciones = df_linea_A.select(pl.col(\"estacion\").unique()).to_series().to_list()"
   ]
  },
  {
   "cell_type": "code",
   "execution_count": 25,
   "id": "ead194d9-9873-4101-a76c-224079dbf61e",
   "metadata": {},
   "outputs": [
    {
     "data": {
      "text/plain": [
       "['agra\\xadcola oriental',\n",
       " 'canal de san juan',\n",
       " 'santa marta',\n",
       " 'acatitla',\n",
       " 'penon viejo',\n",
       " 'guelatao',\n",
       " 'pantitlan',\n",
       " 'pea±a³n viejo',\n",
       " 'tepalcates',\n",
       " 'pantitla¡n',\n",
       " 'los reyes',\n",
       " 'la paz',\n",
       " 'agricola oriental']"
      ]
     },
     "execution_count": 25,
     "metadata": {},
     "output_type": "execute_result"
    }
   ],
   "source": [
    "estaciones"
   ]
  },
  {
   "cell_type": "code",
   "execution_count": 26,
   "id": "b7c61d3e-f58d-4671-8439-a102fa775b1c",
   "metadata": {},
   "outputs": [
    {
     "data": {
      "text/html": [
       "<div><style>\n",
       ".dataframe > thead > tr,\n",
       ".dataframe > tbody > tr {\n",
       "  text-align: right;\n",
       "  white-space: pre-wrap;\n",
       "}\n",
       "</style>\n",
       "<small>shape: (93, 7)</small><table border=\"1\" class=\"dataframe\"><thead><tr><th>fecha</th><th>mes</th><th>anio</th><th>linea</th><th>estacion</th><th>tipo_pago</th><th>afluencia</th></tr><tr><td>date</td><td>str</td><td>i64</td><td>str</td><td>str</td><td>str</td><td>i64</td></tr></thead><tbody><tr><td>2024-12-01</td><td>&quot;diciembre&quot;</td><td>2024</td><td>&quot;Linea A&quot;</td><td>&quot;pantitla¡n&quot;</td><td>&quot;boleto&quot;</td><td>0</td></tr><tr><td>2024-12-01</td><td>&quot;diciembre&quot;</td><td>2024</td><td>&quot;Linea A&quot;</td><td>&quot;pantitla¡n&quot;</td><td>&quot;prepago&quot;</td><td>14719</td></tr><tr><td>2024-12-01</td><td>&quot;diciembre&quot;</td><td>2024</td><td>&quot;Linea A&quot;</td><td>&quot;pantitla¡n&quot;</td><td>&quot;gratuidad&quot;</td><td>1435</td></tr><tr><td>2024-12-02</td><td>&quot;diciembre&quot;</td><td>2024</td><td>&quot;Linea A&quot;</td><td>&quot;pantitla¡n&quot;</td><td>&quot;boleto&quot;</td><td>0</td></tr><tr><td>2024-12-02</td><td>&quot;diciembre&quot;</td><td>2024</td><td>&quot;Linea A&quot;</td><td>&quot;pantitla¡n&quot;</td><td>&quot;prepago&quot;</td><td>32983</td></tr><tr><td>&hellip;</td><td>&hellip;</td><td>&hellip;</td><td>&hellip;</td><td>&hellip;</td><td>&hellip;</td><td>&hellip;</td></tr><tr><td>2024-12-30</td><td>&quot;diciembre&quot;</td><td>2024</td><td>&quot;Linea A&quot;</td><td>&quot;pantitla¡n&quot;</td><td>&quot;prepago&quot;</td><td>25495</td></tr><tr><td>2024-12-30</td><td>&quot;diciembre&quot;</td><td>2024</td><td>&quot;Linea A&quot;</td><td>&quot;pantitla¡n&quot;</td><td>&quot;gratuidad&quot;</td><td>4027</td></tr><tr><td>2024-12-31</td><td>&quot;diciembre&quot;</td><td>2024</td><td>&quot;Linea A&quot;</td><td>&quot;pantitla¡n&quot;</td><td>&quot;boleto&quot;</td><td>0</td></tr><tr><td>2024-12-31</td><td>&quot;diciembre&quot;</td><td>2024</td><td>&quot;Linea A&quot;</td><td>&quot;pantitla¡n&quot;</td><td>&quot;prepago&quot;</td><td>19172</td></tr><tr><td>2024-12-31</td><td>&quot;diciembre&quot;</td><td>2024</td><td>&quot;Linea A&quot;</td><td>&quot;pantitla¡n&quot;</td><td>&quot;gratuidad&quot;</td><td>1881</td></tr></tbody></table></div>"
      ],
      "text/plain": [
       "shape: (93, 7)\n",
       "┌────────────┬───────────┬──────┬─────────┬────────────┬───────────┬───────────┐\n",
       "│ fecha      ┆ mes       ┆ anio ┆ linea   ┆ estacion   ┆ tipo_pago ┆ afluencia │\n",
       "│ ---        ┆ ---       ┆ ---  ┆ ---     ┆ ---        ┆ ---       ┆ ---       │\n",
       "│ date       ┆ str       ┆ i64  ┆ str     ┆ str        ┆ str       ┆ i64       │\n",
       "╞════════════╪═══════════╪══════╪═════════╪════════════╪═══════════╪═══════════╡\n",
       "│ 2024-12-01 ┆ diciembre ┆ 2024 ┆ Linea A ┆ pantitla¡n ┆ boleto    ┆ 0         │\n",
       "│ 2024-12-01 ┆ diciembre ┆ 2024 ┆ Linea A ┆ pantitla¡n ┆ prepago   ┆ 14719     │\n",
       "│ 2024-12-01 ┆ diciembre ┆ 2024 ┆ Linea A ┆ pantitla¡n ┆ gratuidad ┆ 1435      │\n",
       "│ 2024-12-02 ┆ diciembre ┆ 2024 ┆ Linea A ┆ pantitla¡n ┆ boleto    ┆ 0         │\n",
       "│ 2024-12-02 ┆ diciembre ┆ 2024 ┆ Linea A ┆ pantitla¡n ┆ prepago   ┆ 32983     │\n",
       "│ …          ┆ …         ┆ …    ┆ …       ┆ …          ┆ …         ┆ …         │\n",
       "│ 2024-12-30 ┆ diciembre ┆ 2024 ┆ Linea A ┆ pantitla¡n ┆ prepago   ┆ 25495     │\n",
       "│ 2024-12-30 ┆ diciembre ┆ 2024 ┆ Linea A ┆ pantitla¡n ┆ gratuidad ┆ 4027      │\n",
       "│ 2024-12-31 ┆ diciembre ┆ 2024 ┆ Linea A ┆ pantitla¡n ┆ boleto    ┆ 0         │\n",
       "│ 2024-12-31 ┆ diciembre ┆ 2024 ┆ Linea A ┆ pantitla¡n ┆ prepago   ┆ 19172     │\n",
       "│ 2024-12-31 ┆ diciembre ┆ 2024 ┆ Linea A ┆ pantitla¡n ┆ gratuidad ┆ 1881      │\n",
       "└────────────┴───────────┴──────┴─────────┴────────────┴───────────┴───────────┘"
      ]
     },
     "execution_count": 26,
     "metadata": {},
     "output_type": "execute_result"
    }
   ],
   "source": [
    "df_linea_A.filter(pl.col(\"estacion\")==\"pantitla¡n\")"
   ]
  },
  {
   "cell_type": "code",
   "execution_count": 27,
   "id": "c89b5544-eb4e-45a9-ac41-b2a4e47378e6",
   "metadata": {},
   "outputs": [],
   "source": [
    "df_linea_A = df_linea_A.with_columns(pl.col('estacion').str.replace(\"penon viejo\",\"peñon viejo\"))"
   ]
  },
  {
   "cell_type": "code",
   "execution_count": 28,
   "id": "71bf0f5c-1a2e-425c-8087-2bba60f95223",
   "metadata": {},
   "outputs": [
    {
     "data": {
      "text/html": [
       "<div><style>\n",
       ".dataframe > thead > tr,\n",
       ".dataframe > tbody > tr {\n",
       "  text-align: right;\n",
       "  white-space: pre-wrap;\n",
       "}\n",
       "</style>\n",
       "<small>shape: (5, 7)</small><table border=\"1\" class=\"dataframe\"><thead><tr><th>fecha</th><th>mes</th><th>anio</th><th>linea</th><th>estacion</th><th>tipo_pago</th><th>afluencia</th></tr><tr><td>date</td><td>str</td><td>i64</td><td>str</td><td>str</td><td>str</td><td>i64</td></tr></thead><tbody><tr><td>2021-01-01</td><td>&quot;enero&quot;</td><td>2021</td><td>&quot;Linea A&quot;</td><td>&quot;acatitla&quot;</td><td>&quot;boleto&quot;</td><td>1814</td></tr><tr><td>2021-01-01</td><td>&quot;enero&quot;</td><td>2021</td><td>&quot;Linea A&quot;</td><td>&quot;acatitla&quot;</td><td>&quot;prepago&quot;</td><td>2265</td></tr><tr><td>2021-01-01</td><td>&quot;enero&quot;</td><td>2021</td><td>&quot;Linea A&quot;</td><td>&quot;acatitla&quot;</td><td>&quot;gratuidad&quot;</td><td>1135</td></tr><tr><td>2021-01-01</td><td>&quot;enero&quot;</td><td>2021</td><td>&quot;Linea A&quot;</td><td>&quot;agricola oriental&quot;</td><td>&quot;boleto&quot;</td><td>3610</td></tr><tr><td>2021-01-01</td><td>&quot;enero&quot;</td><td>2021</td><td>&quot;Linea A&quot;</td><td>&quot;agricola oriental&quot;</td><td>&quot;prepago&quot;</td><td>804</td></tr></tbody></table></div>"
      ],
      "text/plain": [
       "shape: (5, 7)\n",
       "┌────────────┬───────┬──────┬─────────┬───────────────────┬───────────┬───────────┐\n",
       "│ fecha      ┆ mes   ┆ anio ┆ linea   ┆ estacion          ┆ tipo_pago ┆ afluencia │\n",
       "│ ---        ┆ ---   ┆ ---  ┆ ---     ┆ ---               ┆ ---       ┆ ---       │\n",
       "│ date       ┆ str   ┆ i64  ┆ str     ┆ str               ┆ str       ┆ i64       │\n",
       "╞════════════╪═══════╪══════╪═════════╪═══════════════════╪═══════════╪═══════════╡\n",
       "│ 2021-01-01 ┆ enero ┆ 2021 ┆ Linea A ┆ acatitla          ┆ boleto    ┆ 1814      │\n",
       "│ 2021-01-01 ┆ enero ┆ 2021 ┆ Linea A ┆ acatitla          ┆ prepago   ┆ 2265      │\n",
       "│ 2021-01-01 ┆ enero ┆ 2021 ┆ Linea A ┆ acatitla          ┆ gratuidad ┆ 1135      │\n",
       "│ 2021-01-01 ┆ enero ┆ 2021 ┆ Linea A ┆ agricola oriental ┆ boleto    ┆ 3610      │\n",
       "│ 2021-01-01 ┆ enero ┆ 2021 ┆ Linea A ┆ agricola oriental ┆ prepago   ┆ 804       │\n",
       "└────────────┴───────┴──────┴─────────┴───────────────────┴───────────┴───────────┘"
      ]
     },
     "execution_count": 28,
     "metadata": {},
     "output_type": "execute_result"
    }
   ],
   "source": [
    "df_linea_A.head()"
   ]
  },
  {
   "cell_type": "code",
   "execution_count": 29,
   "id": "62244b25-59f7-4a57-a44b-ec3b225334f2",
   "metadata": {},
   "outputs": [
    {
     "data": {
      "text/html": [
       "<div><style>\n",
       ".dataframe > thead > tr,\n",
       ".dataframe > tbody > tr {\n",
       "  text-align: right;\n",
       "  white-space: pre-wrap;\n",
       "}\n",
       "</style>\n",
       "<small>shape: (10, 3)</small><table border=\"1\" class=\"dataframe\"><thead><tr><th>estacion</th><th>tipo_pago</th><th>pago_estacion</th></tr><tr><td>str</td><td>str</td><td>u32</td></tr></thead><tbody><tr><td>&quot;peñon viejo&quot;</td><td>&quot;prepago&quot;</td><td>1430</td></tr><tr><td>&quot;pantitlan&quot;</td><td>&quot;prepago&quot;</td><td>1430</td></tr><tr><td>&quot;la paz&quot;</td><td>&quot;gratuidad&quot;</td><td>1461</td></tr><tr><td>&quot;santa marta&quot;</td><td>&quot;gratuidad&quot;</td><td>1461</td></tr><tr><td>&quot;peñon viejo&quot;</td><td>&quot;boleto&quot;</td><td>1430</td></tr><tr><td>&quot;tepalcates&quot;</td><td>&quot;prepago&quot;</td><td>1461</td></tr><tr><td>&quot;canal de san juan&quot;</td><td>&quot;boleto&quot;</td><td>1461</td></tr><tr><td>&quot;los reyes&quot;</td><td>&quot;prepago&quot;</td><td>1461</td></tr><tr><td>&quot;agra­cola oriental&quot;</td><td>&quot;gratuidad&quot;</td><td>31</td></tr><tr><td>&quot;tepalcates&quot;</td><td>&quot;boleto&quot;</td><td>1461</td></tr></tbody></table></div>"
      ],
      "text/plain": [
       "shape: (10, 3)\n",
       "┌───────────────────┬───────────┬───────────────┐\n",
       "│ estacion          ┆ tipo_pago ┆ pago_estacion │\n",
       "│ ---               ┆ ---       ┆ ---           │\n",
       "│ str               ┆ str       ┆ u32           │\n",
       "╞═══════════════════╪═══════════╪═══════════════╡\n",
       "│ peñon viejo       ┆ prepago   ┆ 1430          │\n",
       "│ pantitlan         ┆ prepago   ┆ 1430          │\n",
       "│ la paz            ┆ gratuidad ┆ 1461          │\n",
       "│ santa marta       ┆ gratuidad ┆ 1461          │\n",
       "│ peñon viejo       ┆ boleto    ┆ 1430          │\n",
       "│ tepalcates        ┆ prepago   ┆ 1461          │\n",
       "│ canal de san juan ┆ boleto    ┆ 1461          │\n",
       "│ los reyes         ┆ prepago   ┆ 1461          │\n",
       "│ agra­cola oriental ┆ gratuidad ┆ 31            │\n",
       "│ tepalcates        ┆ boleto    ┆ 1461          │\n",
       "└───────────────────┴───────────┴───────────────┘"
      ]
     },
     "execution_count": 29,
     "metadata": {},
     "output_type": "execute_result"
    }
   ],
   "source": [
    "df2 = df_linea_A.group_by(['estacion','tipo_pago']).agg(\n",
    "    pl.len().alias(\"pago_estacion\")\n",
    ")\n",
    "df2.head(10)"
   ]
  },
  {
   "cell_type": "code",
   "execution_count": 30,
   "id": "eb16ecb0-2419-4196-b995-4eaaee44236c",
   "metadata": {},
   "outputs": [
    {
     "data": {
      "text/html": [
       "<div><style>\n",
       ".dataframe > thead > tr,\n",
       ".dataframe > tbody > tr {\n",
       "  text-align: right;\n",
       "  white-space: pre-wrap;\n",
       "}\n",
       "</style>\n",
       "<small>shape: (9, 4)</small><table border=\"1\" class=\"dataframe\"><thead><tr><th>tipo_pago</th><th>pago_estacion</th><th>suma_pago</th><th>total_anual</th></tr><tr><td>str</td><td>u32</td><td>u32</td><td>u32</td></tr></thead><tbody><tr><td>&quot;prepago&quot;</td><td>1461</td><td>10227</td><td>43830</td></tr><tr><td>&quot;prepago&quot;</td><td>1430</td><td>4290</td><td>43830</td></tr><tr><td>&quot;boleto&quot;</td><td>1430</td><td>4290</td><td>43830</td></tr><tr><td>&quot;boleto&quot;</td><td>31</td><td>93</td><td>43830</td></tr><tr><td>&quot;boleto&quot;</td><td>1461</td><td>10227</td><td>43830</td></tr><tr><td>&quot;gratuidad&quot;</td><td>31</td><td>93</td><td>43830</td></tr><tr><td>&quot;prepago&quot;</td><td>31</td><td>93</td><td>43830</td></tr><tr><td>&quot;gratuidad&quot;</td><td>1430</td><td>4290</td><td>43830</td></tr><tr><td>&quot;gratuidad&quot;</td><td>1461</td><td>10227</td><td>43830</td></tr></tbody></table></div>"
      ],
      "text/plain": [
       "shape: (9, 4)\n",
       "┌───────────┬───────────────┬───────────┬─────────────┐\n",
       "│ tipo_pago ┆ pago_estacion ┆ suma_pago ┆ total_anual │\n",
       "│ ---       ┆ ---           ┆ ---       ┆ ---         │\n",
       "│ str       ┆ u32           ┆ u32       ┆ u32         │\n",
       "╞═══════════╪═══════════════╪═══════════╪═════════════╡\n",
       "│ prepago   ┆ 1461          ┆ 10227     ┆ 43830       │\n",
       "│ prepago   ┆ 1430          ┆ 4290      ┆ 43830       │\n",
       "│ boleto    ┆ 1430          ┆ 4290      ┆ 43830       │\n",
       "│ boleto    ┆ 31            ┆ 93        ┆ 43830       │\n",
       "│ boleto    ┆ 1461          ┆ 10227     ┆ 43830       │\n",
       "│ gratuidad ┆ 31            ┆ 93        ┆ 43830       │\n",
       "│ prepago   ┆ 31            ┆ 93        ┆ 43830       │\n",
       "│ gratuidad ┆ 1430          ┆ 4290      ┆ 43830       │\n",
       "│ gratuidad ┆ 1461          ┆ 10227     ┆ 43830       │\n",
       "└───────────┴───────────────┴───────────┴─────────────┘"
      ]
     },
     "execution_count": 30,
     "metadata": {},
     "output_type": "execute_result"
    }
   ],
   "source": [
    "df2.group_by([\"tipo_pago\",\"pago_estacion\"]).agg(\n",
    "    pl.sum(\"pago_estacion\").alias(\"suma_pago\")\n",
    ").with_columns(pl.col(\"suma_pago\").sum().alias(\"total_anual\"))"
   ]
  },
  {
   "cell_type": "code",
   "execution_count": 31,
   "id": "4e8b8ebd-66fb-4823-9446-6948182597ad",
   "metadata": {},
   "outputs": [],
   "source": [
    "#df_linea_A.write_csv(\"./metro_cdmx/linea_A_limpio.csv\")"
   ]
  },
  {
   "cell_type": "markdown",
   "id": "42c1df8b-877b-4dbd-9e7e-919568eb3baa",
   "metadata": {},
   "source": [
    "## Linea 1"
   ]
  },
  {
   "cell_type": "code",
   "execution_count": 32,
   "id": "d20fc7c7-672b-4b54-9173-91778b97ea88",
   "metadata": {},
   "outputs": [],
   "source": [
    "fecha_inicio = datetime(2024,1,1)\n",
    "fecha_fin    = datetime(2024,12,31)\n",
    "\n",
    "df_linea_1 = df.filter(pl.col('linea')==\"Linea 1\")\n",
    "#df_linea_A = df.filter((pl.col('linea')==\"Linea A\")&(pl.col('fecha').is_between(fecha_inicio,fecha_fin)))"
   ]
  },
  {
   "cell_type": "code",
   "execution_count": 33,
   "id": "f272518c-3042-4f5b-9bcf-732755c7aabc",
   "metadata": {},
   "outputs": [],
   "source": [
    "df_linea_1 = df_linea_1.with_columns(pl.col(\"tipo_pago\").map_elements(elimina_acentos, return_dtype=pl.String).alias(\"tipo_pago\"))\n",
    "df_linea_1 = df_linea_1.with_columns(pl.col(\"tipo_pago\").str.to_lowercase().alias(\"tipo_pago\"))\n",
    "df_linea_1 = df_linea_1.with_columns(pl.col(\"estacion\").map_elements(elimina_acentos, return_dtype=pl.String).alias(\"estacion\"))\n",
    "df_linea_1 = df_linea_1.with_columns(pl.col(\"estacion\").str.to_lowercase().alias(\"estacion\"))"
   ]
  },
  {
   "cell_type": "code",
   "execution_count": 34,
   "id": "68c34337-96b7-4a26-b912-8d4a9269a238",
   "metadata": {},
   "outputs": [
    {
     "data": {
      "text/plain": [
       "28"
      ]
     },
     "execution_count": 34,
     "metadata": {},
     "output_type": "execute_result"
    }
   ],
   "source": [
    "estaciones = df_linea_1.select(pl.col(\"estacion\").unique()).to_series().to_list()\n",
    "len(estaciones) #Hay ocho estaciones de mas"
   ]
  },
  {
   "cell_type": "code",
   "execution_count": 35,
   "id": "3b57c82b-fb8f-41be-a712-1e34314a1fd8",
   "metadata": {},
   "outputs": [
    {
     "data": {
      "text/html": [
       "<div><style>\n",
       ".dataframe > thead > tr,\n",
       ".dataframe > tbody > tr {\n",
       "  text-align: right;\n",
       "  white-space: pre-wrap;\n",
       "}\n",
       "</style>\n",
       "<small>shape: (93, 7)</small><table border=\"1\" class=\"dataframe\"><thead><tr><th>fecha</th><th>mes</th><th>anio</th><th>linea</th><th>estacion</th><th>tipo_pago</th><th>afluencia</th></tr><tr><td>date</td><td>str</td><td>i64</td><td>str</td><td>str</td><td>str</td><td>i64</td></tr></thead><tbody><tr><td>2024-12-01</td><td>&quot;diciembre&quot;</td><td>2024</td><td>&quot;Linea 1&quot;</td><td>&quot;juanacatla¡n&quot;</td><td>&quot;boleto&quot;</td><td>0</td></tr><tr><td>2024-12-01</td><td>&quot;diciembre&quot;</td><td>2024</td><td>&quot;Linea 1&quot;</td><td>&quot;juanacatla¡n&quot;</td><td>&quot;prepago&quot;</td><td>0</td></tr><tr><td>2024-12-01</td><td>&quot;diciembre&quot;</td><td>2024</td><td>&quot;Linea 1&quot;</td><td>&quot;juanacatla¡n&quot;</td><td>&quot;gratuidad&quot;</td><td>0</td></tr><tr><td>2024-12-02</td><td>&quot;diciembre&quot;</td><td>2024</td><td>&quot;Linea 1&quot;</td><td>&quot;juanacatla¡n&quot;</td><td>&quot;boleto&quot;</td><td>0</td></tr><tr><td>2024-12-02</td><td>&quot;diciembre&quot;</td><td>2024</td><td>&quot;Linea 1&quot;</td><td>&quot;juanacatla¡n&quot;</td><td>&quot;prepago&quot;</td><td>0</td></tr><tr><td>&hellip;</td><td>&hellip;</td><td>&hellip;</td><td>&hellip;</td><td>&hellip;</td><td>&hellip;</td><td>&hellip;</td></tr><tr><td>2024-12-30</td><td>&quot;diciembre&quot;</td><td>2024</td><td>&quot;Linea 1&quot;</td><td>&quot;juanacatla¡n&quot;</td><td>&quot;prepago&quot;</td><td>0</td></tr><tr><td>2024-12-30</td><td>&quot;diciembre&quot;</td><td>2024</td><td>&quot;Linea 1&quot;</td><td>&quot;juanacatla¡n&quot;</td><td>&quot;gratuidad&quot;</td><td>0</td></tr><tr><td>2024-12-31</td><td>&quot;diciembre&quot;</td><td>2024</td><td>&quot;Linea 1&quot;</td><td>&quot;juanacatla¡n&quot;</td><td>&quot;boleto&quot;</td><td>0</td></tr><tr><td>2024-12-31</td><td>&quot;diciembre&quot;</td><td>2024</td><td>&quot;Linea 1&quot;</td><td>&quot;juanacatla¡n&quot;</td><td>&quot;prepago&quot;</td><td>0</td></tr><tr><td>2024-12-31</td><td>&quot;diciembre&quot;</td><td>2024</td><td>&quot;Linea 1&quot;</td><td>&quot;juanacatla¡n&quot;</td><td>&quot;gratuidad&quot;</td><td>0</td></tr></tbody></table></div>"
      ],
      "text/plain": [
       "shape: (93, 7)\n",
       "┌────────────┬───────────┬──────┬─────────┬──────────────┬───────────┬───────────┐\n",
       "│ fecha      ┆ mes       ┆ anio ┆ linea   ┆ estacion     ┆ tipo_pago ┆ afluencia │\n",
       "│ ---        ┆ ---       ┆ ---  ┆ ---     ┆ ---          ┆ ---       ┆ ---       │\n",
       "│ date       ┆ str       ┆ i64  ┆ str     ┆ str          ┆ str       ┆ i64       │\n",
       "╞════════════╪═══════════╪══════╪═════════╪══════════════╪═══════════╪═══════════╡\n",
       "│ 2024-12-01 ┆ diciembre ┆ 2024 ┆ Linea 1 ┆ juanacatla¡n ┆ boleto    ┆ 0         │\n",
       "│ 2024-12-01 ┆ diciembre ┆ 2024 ┆ Linea 1 ┆ juanacatla¡n ┆ prepago   ┆ 0         │\n",
       "│ 2024-12-01 ┆ diciembre ┆ 2024 ┆ Linea 1 ┆ juanacatla¡n ┆ gratuidad ┆ 0         │\n",
       "│ 2024-12-02 ┆ diciembre ┆ 2024 ┆ Linea 1 ┆ juanacatla¡n ┆ boleto    ┆ 0         │\n",
       "│ 2024-12-02 ┆ diciembre ┆ 2024 ┆ Linea 1 ┆ juanacatla¡n ┆ prepago   ┆ 0         │\n",
       "│ …          ┆ …         ┆ …    ┆ …       ┆ …            ┆ …         ┆ …         │\n",
       "│ 2024-12-30 ┆ diciembre ┆ 2024 ┆ Linea 1 ┆ juanacatla¡n ┆ prepago   ┆ 0         │\n",
       "│ 2024-12-30 ┆ diciembre ┆ 2024 ┆ Linea 1 ┆ juanacatla¡n ┆ gratuidad ┆ 0         │\n",
       "│ 2024-12-31 ┆ diciembre ┆ 2024 ┆ Linea 1 ┆ juanacatla¡n ┆ boleto    ┆ 0         │\n",
       "│ 2024-12-31 ┆ diciembre ┆ 2024 ┆ Linea 1 ┆ juanacatla¡n ┆ prepago   ┆ 0         │\n",
       "│ 2024-12-31 ┆ diciembre ┆ 2024 ┆ Linea 1 ┆ juanacatla¡n ┆ gratuidad ┆ 0         │\n",
       "└────────────┴───────────┴──────┴─────────┴──────────────┴───────────┴───────────┘"
      ]
     },
     "execution_count": 35,
     "metadata": {},
     "output_type": "execute_result"
    }
   ],
   "source": [
    "df_linea_1.filter(pl.col(\"estacion\")==\"juanacatla¡n\")"
   ]
  },
  {
   "cell_type": "code",
   "execution_count": 36,
   "id": "61570145-f23b-4e15-bea7-efa5dc12c9b2",
   "metadata": {},
   "outputs": [],
   "source": [
    "df_linea_1 = df_linea_1.with_columns(pl.col('estacion').str.replace(\"juanacatla¡n\",\"juanacatlan\"))"
   ]
  },
  {
   "cell_type": "code",
   "execution_count": 37,
   "id": "05d27538-8b46-45f8-ad0c-a005ab27211c",
   "metadata": {},
   "outputs": [
    {
     "data": {
      "text/html": [
       "<div><style>\n",
       ".dataframe > thead > tr,\n",
       ".dataframe > tbody > tr {\n",
       "  text-align: right;\n",
       "  white-space: pre-wrap;\n",
       "}\n",
       "</style>\n",
       "<small>shape: (5, 7)</small><table border=\"1\" class=\"dataframe\"><thead><tr><th>fecha</th><th>mes</th><th>anio</th><th>linea</th><th>estacion</th><th>tipo_pago</th><th>afluencia</th></tr><tr><td>date</td><td>str</td><td>i64</td><td>str</td><td>str</td><td>str</td><td>i64</td></tr></thead><tbody><tr><td>2021-01-01</td><td>&quot;enero&quot;</td><td>2021</td><td>&quot;Linea 1&quot;</td><td>&quot;balbuena&quot;</td><td>&quot;boleto&quot;</td><td>1848</td></tr><tr><td>2021-01-01</td><td>&quot;enero&quot;</td><td>2021</td><td>&quot;Linea 1&quot;</td><td>&quot;balbuena&quot;</td><td>&quot;prepago&quot;</td><td>790</td></tr><tr><td>2021-01-01</td><td>&quot;enero&quot;</td><td>2021</td><td>&quot;Linea 1&quot;</td><td>&quot;balbuena&quot;</td><td>&quot;gratuidad&quot;</td><td>325</td></tr><tr><td>2021-01-01</td><td>&quot;enero&quot;</td><td>2021</td><td>&quot;Linea 1&quot;</td><td>&quot;balderas&quot;</td><td>&quot;boleto&quot;</td><td>1103</td></tr><tr><td>2021-01-01</td><td>&quot;enero&quot;</td><td>2021</td><td>&quot;Linea 1&quot;</td><td>&quot;balderas&quot;</td><td>&quot;prepago&quot;</td><td>922</td></tr></tbody></table></div>"
      ],
      "text/plain": [
       "shape: (5, 7)\n",
       "┌────────────┬───────┬──────┬─────────┬──────────┬───────────┬───────────┐\n",
       "│ fecha      ┆ mes   ┆ anio ┆ linea   ┆ estacion ┆ tipo_pago ┆ afluencia │\n",
       "│ ---        ┆ ---   ┆ ---  ┆ ---     ┆ ---      ┆ ---       ┆ ---       │\n",
       "│ date       ┆ str   ┆ i64  ┆ str     ┆ str      ┆ str       ┆ i64       │\n",
       "╞════════════╪═══════╪══════╪═════════╪══════════╪═══════════╪═══════════╡\n",
       "│ 2021-01-01 ┆ enero ┆ 2021 ┆ Linea 1 ┆ balbuena ┆ boleto    ┆ 1848      │\n",
       "│ 2021-01-01 ┆ enero ┆ 2021 ┆ Linea 1 ┆ balbuena ┆ prepago   ┆ 790       │\n",
       "│ 2021-01-01 ┆ enero ┆ 2021 ┆ Linea 1 ┆ balbuena ┆ gratuidad ┆ 325       │\n",
       "│ 2021-01-01 ┆ enero ┆ 2021 ┆ Linea 1 ┆ balderas ┆ boleto    ┆ 1103      │\n",
       "│ 2021-01-01 ┆ enero ┆ 2021 ┆ Linea 1 ┆ balderas ┆ prepago   ┆ 922       │\n",
       "└────────────┴───────┴──────┴─────────┴──────────┴───────────┴───────────┘"
      ]
     },
     "execution_count": 37,
     "metadata": {},
     "output_type": "execute_result"
    }
   ],
   "source": [
    "df_linea_1.head()"
   ]
  },
  {
   "cell_type": "code",
   "execution_count": 38,
   "id": "62008980-faa4-43c8-934f-829b83f81429",
   "metadata": {},
   "outputs": [
    {
     "data": {
      "text/html": [
       "<div><style>\n",
       ".dataframe > thead > tr,\n",
       ".dataframe > tbody > tr {\n",
       "  text-align: right;\n",
       "  white-space: pre-wrap;\n",
       "}\n",
       "</style>\n",
       "<small>shape: (10, 3)</small><table border=\"1\" class=\"dataframe\"><thead><tr><th>estacion</th><th>tipo_pago</th><th>pago_estacion</th></tr><tr><td>str</td><td>str</td><td>u32</td></tr></thead><tbody><tr><td>&quot;cuauhtemoc&quot;</td><td>&quot;boleto&quot;</td><td>1430</td></tr><tr><td>&quot;pino sua¡rez&quot;</td><td>&quot;boleto&quot;</td><td>31</td></tr><tr><td>&quot;observatorio&quot;</td><td>&quot;boleto&quot;</td><td>1461</td></tr><tr><td>&quot;san la¡zaro&quot;</td><td>&quot;boleto&quot;</td><td>31</td></tr><tr><td>&quot;ga³mez farias&quot;</td><td>&quot;prepago&quot;</td><td>31</td></tr><tr><td>&quot;boulevard puerto aa©reo&quot;</td><td>&quot;prepago&quot;</td><td>31</td></tr><tr><td>&quot;merced&quot;</td><td>&quot;gratuidad&quot;</td><td>1461</td></tr><tr><td>&quot;tacubaya&quot;</td><td>&quot;gratuidad&quot;</td><td>1461</td></tr><tr><td>&quot;pino sua¡rez&quot;</td><td>&quot;prepago&quot;</td><td>31</td></tr><tr><td>&quot;candelaria&quot;</td><td>&quot;prepago&quot;</td><td>1461</td></tr></tbody></table></div>"
      ],
      "text/plain": [
       "shape: (10, 3)\n",
       "┌─────────────────────────┬───────────┬───────────────┐\n",
       "│ estacion                ┆ tipo_pago ┆ pago_estacion │\n",
       "│ ---                     ┆ ---       ┆ ---           │\n",
       "│ str                     ┆ str       ┆ u32           │\n",
       "╞═════════════════════════╪═══════════╪═══════════════╡\n",
       "│ cuauhtemoc              ┆ boleto    ┆ 1430          │\n",
       "│ pino sua¡rez            ┆ boleto    ┆ 31            │\n",
       "│ observatorio            ┆ boleto    ┆ 1461          │\n",
       "│ san la¡zaro             ┆ boleto    ┆ 31            │\n",
       "│ ga³mez farias           ┆ prepago   ┆ 31            │\n",
       "│ boulevard puerto aa©reo ┆ prepago   ┆ 31            │\n",
       "│ merced                  ┆ gratuidad ┆ 1461          │\n",
       "│ tacubaya                ┆ gratuidad ┆ 1461          │\n",
       "│ pino sua¡rez            ┆ prepago   ┆ 31            │\n",
       "│ candelaria              ┆ prepago   ┆ 1461          │\n",
       "└─────────────────────────┴───────────┴───────────────┘"
      ]
     },
     "execution_count": 38,
     "metadata": {},
     "output_type": "execute_result"
    }
   ],
   "source": [
    "df2 = df_linea_1.group_by(['estacion','tipo_pago']).agg(\n",
    "    pl.len().alias(\"pago_estacion\")\n",
    ")\n",
    "df2.head(10)"
   ]
  },
  {
   "cell_type": "code",
   "execution_count": 39,
   "id": "91560082-b21f-4418-b777-232d92ebefb1",
   "metadata": {},
   "outputs": [
    {
     "data": {
      "text/html": [
       "<div><style>\n",
       ".dataframe > thead > tr,\n",
       ".dataframe > tbody > tr {\n",
       "  text-align: right;\n",
       "  white-space: pre-wrap;\n",
       "}\n",
       "</style>\n",
       "<small>shape: (9, 4)</small><table border=\"1\" class=\"dataframe\"><thead><tr><th>tipo_pago</th><th>pago_estacion</th><th>suma_pago</th><th>total_anual</th></tr><tr><td>str</td><td>u32</td><td>u32</td><td>u32</td></tr></thead><tbody><tr><td>&quot;boleto&quot;</td><td>1461</td><td>18993</td><td>87660</td></tr><tr><td>&quot;gratuidad&quot;</td><td>1461</td><td>18993</td><td>87660</td></tr><tr><td>&quot;boleto&quot;</td><td>31</td><td>217</td><td>87660</td></tr><tr><td>&quot;gratuidad&quot;</td><td>31</td><td>217</td><td>87660</td></tr><tr><td>&quot;prepago&quot;</td><td>31</td><td>217</td><td>87660</td></tr><tr><td>&quot;prepago&quot;</td><td>1430</td><td>10010</td><td>87660</td></tr><tr><td>&quot;gratuidad&quot;</td><td>1430</td><td>10010</td><td>87660</td></tr><tr><td>&quot;prepago&quot;</td><td>1461</td><td>18993</td><td>87660</td></tr><tr><td>&quot;boleto&quot;</td><td>1430</td><td>10010</td><td>87660</td></tr></tbody></table></div>"
      ],
      "text/plain": [
       "shape: (9, 4)\n",
       "┌───────────┬───────────────┬───────────┬─────────────┐\n",
       "│ tipo_pago ┆ pago_estacion ┆ suma_pago ┆ total_anual │\n",
       "│ ---       ┆ ---           ┆ ---       ┆ ---         │\n",
       "│ str       ┆ u32           ┆ u32       ┆ u32         │\n",
       "╞═══════════╪═══════════════╪═══════════╪═════════════╡\n",
       "│ boleto    ┆ 1461          ┆ 18993     ┆ 87660       │\n",
       "│ gratuidad ┆ 1461          ┆ 18993     ┆ 87660       │\n",
       "│ boleto    ┆ 31            ┆ 217       ┆ 87660       │\n",
       "│ gratuidad ┆ 31            ┆ 217       ┆ 87660       │\n",
       "│ prepago   ┆ 31            ┆ 217       ┆ 87660       │\n",
       "│ prepago   ┆ 1430          ┆ 10010     ┆ 87660       │\n",
       "│ gratuidad ┆ 1430          ┆ 10010     ┆ 87660       │\n",
       "│ prepago   ┆ 1461          ┆ 18993     ┆ 87660       │\n",
       "│ boleto    ┆ 1430          ┆ 10010     ┆ 87660       │\n",
       "└───────────┴───────────────┴───────────┴─────────────┘"
      ]
     },
     "execution_count": 39,
     "metadata": {},
     "output_type": "execute_result"
    }
   ],
   "source": [
    "df2.group_by([\"tipo_pago\",\"pago_estacion\"]).agg(\n",
    "    pl.sum(\"pago_estacion\").alias(\"suma_pago\")\n",
    ").with_columns(pl.col(\"suma_pago\").sum().alias(\"total_anual\"))"
   ]
  },
  {
   "cell_type": "code",
   "execution_count": 40,
   "id": "8f47ecf0-8086-4900-ba72-a54e17855838",
   "metadata": {},
   "outputs": [],
   "source": [
    "#df_linea_1.write_csv('metro_cdmx/linea_1_limpio.csv')"
   ]
  },
  {
   "cell_type": "markdown",
   "id": "7ee985f5-ccd8-478e-a2f6-08f7ae2a1b3c",
   "metadata": {},
   "source": [
    "## Linea 2"
   ]
  },
  {
   "cell_type": "code",
   "execution_count": 41,
   "id": "9e11103d-a082-4c19-9bdf-c51d5e54e8a5",
   "metadata": {},
   "outputs": [],
   "source": [
    "df_linea_2 = df.filter(pl.col('linea')==\"Linea 2\")\n",
    "#df_linea_A = df.filter((pl.col('linea')==\"Linea A\")&(pl.col('fecha').is_between(fecha_inicio,fecha_fin)))"
   ]
  },
  {
   "cell_type": "code",
   "execution_count": 42,
   "id": "4a051165-6a09-44b4-8183-637db539e674",
   "metadata": {},
   "outputs": [],
   "source": [
    "df_linea_2 = df_linea_2.with_columns(pl.col(\"tipo_pago\").map_elements(elimina_acentos, return_dtype=pl.String).alias(\"tipo_pago\"))\n",
    "df_linea_2 = df_linea_2.with_columns(pl.col(\"tipo_pago\").str.to_lowercase().alias(\"tipo_pago\"))\n",
    "df_linea_2 = df_linea_2.with_columns(pl.col(\"estacion\").map_elements(elimina_acentos, return_dtype=pl.String).alias(\"estacion\"))\n",
    "df_linea_2 = df_linea_2.with_columns(pl.col(\"estacion\").str.to_lowercase().alias(\"estacion\"))"
   ]
  },
  {
   "cell_type": "code",
   "execution_count": 43,
   "id": "4799cd73-daeb-467e-92aa-5a5e447066dc",
   "metadata": {},
   "outputs": [
    {
     "data": {
      "text/plain": [
       "29"
      ]
     },
     "execution_count": 43,
     "metadata": {},
     "output_type": "execute_result"
    }
   ],
   "source": [
    "estaciones = df_linea_2.select(pl.col(\"estacion\").unique()).to_series().to_list()\n",
    "len(estaciones) #Hay ocho estaciones de mas"
   ]
  },
  {
   "cell_type": "code",
   "execution_count": 44,
   "id": "acfb9356-949e-4cea-b5e5-6c6175d980b9",
   "metadata": {},
   "outputs": [],
   "source": [
    "df_linea_2 = df_linea_2.with_columns(pl.col('estacion').str.replace(\"pino sua¡rez\",\"pino suarez\"))"
   ]
  },
  {
   "cell_type": "code",
   "execution_count": 45,
   "id": "b2e2b548-9bf0-4978-a4aa-defdd116d1bc",
   "metadata": {},
   "outputs": [
    {
     "data": {
      "text/html": [
       "<div><style>\n",
       ".dataframe > thead > tr,\n",
       ".dataframe > tbody > tr {\n",
       "  text-align: right;\n",
       "  white-space: pre-wrap;\n",
       "}\n",
       "</style>\n",
       "<small>shape: (10, 3)</small><table border=\"1\" class=\"dataframe\"><thead><tr><th>estacion</th><th>tipo_pago</th><th>pago_estacion</th></tr><tr><td>str</td><td>str</td><td>u32</td></tr></thead><tbody><tr><td>&quot;nativitas&quot;</td><td>&quot;boleto&quot;</td><td>1461</td></tr><tr><td>&quot;portales&quot;</td><td>&quot;boleto&quot;</td><td>1461</td></tr><tr><td>&quot;san antonio abad&quot;</td><td>&quot;boleto&quot;</td><td>1461</td></tr><tr><td>&quot;san cosme&quot;</td><td>&quot;gratuidad&quot;</td><td>1461</td></tr><tr><td>&quot;xola&quot;</td><td>&quot;gratuidad&quot;</td><td>1461</td></tr><tr><td>&quot;cuitla¡huac&quot;</td><td>&quot;boleto&quot;</td><td>31</td></tr><tr><td>&quot;chabacano&quot;</td><td>&quot;boleto&quot;</td><td>1461</td></tr><tr><td>&quot;tasquea±a&quot;</td><td>&quot;gratuidad&quot;</td><td>31</td></tr><tr><td>&quot;tasquena&quot;</td><td>&quot;prepago&quot;</td><td>1430</td></tr><tr><td>&quot;allende&quot;</td><td>&quot;prepago&quot;</td><td>1461</td></tr></tbody></table></div>"
      ],
      "text/plain": [
       "shape: (10, 3)\n",
       "┌──────────────────┬───────────┬───────────────┐\n",
       "│ estacion         ┆ tipo_pago ┆ pago_estacion │\n",
       "│ ---              ┆ ---       ┆ ---           │\n",
       "│ str              ┆ str       ┆ u32           │\n",
       "╞══════════════════╪═══════════╪═══════════════╡\n",
       "│ nativitas        ┆ boleto    ┆ 1461          │\n",
       "│ portales         ┆ boleto    ┆ 1461          │\n",
       "│ san antonio abad ┆ boleto    ┆ 1461          │\n",
       "│ san cosme        ┆ gratuidad ┆ 1461          │\n",
       "│ xola             ┆ gratuidad ┆ 1461          │\n",
       "│ cuitla¡huac      ┆ boleto    ┆ 31            │\n",
       "│ chabacano        ┆ boleto    ┆ 1461          │\n",
       "│ tasquea±a        ┆ gratuidad ┆ 31            │\n",
       "│ tasquena         ┆ prepago   ┆ 1430          │\n",
       "│ allende          ┆ prepago   ┆ 1461          │\n",
       "└──────────────────┴───────────┴───────────────┘"
      ]
     },
     "execution_count": 45,
     "metadata": {},
     "output_type": "execute_result"
    }
   ],
   "source": [
    "df2 = df_linea_2.group_by(['estacion','tipo_pago']).agg(\n",
    "    pl.len().alias(\"pago_estacion\")\n",
    ")\n",
    "df2.head(10)"
   ]
  },
  {
   "cell_type": "code",
   "execution_count": 46,
   "id": "e71e47e5-9dbe-439d-ac93-36407e009e6f",
   "metadata": {},
   "outputs": [
    {
     "data": {
      "text/html": [
       "<div><style>\n",
       ".dataframe > thead > tr,\n",
       ".dataframe > tbody > tr {\n",
       "  text-align: right;\n",
       "  white-space: pre-wrap;\n",
       "}\n",
       "</style>\n",
       "<small>shape: (9, 4)</small><table border=\"1\" class=\"dataframe\"><thead><tr><th>tipo_pago</th><th>pago_estacion</th><th>suma_pago</th><th>total_anual</th></tr><tr><td>str</td><td>u32</td><td>u32</td><td>u32</td></tr></thead><tbody><tr><td>&quot;boleto&quot;</td><td>1430</td><td>5720</td><td>105192</td></tr><tr><td>&quot;boleto&quot;</td><td>1461</td><td>29220</td><td>105192</td></tr><tr><td>&quot;prepago&quot;</td><td>1461</td><td>29220</td><td>105192</td></tr><tr><td>&quot;gratuidad&quot;</td><td>31</td><td>124</td><td>105192</td></tr><tr><td>&quot;gratuidad&quot;</td><td>1461</td><td>29220</td><td>105192</td></tr><tr><td>&quot;prepago&quot;</td><td>1430</td><td>5720</td><td>105192</td></tr><tr><td>&quot;prepago&quot;</td><td>31</td><td>124</td><td>105192</td></tr><tr><td>&quot;gratuidad&quot;</td><td>1430</td><td>5720</td><td>105192</td></tr><tr><td>&quot;boleto&quot;</td><td>31</td><td>124</td><td>105192</td></tr></tbody></table></div>"
      ],
      "text/plain": [
       "shape: (9, 4)\n",
       "┌───────────┬───────────────┬───────────┬─────────────┐\n",
       "│ tipo_pago ┆ pago_estacion ┆ suma_pago ┆ total_anual │\n",
       "│ ---       ┆ ---           ┆ ---       ┆ ---         │\n",
       "│ str       ┆ u32           ┆ u32       ┆ u32         │\n",
       "╞═══════════╪═══════════════╪═══════════╪═════════════╡\n",
       "│ boleto    ┆ 1430          ┆ 5720      ┆ 105192      │\n",
       "│ boleto    ┆ 1461          ┆ 29220     ┆ 105192      │\n",
       "│ prepago   ┆ 1461          ┆ 29220     ┆ 105192      │\n",
       "│ gratuidad ┆ 31            ┆ 124       ┆ 105192      │\n",
       "│ gratuidad ┆ 1461          ┆ 29220     ┆ 105192      │\n",
       "│ prepago   ┆ 1430          ┆ 5720      ┆ 105192      │\n",
       "│ prepago   ┆ 31            ┆ 124       ┆ 105192      │\n",
       "│ gratuidad ┆ 1430          ┆ 5720      ┆ 105192      │\n",
       "│ boleto    ┆ 31            ┆ 124       ┆ 105192      │\n",
       "└───────────┴───────────────┴───────────┴─────────────┘"
      ]
     },
     "execution_count": 46,
     "metadata": {},
     "output_type": "execute_result"
    }
   ],
   "source": [
    "df2.group_by([\"tipo_pago\",\"pago_estacion\"]).agg(\n",
    "    pl.sum(\"pago_estacion\").alias(\"suma_pago\")\n",
    ").with_columns(pl.col(\"suma_pago\").sum().alias(\"total_anual\"))"
   ]
  },
  {
   "cell_type": "code",
   "execution_count": 47,
   "id": "5a19344e-4e5d-4485-9123-d19efc924aa8",
   "metadata": {},
   "outputs": [],
   "source": [
    "#df_linea_2.write_csv('metro_cdmx/linea_2_limpio.csv')"
   ]
  },
  {
   "cell_type": "markdown",
   "id": "dd426724-bca7-4659-98c8-d5dd3d496e26",
   "metadata": {},
   "source": [
    "## Linea 3"
   ]
  },
  {
   "cell_type": "code",
   "execution_count": 48,
   "id": "c8e5adae-632b-460c-9685-95cc7325ee36",
   "metadata": {},
   "outputs": [],
   "source": [
    "df_linea_3 = df.filter(pl.col('linea')==\"Linea 3\")\n",
    "#df_linea_A = df.filter((pl.col('linea')==\"Linea A\")&(pl.col('fecha').is_between(fecha_inicio,fecha_fin)))"
   ]
  },
  {
   "cell_type": "code",
   "execution_count": 49,
   "id": "bb20ce42-2e2b-4267-a4fe-87c70fe412a9",
   "metadata": {},
   "outputs": [],
   "source": [
    "df_linea_3 = df_linea_3.with_columns(pl.col(\"tipo_pago\").map_elements(elimina_acentos, return_dtype=pl.String).alias(\"tipo_pago\"))\n",
    "df_linea_3 = df_linea_3.with_columns(pl.col(\"tipo_pago\").str.to_lowercase().alias(\"tipo_pago\"))\n",
    "df_linea_3 = df_linea_3.with_columns(pl.col(\"estacion\").map_elements(elimina_acentos, return_dtype=pl.String).alias(\"estacion\"))\n",
    "df_linea_3 = df_linea_3.with_columns(pl.col(\"estacion\").str.to_lowercase().alias(\"estacion\"))"
   ]
  },
  {
   "cell_type": "code",
   "execution_count": 50,
   "id": "5817b899-12f3-4114-a777-286f4af250f6",
   "metadata": {},
   "outputs": [
    {
     "data": {
      "text/plain": [
       "28"
      ]
     },
     "execution_count": 50,
     "metadata": {},
     "output_type": "execute_result"
    }
   ],
   "source": [
    "estaciones = df_linea_3.select(pl.col(\"estacion\").unique()).to_series().to_list()\n",
    "len(estaciones) #Hay ocho estaciones de mas"
   ]
  },
  {
   "cell_type": "code",
   "execution_count": 51,
   "id": "59ec33a8-2934-4994-94f5-834c06b4702d",
   "metadata": {},
   "outputs": [],
   "source": [
    "df_linea_3 = df_linea_3.with_columns(pl.col('estacion').str.replace(\"jua¡rez\",\"juarez\"))"
   ]
  },
  {
   "cell_type": "code",
   "execution_count": 52,
   "id": "9d128bef-4784-4b1b-a2ef-5f6c3c03d2c2",
   "metadata": {},
   "outputs": [
    {
     "data": {
      "text/html": [
       "<div><style>\n",
       ".dataframe > thead > tr,\n",
       ".dataframe > tbody > tr {\n",
       "  text-align: right;\n",
       "  white-space: pre-wrap;\n",
       "}\n",
       "</style>\n",
       "<small>shape: (10, 3)</small><table border=\"1\" class=\"dataframe\"><thead><tr><th>estacion</th><th>tipo_pago</th><th>pago_estacion</th></tr><tr><td>str</td><td>str</td><td>u32</td></tr></thead><tbody><tr><td>&quot;hidalgo&quot;</td><td>&quot;boleto&quot;</td><td>1461</td></tr><tr><td>&quot;coyoaca¡n&quot;</td><td>&quot;boleto&quot;</td><td>31</td></tr><tr><td>&quot;copilco&quot;</td><td>&quot;boleto&quot;</td><td>1461</td></tr><tr><td>&quot;zapata&quot;</td><td>&quot;prepago&quot;</td><td>1461</td></tr><tr><td>&quot;nia±os ha©roes&quot;</td><td>&quot;boleto&quot;</td><td>31</td></tr><tr><td>&quot;universidad&quot;</td><td>&quot;gratuidad&quot;</td><td>1461</td></tr><tr><td>&quot;tlatelolco&quot;</td><td>&quot;gratuidad&quot;</td><td>1461</td></tr><tr><td>&quot;miguel angel de quevedo&quot;</td><td>&quot;gratuidad&quot;</td><td>1430</td></tr><tr><td>&quot;hospital general&quot;</td><td>&quot;prepago&quot;</td><td>1461</td></tr><tr><td>&quot;indios verdes&quot;</td><td>&quot;prepago&quot;</td><td>1461</td></tr></tbody></table></div>"
      ],
      "text/plain": [
       "shape: (10, 3)\n",
       "┌─────────────────────────┬───────────┬───────────────┐\n",
       "│ estacion                ┆ tipo_pago ┆ pago_estacion │\n",
       "│ ---                     ┆ ---       ┆ ---           │\n",
       "│ str                     ┆ str       ┆ u32           │\n",
       "╞═════════════════════════╪═══════════╪═══════════════╡\n",
       "│ hidalgo                 ┆ boleto    ┆ 1461          │\n",
       "│ coyoaca¡n               ┆ boleto    ┆ 31            │\n",
       "│ copilco                 ┆ boleto    ┆ 1461          │\n",
       "│ zapata                  ┆ prepago   ┆ 1461          │\n",
       "│ nia±os ha©roes          ┆ boleto    ┆ 31            │\n",
       "│ universidad             ┆ gratuidad ┆ 1461          │\n",
       "│ tlatelolco              ┆ gratuidad ┆ 1461          │\n",
       "│ miguel angel de quevedo ┆ gratuidad ┆ 1430          │\n",
       "│ hospital general        ┆ prepago   ┆ 1461          │\n",
       "│ indios verdes           ┆ prepago   ┆ 1461          │\n",
       "└─────────────────────────┴───────────┴───────────────┘"
      ]
     },
     "execution_count": 52,
     "metadata": {},
     "output_type": "execute_result"
    }
   ],
   "source": [
    "df2 = df_linea_3.group_by(['estacion','tipo_pago']).agg(\n",
    "    pl.len().alias(\"pago_estacion\")\n",
    ")\n",
    "df2.head(10)"
   ]
  },
  {
   "cell_type": "code",
   "execution_count": 53,
   "id": "ffa27e39-1109-4279-8135-d2afd32d4916",
   "metadata": {},
   "outputs": [
    {
     "data": {
      "text/html": [
       "<div><style>\n",
       ".dataframe > thead > tr,\n",
       ".dataframe > tbody > tr {\n",
       "  text-align: right;\n",
       "  white-space: pre-wrap;\n",
       "}\n",
       "</style>\n",
       "<small>shape: (9, 4)</small><table border=\"1\" class=\"dataframe\"><thead><tr><th>tipo_pago</th><th>pago_estacion</th><th>suma_pago</th><th>total_anual</th></tr><tr><td>str</td><td>u32</td><td>u32</td><td>u32</td></tr></thead><tbody><tr><td>&quot;prepago&quot;</td><td>1430</td><td>8580</td><td>92043</td></tr><tr><td>&quot;boleto&quot;</td><td>1430</td><td>8580</td><td>92043</td></tr><tr><td>&quot;prepago&quot;</td><td>1461</td><td>21915</td><td>92043</td></tr><tr><td>&quot;prepago&quot;</td><td>31</td><td>186</td><td>92043</td></tr><tr><td>&quot;gratuidad&quot;</td><td>31</td><td>186</td><td>92043</td></tr><tr><td>&quot;boleto&quot;</td><td>1461</td><td>21915</td><td>92043</td></tr><tr><td>&quot;gratuidad&quot;</td><td>1430</td><td>8580</td><td>92043</td></tr><tr><td>&quot;boleto&quot;</td><td>31</td><td>186</td><td>92043</td></tr><tr><td>&quot;gratuidad&quot;</td><td>1461</td><td>21915</td><td>92043</td></tr></tbody></table></div>"
      ],
      "text/plain": [
       "shape: (9, 4)\n",
       "┌───────────┬───────────────┬───────────┬─────────────┐\n",
       "│ tipo_pago ┆ pago_estacion ┆ suma_pago ┆ total_anual │\n",
       "│ ---       ┆ ---           ┆ ---       ┆ ---         │\n",
       "│ str       ┆ u32           ┆ u32       ┆ u32         │\n",
       "╞═══════════╪═══════════════╪═══════════╪═════════════╡\n",
       "│ prepago   ┆ 1430          ┆ 8580      ┆ 92043       │\n",
       "│ boleto    ┆ 1430          ┆ 8580      ┆ 92043       │\n",
       "│ prepago   ┆ 1461          ┆ 21915     ┆ 92043       │\n",
       "│ prepago   ┆ 31            ┆ 186       ┆ 92043       │\n",
       "│ gratuidad ┆ 31            ┆ 186       ┆ 92043       │\n",
       "│ boleto    ┆ 1461          ┆ 21915     ┆ 92043       │\n",
       "│ gratuidad ┆ 1430          ┆ 8580      ┆ 92043       │\n",
       "│ boleto    ┆ 31            ┆ 186       ┆ 92043       │\n",
       "│ gratuidad ┆ 1461          ┆ 21915     ┆ 92043       │\n",
       "└───────────┴───────────────┴───────────┴─────────────┘"
      ]
     },
     "execution_count": 53,
     "metadata": {},
     "output_type": "execute_result"
    }
   ],
   "source": [
    "df2.group_by([\"tipo_pago\",\"pago_estacion\"]).agg(\n",
    "    pl.sum(\"pago_estacion\").alias(\"suma_pago\")\n",
    ").with_columns(pl.col(\"suma_pago\").sum().alias(\"total_anual\"))"
   ]
  },
  {
   "cell_type": "code",
   "execution_count": 54,
   "id": "90128dc3-4250-41f8-b8ca-65dabcf29bd9",
   "metadata": {},
   "outputs": [],
   "source": [
    "#df_linea_3.write_csv('metro_cdmx/linea_3_limpio.csv')"
   ]
  },
  {
   "cell_type": "markdown",
   "id": "67d4507b-c4f7-4596-99d8-ca523d614dec",
   "metadata": {},
   "source": [
    "## Linea 4"
   ]
  },
  {
   "cell_type": "code",
   "execution_count": 55,
   "id": "e3b18e5a-e57c-4b40-8138-0a6fea151dae",
   "metadata": {},
   "outputs": [],
   "source": [
    "df_linea_4 = df.filter(pl.col('linea')==\"Linea 4\")\n",
    "#df_linea_A = df.filter((pl.col('linea')==\"Linea A\")&(pl.col('fecha').is_between(fecha_inicio,fecha_fin)))"
   ]
  },
  {
   "cell_type": "code",
   "execution_count": 56,
   "id": "41a9a3ce-5855-4eb8-952d-a5c1dd4509ba",
   "metadata": {},
   "outputs": [],
   "source": [
    "df_linea_4 = df_linea_4.with_columns(pl.col(\"tipo_pago\").map_elements(elimina_acentos, return_dtype=pl.String).alias(\"tipo_pago\"))\n",
    "df_linea_4 = df_linea_4.with_columns(pl.col(\"tipo_pago\").str.to_lowercase().alias(\"tipo_pago\"))\n",
    "df_linea_4 = df_linea_4.with_columns(pl.col(\"estacion\").map_elements(elimina_acentos, return_dtype=pl.String).alias(\"estacion\"))\n",
    "df_linea_4 = df_linea_4.with_columns(pl.col(\"estacion\").str.to_lowercase().alias(\"estacion\"))"
   ]
  },
  {
   "cell_type": "code",
   "execution_count": 57,
   "id": "679e0f27-0fa8-4e31-9a09-e068ac8c5cd0",
   "metadata": {},
   "outputs": [
    {
     "data": {
      "text/plain": [
       "['martin carrera',\n",
       " 'talisman',\n",
       " 'marta\\xadn carrera',\n",
       " 'canal del norte',\n",
       " 'candelaria',\n",
       " 'jamaica',\n",
       " 'talisma¡n',\n",
       " 'consulado',\n",
       " 'bondojito',\n",
       " 'santa anita',\n",
       " 'fray servando',\n",
       " 'morelos']"
      ]
     },
     "execution_count": 57,
     "metadata": {},
     "output_type": "execute_result"
    }
   ],
   "source": [
    "estaciones = df_linea_4.select(pl.col(\"estacion\").unique()).to_series().to_list()\n",
    "estaciones #Hay ocho estaciones de mas"
   ]
  },
  {
   "cell_type": "code",
   "execution_count": 58,
   "id": "0c7d1c6c-b7b8-42a0-8c77-d8d653818598",
   "metadata": {},
   "outputs": [],
   "source": [
    "df_linea_4 = df_linea_4.with_columns(pl.col('estacion').str.replace(\"talisma¡n\",\"talisman\"))"
   ]
  },
  {
   "cell_type": "code",
   "execution_count": 59,
   "id": "6efe49f0-a301-486c-af3e-f4608538afb7",
   "metadata": {},
   "outputs": [
    {
     "data": {
      "text/html": [
       "<div><style>\n",
       ".dataframe > thead > tr,\n",
       ".dataframe > tbody > tr {\n",
       "  text-align: right;\n",
       "  white-space: pre-wrap;\n",
       "}\n",
       "</style>\n",
       "<small>shape: (10, 3)</small><table border=\"1\" class=\"dataframe\"><thead><tr><th>estacion</th><th>tipo_pago</th><th>pago_estacion</th></tr><tr><td>str</td><td>str</td><td>u32</td></tr></thead><tbody><tr><td>&quot;fray servando&quot;</td><td>&quot;prepago&quot;</td><td>1461</td></tr><tr><td>&quot;consulado&quot;</td><td>&quot;prepago&quot;</td><td>1461</td></tr><tr><td>&quot;talisman&quot;</td><td>&quot;prepago&quot;</td><td>1461</td></tr><tr><td>&quot;santa anita&quot;</td><td>&quot;boleto&quot;</td><td>1461</td></tr><tr><td>&quot;talisman&quot;</td><td>&quot;gratuidad&quot;</td><td>1461</td></tr><tr><td>&quot;santa anita&quot;</td><td>&quot;prepago&quot;</td><td>1461</td></tr><tr><td>&quot;candelaria&quot;</td><td>&quot;gratuidad&quot;</td><td>1461</td></tr><tr><td>&quot;talisman&quot;</td><td>&quot;boleto&quot;</td><td>1461</td></tr><tr><td>&quot;bondojito&quot;</td><td>&quot;prepago&quot;</td><td>1461</td></tr><tr><td>&quot;canal del norte&quot;</td><td>&quot;prepago&quot;</td><td>1461</td></tr></tbody></table></div>"
      ],
      "text/plain": [
       "shape: (10, 3)\n",
       "┌─────────────────┬───────────┬───────────────┐\n",
       "│ estacion        ┆ tipo_pago ┆ pago_estacion │\n",
       "│ ---             ┆ ---       ┆ ---           │\n",
       "│ str             ┆ str       ┆ u32           │\n",
       "╞═════════════════╪═══════════╪═══════════════╡\n",
       "│ fray servando   ┆ prepago   ┆ 1461          │\n",
       "│ consulado       ┆ prepago   ┆ 1461          │\n",
       "│ talisman        ┆ prepago   ┆ 1461          │\n",
       "│ santa anita     ┆ boleto    ┆ 1461          │\n",
       "│ talisman        ┆ gratuidad ┆ 1461          │\n",
       "│ santa anita     ┆ prepago   ┆ 1461          │\n",
       "│ candelaria      ┆ gratuidad ┆ 1461          │\n",
       "│ talisman        ┆ boleto    ┆ 1461          │\n",
       "│ bondojito       ┆ prepago   ┆ 1461          │\n",
       "│ canal del norte ┆ prepago   ┆ 1461          │\n",
       "└─────────────────┴───────────┴───────────────┘"
      ]
     },
     "execution_count": 59,
     "metadata": {},
     "output_type": "execute_result"
    }
   ],
   "source": [
    "df2 = df_linea_4.group_by(['estacion','tipo_pago']).agg(\n",
    "    pl.len().alias(\"pago_estacion\")\n",
    ")\n",
    "df2.head(10)"
   ]
  },
  {
   "cell_type": "code",
   "execution_count": 60,
   "id": "3d519c2f-93c8-43c9-845a-5cc45c0eb132",
   "metadata": {},
   "outputs": [
    {
     "data": {
      "text/html": [
       "<div><style>\n",
       ".dataframe > thead > tr,\n",
       ".dataframe > tbody > tr {\n",
       "  text-align: right;\n",
       "  white-space: pre-wrap;\n",
       "}\n",
       "</style>\n",
       "<small>shape: (9, 4)</small><table border=\"1\" class=\"dataframe\"><thead><tr><th>tipo_pago</th><th>pago_estacion</th><th>suma_pago</th><th>total_anual</th></tr><tr><td>str</td><td>u32</td><td>u32</td><td>u32</td></tr></thead><tbody><tr><td>&quot;gratuidad&quot;</td><td>1430</td><td>1430</td><td>43830</td></tr><tr><td>&quot;prepago&quot;</td><td>1461</td><td>13149</td><td>43830</td></tr><tr><td>&quot;prepago&quot;</td><td>31</td><td>31</td><td>43830</td></tr><tr><td>&quot;boleto&quot;</td><td>1461</td><td>13149</td><td>43830</td></tr><tr><td>&quot;prepago&quot;</td><td>1430</td><td>1430</td><td>43830</td></tr><tr><td>&quot;boleto&quot;</td><td>1430</td><td>1430</td><td>43830</td></tr><tr><td>&quot;gratuidad&quot;</td><td>31</td><td>31</td><td>43830</td></tr><tr><td>&quot;gratuidad&quot;</td><td>1461</td><td>13149</td><td>43830</td></tr><tr><td>&quot;boleto&quot;</td><td>31</td><td>31</td><td>43830</td></tr></tbody></table></div>"
      ],
      "text/plain": [
       "shape: (9, 4)\n",
       "┌───────────┬───────────────┬───────────┬─────────────┐\n",
       "│ tipo_pago ┆ pago_estacion ┆ suma_pago ┆ total_anual │\n",
       "│ ---       ┆ ---           ┆ ---       ┆ ---         │\n",
       "│ str       ┆ u32           ┆ u32       ┆ u32         │\n",
       "╞═══════════╪═══════════════╪═══════════╪═════════════╡\n",
       "│ gratuidad ┆ 1430          ┆ 1430      ┆ 43830       │\n",
       "│ prepago   ┆ 1461          ┆ 13149     ┆ 43830       │\n",
       "│ prepago   ┆ 31            ┆ 31        ┆ 43830       │\n",
       "│ boleto    ┆ 1461          ┆ 13149     ┆ 43830       │\n",
       "│ prepago   ┆ 1430          ┆ 1430      ┆ 43830       │\n",
       "│ boleto    ┆ 1430          ┆ 1430      ┆ 43830       │\n",
       "│ gratuidad ┆ 31            ┆ 31        ┆ 43830       │\n",
       "│ gratuidad ┆ 1461          ┆ 13149     ┆ 43830       │\n",
       "│ boleto    ┆ 31            ┆ 31        ┆ 43830       │\n",
       "└───────────┴───────────────┴───────────┴─────────────┘"
      ]
     },
     "execution_count": 60,
     "metadata": {},
     "output_type": "execute_result"
    }
   ],
   "source": [
    "df2.group_by([\"tipo_pago\",\"pago_estacion\"]).agg(\n",
    "    pl.sum(\"pago_estacion\").alias(\"suma_pago\")\n",
    ").with_columns(pl.col(\"suma_pago\").sum().alias(\"total_anual\"))"
   ]
  },
  {
   "cell_type": "code",
   "execution_count": 61,
   "id": "bb32925d-5ef2-42ca-b700-d26b384f7e11",
   "metadata": {},
   "outputs": [],
   "source": [
    "#df_linea_4.write_csv('metro_cdmx/linea_4_limpio.csv')"
   ]
  },
  {
   "cell_type": "markdown",
   "id": "34f3171d-596b-498f-81a5-06a0b3557102",
   "metadata": {},
   "source": [
    "## Linea 5"
   ]
  },
  {
   "cell_type": "code",
   "execution_count": 67,
   "id": "92558a2d-6ab7-4261-96bf-eca52a4c17ed",
   "metadata": {},
   "outputs": [],
   "source": [
    "df_linea_5 = df.filter(pl.col('linea')==\"Linea 5\")\n",
    "#df_linea_A = df.filter((pl.col('linea')==\"Linea A\")&(pl.col('fecha').is_between(fecha_inicio,fecha_fin)))"
   ]
  },
  {
   "cell_type": "code",
   "execution_count": 68,
   "id": "817d5b56-babe-4474-a4eb-bc1d4fd3b516",
   "metadata": {},
   "outputs": [],
   "source": [
    "df_linea_5 = df_linea_5.with_columns(pl.col(\"tipo_pago\").map_elements(elimina_acentos, return_dtype=pl.String).alias(\"tipo_pago\"))\n",
    "df_linea_5 = df_linea_5.with_columns(pl.col(\"tipo_pago\").str.to_lowercase().alias(\"tipo_pago\"))\n",
    "df_linea_5 = df_linea_5.with_columns(pl.col(\"estacion\").map_elements(elimina_acentos, return_dtype=pl.String).alias(\"estacion\"))\n",
    "df_linea_5 = df_linea_5.with_columns(pl.col(\"estacion\").str.to_lowercase().alias(\"estacion\"))"
   ]
  },
  {
   "cell_type": "code",
   "execution_count": 83,
   "id": "0d631fb4-bbe9-4edc-9f65-31107d0ce7b7",
   "metadata": {},
   "outputs": [
    {
     "data": {
      "text/plain": [
       "13"
      ]
     },
     "execution_count": 83,
     "metadata": {},
     "output_type": "execute_result"
    }
   ],
   "source": [
    "estaciones = df_linea_5.select(pl.col(\"estacion\").unique()).to_series().to_list()\n",
    "len(estaciones) #Hay ocho estaciones de mas"
   ]
  },
  {
   "cell_type": "code",
   "execution_count": 81,
   "id": "ec4906e2-8994-4774-b5e9-7b39cb50ba53",
   "metadata": {},
   "outputs": [],
   "source": [
    "df_linea_5 = df_linea_5.with_columns(pl.col('estacion').str.replace(\"polita©cnico\",\"politecnico\"))"
   ]
  },
  {
   "cell_type": "code",
   "execution_count": 84,
   "id": "24d2c9bb-6441-4bd7-8e16-418c20e1e0ce",
   "metadata": {},
   "outputs": [
    {
     "data": {
      "text/html": [
       "<div><style>\n",
       ".dataframe > thead > tr,\n",
       ".dataframe > tbody > tr {\n",
       "  text-align: right;\n",
       "  white-space: pre-wrap;\n",
       "}\n",
       "</style>\n",
       "<small>shape: (10, 3)</small><table border=\"1\" class=\"dataframe\"><thead><tr><th>estacion</th><th>tipo_pago</th><th>pago_estacion</th></tr><tr><td>str</td><td>str</td><td>u32</td></tr></thead><tbody><tr><td>&quot;hangares&quot;</td><td>&quot;boleto&quot;</td><td>1461</td></tr><tr><td>&quot;pantitlan&quot;</td><td>&quot;gratuidad&quot;</td><td>1461</td></tr><tr><td>&quot;politecnico&quot;</td><td>&quot;gratuidad&quot;</td><td>1461</td></tr><tr><td>&quot;valle gomez&quot;</td><td>&quot;prepago&quot;</td><td>1461</td></tr><tr><td>&quot;oceania&quot;</td><td>&quot;prepago&quot;</td><td>1461</td></tr><tr><td>&quot;politecnico&quot;</td><td>&quot;prepago&quot;</td><td>1461</td></tr><tr><td>&quot;terminal aerea&quot;</td><td>&quot;gratuidad&quot;</td><td>1461</td></tr><tr><td>&quot;terminal aerea&quot;</td><td>&quot;prepago&quot;</td><td>1461</td></tr><tr><td>&quot;politecnico&quot;</td><td>&quot;boleto&quot;</td><td>1461</td></tr><tr><td>&quot;oceania&quot;</td><td>&quot;gratuidad&quot;</td><td>1461</td></tr></tbody></table></div>"
      ],
      "text/plain": [
       "shape: (10, 3)\n",
       "┌────────────────┬───────────┬───────────────┐\n",
       "│ estacion       ┆ tipo_pago ┆ pago_estacion │\n",
       "│ ---            ┆ ---       ┆ ---           │\n",
       "│ str            ┆ str       ┆ u32           │\n",
       "╞════════════════╪═══════════╪═══════════════╡\n",
       "│ hangares       ┆ boleto    ┆ 1461          │\n",
       "│ pantitlan      ┆ gratuidad ┆ 1461          │\n",
       "│ politecnico    ┆ gratuidad ┆ 1461          │\n",
       "│ valle gomez    ┆ prepago   ┆ 1461          │\n",
       "│ oceania        ┆ prepago   ┆ 1461          │\n",
       "│ politecnico    ┆ prepago   ┆ 1461          │\n",
       "│ terminal aerea ┆ gratuidad ┆ 1461          │\n",
       "│ terminal aerea ┆ prepago   ┆ 1461          │\n",
       "│ politecnico    ┆ boleto    ┆ 1461          │\n",
       "│ oceania        ┆ gratuidad ┆ 1461          │\n",
       "└────────────────┴───────────┴───────────────┘"
      ]
     },
     "execution_count": 84,
     "metadata": {},
     "output_type": "execute_result"
    }
   ],
   "source": [
    "df2 = df_linea_5.group_by(['estacion','tipo_pago']).agg(\n",
    "    pl.len().alias(\"pago_estacion\")\n",
    ")\n",
    "df2.head(10)"
   ]
  },
  {
   "cell_type": "code",
   "execution_count": 85,
   "id": "c36a9257-067d-4135-be6c-c74ae739c325",
   "metadata": {},
   "outputs": [
    {
     "data": {
      "text/html": [
       "<div><style>\n",
       ".dataframe > thead > tr,\n",
       ".dataframe > tbody > tr {\n",
       "  text-align: right;\n",
       "  white-space: pre-wrap;\n",
       "}\n",
       "</style>\n",
       "<small>shape: (3, 4)</small><table border=\"1\" class=\"dataframe\"><thead><tr><th>tipo_pago</th><th>pago_estacion</th><th>suma_pago</th><th>total_anual</th></tr><tr><td>str</td><td>u32</td><td>u32</td><td>u32</td></tr></thead><tbody><tr><td>&quot;gratuidad&quot;</td><td>1461</td><td>18993</td><td>56979</td></tr><tr><td>&quot;boleto&quot;</td><td>1461</td><td>18993</td><td>56979</td></tr><tr><td>&quot;prepago&quot;</td><td>1461</td><td>18993</td><td>56979</td></tr></tbody></table></div>"
      ],
      "text/plain": [
       "shape: (3, 4)\n",
       "┌───────────┬───────────────┬───────────┬─────────────┐\n",
       "│ tipo_pago ┆ pago_estacion ┆ suma_pago ┆ total_anual │\n",
       "│ ---       ┆ ---           ┆ ---       ┆ ---         │\n",
       "│ str       ┆ u32           ┆ u32       ┆ u32         │\n",
       "╞═══════════╪═══════════════╪═══════════╪═════════════╡\n",
       "│ gratuidad ┆ 1461          ┆ 18993     ┆ 56979       │\n",
       "│ boleto    ┆ 1461          ┆ 18993     ┆ 56979       │\n",
       "│ prepago   ┆ 1461          ┆ 18993     ┆ 56979       │\n",
       "└───────────┴───────────────┴───────────┴─────────────┘"
      ]
     },
     "execution_count": 85,
     "metadata": {},
     "output_type": "execute_result"
    }
   ],
   "source": [
    "df2.group_by([\"tipo_pago\",\"pago_estacion\"]).agg(\n",
    "    pl.sum(\"pago_estacion\").alias(\"suma_pago\")\n",
    ").with_columns(pl.col(\"suma_pago\").sum().alias(\"total_anual\"))"
   ]
  },
  {
   "cell_type": "code",
   "execution_count": 86,
   "id": "b6b27b69-5938-48d4-a588-0b1e0cf24728",
   "metadata": {},
   "outputs": [],
   "source": [
    "df_linea_5.write_csv('metro_cdmx/linea_5_limpio.csv')"
   ]
  },
  {
   "cell_type": "markdown",
   "id": "2c5ae688-09fe-4b39-97e9-ac22d596e3e4",
   "metadata": {},
   "source": [
    "## Linea 6"
   ]
  },
  {
   "cell_type": "code",
   "execution_count": 87,
   "id": "f6d6bb69-4f85-46b2-a26f-15fdd5a9f161",
   "metadata": {},
   "outputs": [],
   "source": [
    "df_linea_6 = df.filter(pl.col('linea')==\"Linea 6\")\n",
    "#df_linea_A = df.filter((pl.col('linea')==\"Linea A\")&(pl.col('fecha').is_between(fecha_inicio,fecha_fin)))"
   ]
  },
  {
   "cell_type": "code",
   "execution_count": 88,
   "id": "a6a01b20-75a3-4599-bce1-1ea2183faedc",
   "metadata": {},
   "outputs": [],
   "source": [
    "df_linea_6 = df_linea_6.with_columns(pl.col(\"tipo_pago\").map_elements(elimina_acentos, return_dtype=pl.String).alias(\"tipo_pago\"))\n",
    "df_linea_6 = df_linea_6.with_columns(pl.col(\"tipo_pago\").str.to_lowercase().alias(\"tipo_pago\"))\n",
    "df_linea_6 = df_linea_6.with_columns(pl.col(\"estacion\").map_elements(elimina_acentos, return_dtype=pl.String).alias(\"estacion\"))\n",
    "df_linea_6 = df_linea_6.with_columns(pl.col(\"estacion\").str.to_lowercase().alias(\"estacion\"))"
   ]
  },
  {
   "cell_type": "code",
   "execution_count": 101,
   "id": "aa29914e-bb5d-4471-90d5-8adfb15ec171",
   "metadata": {},
   "outputs": [
    {
     "data": {
      "text/plain": [
       "11"
      ]
     },
     "execution_count": 101,
     "metadata": {},
     "output_type": "execute_result"
    }
   ],
   "source": [
    "estaciones = df_linea_6.select(pl.col(\"estacion\").unique()).to_series().to_list()\n",
    "len(estaciones) #Hay ocho estaciones de mas"
   ]
  },
  {
   "cell_type": "code",
   "execution_count": 99,
   "id": "e881963f-e967-432b-a16f-8a41b3e689ab",
   "metadata": {},
   "outputs": [],
   "source": [
    "df_linea_6 = df_linea_6.with_columns(pl.col('estacion').str.replace(\"instituto del petra³leo\",\"instituto del petroleo\"))"
   ]
  },
  {
   "cell_type": "code",
   "execution_count": 102,
   "id": "e456e120-8ca6-4723-9f28-07d5e821a825",
   "metadata": {},
   "outputs": [
    {
     "data": {
      "text/html": [
       "<div><style>\n",
       ".dataframe > thead > tr,\n",
       ".dataframe > tbody > tr {\n",
       "  text-align: right;\n",
       "  white-space: pre-wrap;\n",
       "}\n",
       "</style>\n",
       "<small>shape: (10, 3)</small><table border=\"1\" class=\"dataframe\"><thead><tr><th>estacion</th><th>tipo_pago</th><th>pago_estacion</th></tr><tr><td>str</td><td>str</td><td>u32</td></tr></thead><tbody><tr><td>&quot;el rosario&quot;</td><td>&quot;prepago&quot;</td><td>1461</td></tr><tr><td>&quot;la villa/basilica&quot;</td><td>&quot;gratuidad&quot;</td><td>1461</td></tr><tr><td>&quot;deportivo 18 de marzo&quot;</td><td>&quot;boleto&quot;</td><td>1461</td></tr><tr><td>&quot;lindavista&quot;</td><td>&quot;gratuidad&quot;</td><td>1461</td></tr><tr><td>&quot;tezozomoc&quot;</td><td>&quot;boleto&quot;</td><td>1461</td></tr><tr><td>&quot;la villa/basilica&quot;</td><td>&quot;boleto&quot;</td><td>1461</td></tr><tr><td>&quot;la villa/basilica&quot;</td><td>&quot;prepago&quot;</td><td>1461</td></tr><tr><td>&quot;ferreria/arena ciudad de mexic…</td><td>&quot;boleto&quot;</td><td>1461</td></tr><tr><td>&quot;tezozomoc&quot;</td><td>&quot;gratuidad&quot;</td><td>1461</td></tr><tr><td>&quot;instituto del petroleo&quot;</td><td>&quot;gratuidad&quot;</td><td>1461</td></tr></tbody></table></div>"
      ],
      "text/plain": [
       "shape: (10, 3)\n",
       "┌─────────────────────────────────┬───────────┬───────────────┐\n",
       "│ estacion                        ┆ tipo_pago ┆ pago_estacion │\n",
       "│ ---                             ┆ ---       ┆ ---           │\n",
       "│ str                             ┆ str       ┆ u32           │\n",
       "╞═════════════════════════════════╪═══════════╪═══════════════╡\n",
       "│ el rosario                      ┆ prepago   ┆ 1461          │\n",
       "│ la villa/basilica               ┆ gratuidad ┆ 1461          │\n",
       "│ deportivo 18 de marzo           ┆ boleto    ┆ 1461          │\n",
       "│ lindavista                      ┆ gratuidad ┆ 1461          │\n",
       "│ tezozomoc                       ┆ boleto    ┆ 1461          │\n",
       "│ la villa/basilica               ┆ boleto    ┆ 1461          │\n",
       "│ la villa/basilica               ┆ prepago   ┆ 1461          │\n",
       "│ ferreria/arena ciudad de mexic… ┆ boleto    ┆ 1461          │\n",
       "│ tezozomoc                       ┆ gratuidad ┆ 1461          │\n",
       "│ instituto del petroleo          ┆ gratuidad ┆ 1461          │\n",
       "└─────────────────────────────────┴───────────┴───────────────┘"
      ]
     },
     "execution_count": 102,
     "metadata": {},
     "output_type": "execute_result"
    }
   ],
   "source": [
    "df2 = df_linea_6.group_by(['estacion','tipo_pago']).agg(\n",
    "    pl.len().alias(\"pago_estacion\")\n",
    ")\n",
    "df2.head(10)"
   ]
  },
  {
   "cell_type": "code",
   "execution_count": 103,
   "id": "0fa192dd-5649-46a5-ab94-231cb8566fa1",
   "metadata": {},
   "outputs": [
    {
     "data": {
      "text/html": [
       "<div><style>\n",
       ".dataframe > thead > tr,\n",
       ".dataframe > tbody > tr {\n",
       "  text-align: right;\n",
       "  white-space: pre-wrap;\n",
       "}\n",
       "</style>\n",
       "<small>shape: (3, 4)</small><table border=\"1\" class=\"dataframe\"><thead><tr><th>tipo_pago</th><th>pago_estacion</th><th>suma_pago</th><th>total_anual</th></tr><tr><td>str</td><td>u32</td><td>u32</td><td>u32</td></tr></thead><tbody><tr><td>&quot;prepago&quot;</td><td>1461</td><td>16071</td><td>48213</td></tr><tr><td>&quot;gratuidad&quot;</td><td>1461</td><td>16071</td><td>48213</td></tr><tr><td>&quot;boleto&quot;</td><td>1461</td><td>16071</td><td>48213</td></tr></tbody></table></div>"
      ],
      "text/plain": [
       "shape: (3, 4)\n",
       "┌───────────┬───────────────┬───────────┬─────────────┐\n",
       "│ tipo_pago ┆ pago_estacion ┆ suma_pago ┆ total_anual │\n",
       "│ ---       ┆ ---           ┆ ---       ┆ ---         │\n",
       "│ str       ┆ u32           ┆ u32       ┆ u32         │\n",
       "╞═══════════╪═══════════════╪═══════════╪═════════════╡\n",
       "│ prepago   ┆ 1461          ┆ 16071     ┆ 48213       │\n",
       "│ gratuidad ┆ 1461          ┆ 16071     ┆ 48213       │\n",
       "│ boleto    ┆ 1461          ┆ 16071     ┆ 48213       │\n",
       "└───────────┴───────────────┴───────────┴─────────────┘"
      ]
     },
     "execution_count": 103,
     "metadata": {},
     "output_type": "execute_result"
    }
   ],
   "source": [
    "df2.group_by([\"tipo_pago\",\"pago_estacion\"]).agg(\n",
    "    pl.sum(\"pago_estacion\").alias(\"suma_pago\")\n",
    ").with_columns(pl.col(\"suma_pago\").sum().alias(\"total_anual\"))"
   ]
  },
  {
   "cell_type": "code",
   "execution_count": 105,
   "id": "0cd15aac-acbb-4890-8bae-e04cfd6837ce",
   "metadata": {},
   "outputs": [],
   "source": [
    "df_linea_6.write_csv('metro_cdmx/linea_6_limpio.csv')"
   ]
  },
  {
   "cell_type": "markdown",
   "id": "ce486092-06ee-4adc-92ef-07234a973757",
   "metadata": {},
   "source": [
    "## Linea 7"
   ]
  },
  {
   "cell_type": "code",
   "execution_count": 133,
   "id": "bb3df63e-c331-4d35-85fa-4e91eddf16b8",
   "metadata": {},
   "outputs": [],
   "source": [
    "df_linea_7 = df.filter(pl.col('linea')==\"Linea 7\")\n",
    "#df_linea_A = df.filter((pl.col('linea')==\"Linea A\")&(pl.col('fecha').is_between(fecha_inicio,fecha_fin)))"
   ]
  },
  {
   "cell_type": "code",
   "execution_count": 134,
   "id": "97e505b0-c494-472f-9d5b-f60ac2107278",
   "metadata": {},
   "outputs": [],
   "source": [
    "df_linea_7 = df_linea_7.with_columns(pl.col(\"tipo_pago\").map_elements(elimina_acentos, return_dtype=pl.String).alias(\"tipo_pago\"))\n",
    "df_linea_7 = df_linea_7.with_columns(pl.col(\"tipo_pago\").str.to_lowercase().alias(\"tipo_pago\"))\n",
    "df_linea_7 = df_linea_7.with_columns(pl.col(\"estacion\").map_elements(elimina_acentos, return_dtype=pl.String).alias(\"estacion\"))\n",
    "df_linea_7 = df_linea_7.with_columns(pl.col(\"estacion\").str.to_lowercase().alias(\"estacion\"))"
   ]
  },
  {
   "cell_type": "code",
   "execution_count": 140,
   "id": "003b5b64-16e9-4bce-963e-c38fb583edd0",
   "metadata": {},
   "outputs": [
    {
     "data": {
      "text/plain": [
       "14"
      ]
     },
     "execution_count": 140,
     "metadata": {},
     "output_type": "execute_result"
    }
   ],
   "source": [
    "estaciones = df_linea_7.select(pl.col(\"estacion\").unique()).to_series().to_list()\n",
    "len(estaciones) #Hay ocho estaciones de mas"
   ]
  },
  {
   "cell_type": "code",
   "execution_count": 138,
   "id": "5fda2305-5414-4045-82c4-88247ca1b21d",
   "metadata": {},
   "outputs": [],
   "source": [
    "df_linea_7 = df_linea_7.with_columns(pl.col('estacion').str.replace(\"san joaqua\\xadn\",\"san joaquin\"))"
   ]
  },
  {
   "cell_type": "code",
   "execution_count": 141,
   "id": "1eb7118e-a414-4ed3-8d20-dc3fc8f38d5c",
   "metadata": {},
   "outputs": [
    {
     "data": {
      "text/html": [
       "<div><style>\n",
       ".dataframe > thead > tr,\n",
       ".dataframe > tbody > tr {\n",
       "  text-align: right;\n",
       "  white-space: pre-wrap;\n",
       "}\n",
       "</style>\n",
       "<small>shape: (10, 3)</small><table border=\"1\" class=\"dataframe\"><thead><tr><th>estacion</th><th>tipo_pago</th><th>pago_estacion</th></tr><tr><td>str</td><td>str</td><td>u32</td></tr></thead><tbody><tr><td>&quot;mixcoac&quot;</td><td>&quot;prepago&quot;</td><td>1461</td></tr><tr><td>&quot;tacubaya&quot;</td><td>&quot;prepago&quot;</td><td>1461</td></tr><tr><td>&quot;auditorio&quot;</td><td>&quot;boleto&quot;</td><td>1461</td></tr><tr><td>&quot;aquiles serdan&quot;</td><td>&quot;gratuidad&quot;</td><td>1461</td></tr><tr><td>&quot;camarones&quot;</td><td>&quot;prepago&quot;</td><td>1461</td></tr><tr><td>&quot;polanco&quot;</td><td>&quot;gratuidad&quot;</td><td>1461</td></tr><tr><td>&quot;el rosario&quot;</td><td>&quot;boleto&quot;</td><td>1461</td></tr><tr><td>&quot;san antonio&quot;</td><td>&quot;gratuidad&quot;</td><td>1461</td></tr><tr><td>&quot;san pedro de los pinos&quot;</td><td>&quot;gratuidad&quot;</td><td>1461</td></tr><tr><td>&quot;el rosario&quot;</td><td>&quot;gratuidad&quot;</td><td>1461</td></tr></tbody></table></div>"
      ],
      "text/plain": [
       "shape: (10, 3)\n",
       "┌────────────────────────┬───────────┬───────────────┐\n",
       "│ estacion               ┆ tipo_pago ┆ pago_estacion │\n",
       "│ ---                    ┆ ---       ┆ ---           │\n",
       "│ str                    ┆ str       ┆ u32           │\n",
       "╞════════════════════════╪═══════════╪═══════════════╡\n",
       "│ mixcoac                ┆ prepago   ┆ 1461          │\n",
       "│ tacubaya               ┆ prepago   ┆ 1461          │\n",
       "│ auditorio              ┆ boleto    ┆ 1461          │\n",
       "│ aquiles serdan         ┆ gratuidad ┆ 1461          │\n",
       "│ camarones              ┆ prepago   ┆ 1461          │\n",
       "│ polanco                ┆ gratuidad ┆ 1461          │\n",
       "│ el rosario             ┆ boleto    ┆ 1461          │\n",
       "│ san antonio            ┆ gratuidad ┆ 1461          │\n",
       "│ san pedro de los pinos ┆ gratuidad ┆ 1461          │\n",
       "│ el rosario             ┆ gratuidad ┆ 1461          │\n",
       "└────────────────────────┴───────────┴───────────────┘"
      ]
     },
     "execution_count": 141,
     "metadata": {},
     "output_type": "execute_result"
    }
   ],
   "source": [
    "df2 = df_linea_7.group_by(['estacion','tipo_pago']).agg(\n",
    "    pl.len().alias(\"pago_estacion\")\n",
    ")\n",
    "df2.head(10)"
   ]
  },
  {
   "cell_type": "code",
   "execution_count": 142,
   "id": "01f7e3b6-6cba-432b-b48a-f4a157d95de8",
   "metadata": {},
   "outputs": [
    {
     "data": {
      "text/html": [
       "<div><style>\n",
       ".dataframe > thead > tr,\n",
       ".dataframe > tbody > tr {\n",
       "  text-align: right;\n",
       "  white-space: pre-wrap;\n",
       "}\n",
       "</style>\n",
       "<small>shape: (3, 4)</small><table border=\"1\" class=\"dataframe\"><thead><tr><th>tipo_pago</th><th>pago_estacion</th><th>suma_pago</th><th>total_anual</th></tr><tr><td>str</td><td>u32</td><td>u32</td><td>u32</td></tr></thead><tbody><tr><td>&quot;prepago&quot;</td><td>1461</td><td>20454</td><td>61362</td></tr><tr><td>&quot;boleto&quot;</td><td>1461</td><td>20454</td><td>61362</td></tr><tr><td>&quot;gratuidad&quot;</td><td>1461</td><td>20454</td><td>61362</td></tr></tbody></table></div>"
      ],
      "text/plain": [
       "shape: (3, 4)\n",
       "┌───────────┬───────────────┬───────────┬─────────────┐\n",
       "│ tipo_pago ┆ pago_estacion ┆ suma_pago ┆ total_anual │\n",
       "│ ---       ┆ ---           ┆ ---       ┆ ---         │\n",
       "│ str       ┆ u32           ┆ u32       ┆ u32         │\n",
       "╞═══════════╪═══════════════╪═══════════╪═════════════╡\n",
       "│ prepago   ┆ 1461          ┆ 20454     ┆ 61362       │\n",
       "│ boleto    ┆ 1461          ┆ 20454     ┆ 61362       │\n",
       "│ gratuidad ┆ 1461          ┆ 20454     ┆ 61362       │\n",
       "└───────────┴───────────────┴───────────┴─────────────┘"
      ]
     },
     "execution_count": 142,
     "metadata": {},
     "output_type": "execute_result"
    }
   ],
   "source": [
    "df2.group_by([\"tipo_pago\",\"pago_estacion\"]).agg(\n",
    "    pl.sum(\"pago_estacion\").alias(\"suma_pago\")\n",
    ").with_columns(pl.col(\"suma_pago\").sum().alias(\"total_anual\"))"
   ]
  },
  {
   "cell_type": "code",
   "execution_count": 143,
   "id": "bae5692d-8783-4e74-ba4d-4734a5bfb2eb",
   "metadata": {},
   "outputs": [],
   "source": [
    "df_linea_7.write_csv('metro_cdmx/linea_7_limpio.csv')"
   ]
  },
  {
   "cell_type": "markdown",
   "id": "3d87b210-d8d6-4d35-87ab-f8abb75c0025",
   "metadata": {},
   "source": [
    "## Linea 8"
   ]
  },
  {
   "cell_type": "code",
   "execution_count": 144,
   "id": "07a4a68e-4413-4ecc-829a-2999e6a52bd9",
   "metadata": {},
   "outputs": [],
   "source": [
    "df_linea_8 = df.filter(pl.col('linea')==\"Linea 8\")\n",
    "#df_linea_A = df.filter((pl.col('linea')==\"Linea A\")&(pl.col('fecha').is_between(fecha_inicio,fecha_fin)))"
   ]
  },
  {
   "cell_type": "code",
   "execution_count": 145,
   "id": "2c8b94cc-1196-4a89-947b-ece4b8c0b73f",
   "metadata": {},
   "outputs": [],
   "source": [
    "df_linea_8 = df_linea_8.with_columns(pl.col(\"tipo_pago\").map_elements(elimina_acentos, return_dtype=pl.String).alias(\"tipo_pago\"))\n",
    "df_linea_8 = df_linea_8.with_columns(pl.col(\"tipo_pago\").str.to_lowercase().alias(\"tipo_pago\"))\n",
    "df_linea_8 = df_linea_8.with_columns(pl.col(\"estacion\").map_elements(elimina_acentos, return_dtype=pl.String).alias(\"estacion\"))\n",
    "df_linea_8 = df_linea_8.with_columns(pl.col(\"estacion\").str.to_lowercase().alias(\"estacion\"))"
   ]
  },
  {
   "cell_type": "code",
   "execution_count": 153,
   "id": "aa9d78dd-fd05-4bc0-a151-bceddf54d68e",
   "metadata": {},
   "outputs": [
    {
     "data": {
      "text/plain": [
       "['bellas artes',\n",
       " 'cerro de la estrella',\n",
       " 'atlalilco',\n",
       " 'iztacalco',\n",
       " 'constitucion de 1917',\n",
       " 'escuadron 201',\n",
       " 'santa anita',\n",
       " 'chabacano',\n",
       " 'uam-i',\n",
       " 'obrera',\n",
       " 'garibaldi/lagunilla',\n",
       " 'salto del agua',\n",
       " 'iztapalapa',\n",
       " 'la viga',\n",
       " 'aculco',\n",
       " 'apatlaco',\n",
       " 'coyuya',\n",
       " 'doctores',\n",
       " 'san juan de letran']"
      ]
     },
     "execution_count": 153,
     "metadata": {},
     "output_type": "execute_result"
    }
   ],
   "source": [
    "estaciones = df_linea_8.select(pl.col(\"estacion\").unique()).to_series().to_list()\n",
    "estaciones #Hay ocho estaciones de mas"
   ]
  },
  {
   "cell_type": "code",
   "execution_count": 154,
   "id": "696e4278-9734-4c31-8172-453ee8c40c2f",
   "metadata": {},
   "outputs": [],
   "source": [
    "df_linea_8 = df_linea_8.with_columns(pl.col('estacion').str.replace(\"escuadra³n 201\",\"escuadron 201\"))"
   ]
  },
  {
   "cell_type": "code",
   "execution_count": 155,
   "id": "c7d61e05-fc27-4980-8c20-9a910a7a90b2",
   "metadata": {},
   "outputs": [
    {
     "data": {
      "text/html": [
       "<div><style>\n",
       ".dataframe > thead > tr,\n",
       ".dataframe > tbody > tr {\n",
       "  text-align: right;\n",
       "  white-space: pre-wrap;\n",
       "}\n",
       "</style>\n",
       "<small>shape: (10, 3)</small><table border=\"1\" class=\"dataframe\"><thead><tr><th>estacion</th><th>tipo_pago</th><th>pago_estacion</th></tr><tr><td>str</td><td>str</td><td>u32</td></tr></thead><tbody><tr><td>&quot;bellas artes&quot;</td><td>&quot;gratuidad&quot;</td><td>1461</td></tr><tr><td>&quot;doctores&quot;</td><td>&quot;prepago&quot;</td><td>1461</td></tr><tr><td>&quot;escuadron 201&quot;</td><td>&quot;prepago&quot;</td><td>1461</td></tr><tr><td>&quot;aculco&quot;</td><td>&quot;boleto&quot;</td><td>1461</td></tr><tr><td>&quot;atlalilco&quot;</td><td>&quot;boleto&quot;</td><td>1461</td></tr><tr><td>&quot;garibaldi/lagunilla&quot;</td><td>&quot;prepago&quot;</td><td>1461</td></tr><tr><td>&quot;escuadron 201&quot;</td><td>&quot;boleto&quot;</td><td>1461</td></tr><tr><td>&quot;chabacano&quot;</td><td>&quot;gratuidad&quot;</td><td>1461</td></tr><tr><td>&quot;apatlaco&quot;</td><td>&quot;prepago&quot;</td><td>1461</td></tr><tr><td>&quot;coyuya&quot;</td><td>&quot;prepago&quot;</td><td>1461</td></tr></tbody></table></div>"
      ],
      "text/plain": [
       "shape: (10, 3)\n",
       "┌─────────────────────┬───────────┬───────────────┐\n",
       "│ estacion            ┆ tipo_pago ┆ pago_estacion │\n",
       "│ ---                 ┆ ---       ┆ ---           │\n",
       "│ str                 ┆ str       ┆ u32           │\n",
       "╞═════════════════════╪═══════════╪═══════════════╡\n",
       "│ bellas artes        ┆ gratuidad ┆ 1461          │\n",
       "│ doctores            ┆ prepago   ┆ 1461          │\n",
       "│ escuadron 201       ┆ prepago   ┆ 1461          │\n",
       "│ aculco              ┆ boleto    ┆ 1461          │\n",
       "│ atlalilco           ┆ boleto    ┆ 1461          │\n",
       "│ garibaldi/lagunilla ┆ prepago   ┆ 1461          │\n",
       "│ escuadron 201       ┆ boleto    ┆ 1461          │\n",
       "│ chabacano           ┆ gratuidad ┆ 1461          │\n",
       "│ apatlaco            ┆ prepago   ┆ 1461          │\n",
       "│ coyuya              ┆ prepago   ┆ 1461          │\n",
       "└─────────────────────┴───────────┴───────────────┘"
      ]
     },
     "execution_count": 155,
     "metadata": {},
     "output_type": "execute_result"
    }
   ],
   "source": [
    "df2 = df_linea_8.group_by(['estacion','tipo_pago']).agg(\n",
    "    pl.len().alias(\"pago_estacion\")\n",
    ")\n",
    "df2.head(10)"
   ]
  },
  {
   "cell_type": "code",
   "execution_count": 156,
   "id": "c85cdb3f-78a4-4ba3-a678-6d6fff4ce0c8",
   "metadata": {},
   "outputs": [
    {
     "data": {
      "text/html": [
       "<div><style>\n",
       ".dataframe > thead > tr,\n",
       ".dataframe > tbody > tr {\n",
       "  text-align: right;\n",
       "  white-space: pre-wrap;\n",
       "}\n",
       "</style>\n",
       "<small>shape: (3, 4)</small><table border=\"1\" class=\"dataframe\"><thead><tr><th>tipo_pago</th><th>pago_estacion</th><th>suma_pago</th><th>total_anual</th></tr><tr><td>str</td><td>u32</td><td>u32</td><td>u32</td></tr></thead><tbody><tr><td>&quot;prepago&quot;</td><td>1461</td><td>27759</td><td>83277</td></tr><tr><td>&quot;gratuidad&quot;</td><td>1461</td><td>27759</td><td>83277</td></tr><tr><td>&quot;boleto&quot;</td><td>1461</td><td>27759</td><td>83277</td></tr></tbody></table></div>"
      ],
      "text/plain": [
       "shape: (3, 4)\n",
       "┌───────────┬───────────────┬───────────┬─────────────┐\n",
       "│ tipo_pago ┆ pago_estacion ┆ suma_pago ┆ total_anual │\n",
       "│ ---       ┆ ---           ┆ ---       ┆ ---         │\n",
       "│ str       ┆ u32           ┆ u32       ┆ u32         │\n",
       "╞═══════════╪═══════════════╪═══════════╪═════════════╡\n",
       "│ prepago   ┆ 1461          ┆ 27759     ┆ 83277       │\n",
       "│ gratuidad ┆ 1461          ┆ 27759     ┆ 83277       │\n",
       "│ boleto    ┆ 1461          ┆ 27759     ┆ 83277       │\n",
       "└───────────┴───────────────┴───────────┴─────────────┘"
      ]
     },
     "execution_count": 156,
     "metadata": {},
     "output_type": "execute_result"
    }
   ],
   "source": [
    "df2.group_by([\"tipo_pago\",\"pago_estacion\"]).agg(\n",
    "    pl.sum(\"pago_estacion\").alias(\"suma_pago\")\n",
    ").with_columns(pl.col(\"suma_pago\").sum().alias(\"total_anual\"))"
   ]
  },
  {
   "cell_type": "code",
   "execution_count": 157,
   "id": "fb8606ad-5004-490f-8247-726eab3ceb4e",
   "metadata": {},
   "outputs": [],
   "source": [
    "df_linea_8.write_csv('metro_cdmx/linea_8_limpio.csv')"
   ]
  },
  {
   "cell_type": "markdown",
   "id": "3809647f-62b5-49c6-a0cc-73412082e019",
   "metadata": {},
   "source": [
    "## Linea 9"
   ]
  },
  {
   "cell_type": "code",
   "execution_count": 158,
   "id": "3606868b-ce6a-4148-a8fd-d60a69c1845a",
   "metadata": {},
   "outputs": [],
   "source": [
    "df_linea_9 = df.filter(pl.col('linea')==\"Linea 9\")\n",
    "#df_linea_A = df.filter((pl.col('linea')==\"Linea A\")&(pl.col('fecha').is_between(fecha_inicio,fecha_fin)))"
   ]
  },
  {
   "cell_type": "code",
   "execution_count": 159,
   "id": "e4d7638d-c6a9-4e9c-9173-71cd5b9eab7b",
   "metadata": {},
   "outputs": [],
   "source": [
    "df_linea_9 = df_linea_9.with_columns(pl.col(\"tipo_pago\").map_elements(elimina_acentos, return_dtype=pl.String).alias(\"tipo_pago\"))\n",
    "df_linea_9 = df_linea_9.with_columns(pl.col(\"tipo_pago\").str.to_lowercase().alias(\"tipo_pago\"))\n",
    "df_linea_9 = df_linea_9.with_columns(pl.col(\"estacion\").map_elements(elimina_acentos, return_dtype=pl.String).alias(\"estacion\"))\n",
    "df_linea_9 = df_linea_9.with_columns(pl.col(\"estacion\").str.to_lowercase().alias(\"estacion\"))"
   ]
  },
  {
   "cell_type": "code",
   "execution_count": 169,
   "id": "207994b9-4240-4b80-a241-f97664aed104",
   "metadata": {},
   "outputs": [
    {
     "data": {
      "text/plain": [
       "12"
      ]
     },
     "execution_count": 169,
     "metadata": {},
     "output_type": "execute_result"
    }
   ],
   "source": [
    "estaciones = df_linea_9.select(pl.col(\"estacion\").unique()).to_series().to_list()\n",
    "len(estaciones) #Hay ocho estaciones de mas"
   ]
  },
  {
   "cell_type": "code",
   "execution_count": 167,
   "id": "40caf46e-7d6a-407b-b2e8-5bd67f3a5021",
   "metadata": {},
   "outputs": [],
   "source": [
    "df_linea_9 = df_linea_9.with_columns(pl.col('estacion').str.replace(\"centro ma©dico\",\"centro medico\"))"
   ]
  },
  {
   "cell_type": "code",
   "execution_count": 170,
   "id": "4fb7143f-7da8-4338-9d88-c89ef91c5d12",
   "metadata": {},
   "outputs": [
    {
     "data": {
      "text/html": [
       "<div><style>\n",
       ".dataframe > thead > tr,\n",
       ".dataframe > tbody > tr {\n",
       "  text-align: right;\n",
       "  white-space: pre-wrap;\n",
       "}\n",
       "</style>\n",
       "<small>shape: (10, 3)</small><table border=\"1\" class=\"dataframe\"><thead><tr><th>estacion</th><th>tipo_pago</th><th>pago_estacion</th></tr><tr><td>str</td><td>str</td><td>u32</td></tr></thead><tbody><tr><td>&quot;pantitlan&quot;</td><td>&quot;gratuidad&quot;</td><td>1461</td></tr><tr><td>&quot;chabacano&quot;</td><td>&quot;prepago&quot;</td><td>1461</td></tr><tr><td>&quot;tacubaya&quot;</td><td>&quot;gratuidad&quot;</td><td>1461</td></tr><tr><td>&quot;jamaica&quot;</td><td>&quot;gratuidad&quot;</td><td>1461</td></tr><tr><td>&quot;centro medico&quot;</td><td>&quot;prepago&quot;</td><td>1461</td></tr><tr><td>&quot;lazaro cardenas&quot;</td><td>&quot;prepago&quot;</td><td>1461</td></tr><tr><td>&quot;chilpancingo&quot;</td><td>&quot;prepago&quot;</td><td>1461</td></tr><tr><td>&quot;velodromo&quot;</td><td>&quot;boleto&quot;</td><td>1461</td></tr><tr><td>&quot;patriotismo&quot;</td><td>&quot;gratuidad&quot;</td><td>1461</td></tr><tr><td>&quot;jamaica&quot;</td><td>&quot;boleto&quot;</td><td>1461</td></tr></tbody></table></div>"
      ],
      "text/plain": [
       "shape: (10, 3)\n",
       "┌─────────────────┬───────────┬───────────────┐\n",
       "│ estacion        ┆ tipo_pago ┆ pago_estacion │\n",
       "│ ---             ┆ ---       ┆ ---           │\n",
       "│ str             ┆ str       ┆ u32           │\n",
       "╞═════════════════╪═══════════╪═══════════════╡\n",
       "│ pantitlan       ┆ gratuidad ┆ 1461          │\n",
       "│ chabacano       ┆ prepago   ┆ 1461          │\n",
       "│ tacubaya        ┆ gratuidad ┆ 1461          │\n",
       "│ jamaica         ┆ gratuidad ┆ 1461          │\n",
       "│ centro medico   ┆ prepago   ┆ 1461          │\n",
       "│ lazaro cardenas ┆ prepago   ┆ 1461          │\n",
       "│ chilpancingo    ┆ prepago   ┆ 1461          │\n",
       "│ velodromo       ┆ boleto    ┆ 1461          │\n",
       "│ patriotismo     ┆ gratuidad ┆ 1461          │\n",
       "│ jamaica         ┆ boleto    ┆ 1461          │\n",
       "└─────────────────┴───────────┴───────────────┘"
      ]
     },
     "execution_count": 170,
     "metadata": {},
     "output_type": "execute_result"
    }
   ],
   "source": [
    "df2 = df_linea_9.group_by(['estacion','tipo_pago']).agg(\n",
    "    pl.len().alias(\"pago_estacion\")\n",
    ")\n",
    "df2.head(10)"
   ]
  },
  {
   "cell_type": "code",
   "execution_count": 171,
   "id": "8f209b16-91af-4f5e-8a10-0d81a2623f71",
   "metadata": {},
   "outputs": [
    {
     "data": {
      "text/html": [
       "<div><style>\n",
       ".dataframe > thead > tr,\n",
       ".dataframe > tbody > tr {\n",
       "  text-align: right;\n",
       "  white-space: pre-wrap;\n",
       "}\n",
       "</style>\n",
       "<small>shape: (3, 4)</small><table border=\"1\" class=\"dataframe\"><thead><tr><th>tipo_pago</th><th>pago_estacion</th><th>suma_pago</th><th>total_anual</th></tr><tr><td>str</td><td>u32</td><td>u32</td><td>u32</td></tr></thead><tbody><tr><td>&quot;prepago&quot;</td><td>1461</td><td>17532</td><td>52596</td></tr><tr><td>&quot;gratuidad&quot;</td><td>1461</td><td>17532</td><td>52596</td></tr><tr><td>&quot;boleto&quot;</td><td>1461</td><td>17532</td><td>52596</td></tr></tbody></table></div>"
      ],
      "text/plain": [
       "shape: (3, 4)\n",
       "┌───────────┬───────────────┬───────────┬─────────────┐\n",
       "│ tipo_pago ┆ pago_estacion ┆ suma_pago ┆ total_anual │\n",
       "│ ---       ┆ ---           ┆ ---       ┆ ---         │\n",
       "│ str       ┆ u32           ┆ u32       ┆ u32         │\n",
       "╞═══════════╪═══════════════╪═══════════╪═════════════╡\n",
       "│ prepago   ┆ 1461          ┆ 17532     ┆ 52596       │\n",
       "│ gratuidad ┆ 1461          ┆ 17532     ┆ 52596       │\n",
       "│ boleto    ┆ 1461          ┆ 17532     ┆ 52596       │\n",
       "└───────────┴───────────────┴───────────┴─────────────┘"
      ]
     },
     "execution_count": 171,
     "metadata": {},
     "output_type": "execute_result"
    }
   ],
   "source": [
    "df2.group_by([\"tipo_pago\",\"pago_estacion\"]).agg(\n",
    "    pl.sum(\"pago_estacion\").alias(\"suma_pago\")\n",
    ").with_columns(pl.col(\"suma_pago\").sum().alias(\"total_anual\"))"
   ]
  },
  {
   "cell_type": "code",
   "execution_count": 172,
   "id": "c5e0b9a0-3c54-4839-9bde-49680fb539e2",
   "metadata": {},
   "outputs": [],
   "source": [
    "df_linea_9.write_csv('metro_cdmx/linea_9_limpio.csv')"
   ]
  },
  {
   "cell_type": "markdown",
   "id": "7bbce13f-00a1-4790-8d4c-e727f6373f7b",
   "metadata": {},
   "source": [
    "## Linea B"
   ]
  },
  {
   "cell_type": "code",
   "execution_count": 173,
   "id": "429f2301-fc26-4a09-ae79-6e1efffc5615",
   "metadata": {},
   "outputs": [],
   "source": [
    "df_linea_B = df.filter(pl.col('linea')==\"Linea B\")\n",
    "#df_linea_A = df.filter((pl.col('linea')==\"Linea A\")&(pl.col('fecha').is_between(fecha_inicio,fecha_fin)))"
   ]
  },
  {
   "cell_type": "code",
   "execution_count": 174,
   "id": "25f7ce9d-a4ce-489e-b672-d47df291087c",
   "metadata": {},
   "outputs": [],
   "source": [
    "df_linea_B = df_linea_B.with_columns(pl.col(\"tipo_pago\").map_elements(elimina_acentos, return_dtype=pl.String).alias(\"tipo_pago\"))\n",
    "df_linea_B = df_linea_B.with_columns(pl.col(\"tipo_pago\").str.to_lowercase().alias(\"tipo_pago\"))\n",
    "df_linea_B = df_linea_B.with_columns(pl.col(\"estacion\").map_elements(elimina_acentos, return_dtype=pl.String).alias(\"estacion\"))\n",
    "df_linea_B = df_linea_B.with_columns(pl.col(\"estacion\").str.to_lowercase().alias(\"estacion\"))"
   ]
  },
  {
   "cell_type": "code",
   "execution_count": 195,
   "id": "2ab1b8b8-ed9d-4678-88da-db40a8843c66",
   "metadata": {},
   "outputs": [
    {
     "data": {
      "text/plain": [
       "['ricardo flores magon',\n",
       " 'muzquiz',\n",
       " 'nezahuacoyotl',\n",
       " 'buenavista',\n",
       " 'guerrero',\n",
       " 'impulsora',\n",
       " 'ciudad azteca',\n",
       " 'plaza aragon',\n",
       " 'garibaldi/lagunilla',\n",
       " 'rio de los remedios',\n",
       " 'deportivo oceania',\n",
       " 'romero rubio',\n",
       " 'oceania',\n",
       " 'tepito',\n",
       " 'ecatepec',\n",
       " 'olimpica',\n",
       " 'nezahualcoyotl',\n",
       " 'villa de aragon',\n",
       " 'bosque de aragon',\n",
       " 'lagunilla',\n",
       " 'san lazaro',\n",
       " 'morelos']"
      ]
     },
     "execution_count": 195,
     "metadata": {},
     "output_type": "execute_result"
    }
   ],
   "source": [
    "estaciones = df_linea_B.select(pl.col(\"estacion\").unique()).to_series().to_list()\n",
    "estaciones #Hay ocho estaciones de mas"
   ]
  },
  {
   "cell_type": "code",
   "execution_count": 194,
   "id": "b84c1094-8cfd-47fe-bffa-594abfd95e4f",
   "metadata": {},
   "outputs": [],
   "source": [
    "df_linea_B = df_linea_B.with_columns(pl.col('estacion').str.replace(\"maºzquiz\",\"muzquiz\"))"
   ]
  },
  {
   "cell_type": "code",
   "execution_count": 196,
   "id": "0b97bb57-a020-4db0-9238-9f8b55135228",
   "metadata": {},
   "outputs": [
    {
     "data": {
      "text/html": [
       "<div><style>\n",
       ".dataframe > thead > tr,\n",
       ".dataframe > tbody > tr {\n",
       "  text-align: right;\n",
       "  white-space: pre-wrap;\n",
       "}\n",
       "</style>\n",
       "<small>shape: (10, 3)</small><table border=\"1\" class=\"dataframe\"><thead><tr><th>estacion</th><th>tipo_pago</th><th>pago_estacion</th></tr><tr><td>str</td><td>str</td><td>u32</td></tr></thead><tbody><tr><td>&quot;olimpica&quot;</td><td>&quot;gratuidad&quot;</td><td>1461</td></tr><tr><td>&quot;guerrero&quot;</td><td>&quot;gratuidad&quot;</td><td>1461</td></tr><tr><td>&quot;buenavista&quot;</td><td>&quot;gratuidad&quot;</td><td>1461</td></tr><tr><td>&quot;buenavista&quot;</td><td>&quot;prepago&quot;</td><td>1461</td></tr><tr><td>&quot;ricardo flores magon&quot;</td><td>&quot;boleto&quot;</td><td>1461</td></tr><tr><td>&quot;nezahuacoyotl&quot;</td><td>&quot;gratuidad&quot;</td><td>31</td></tr><tr><td>&quot;oceania&quot;</td><td>&quot;boleto&quot;</td><td>1461</td></tr><tr><td>&quot;san lazaro&quot;</td><td>&quot;prepago&quot;</td><td>1461</td></tr><tr><td>&quot;tepito&quot;</td><td>&quot;gratuidad&quot;</td><td>1461</td></tr><tr><td>&quot;muzquiz&quot;</td><td>&quot;gratuidad&quot;</td><td>1461</td></tr></tbody></table></div>"
      ],
      "text/plain": [
       "shape: (10, 3)\n",
       "┌──────────────────────┬───────────┬───────────────┐\n",
       "│ estacion             ┆ tipo_pago ┆ pago_estacion │\n",
       "│ ---                  ┆ ---       ┆ ---           │\n",
       "│ str                  ┆ str       ┆ u32           │\n",
       "╞══════════════════════╪═══════════╪═══════════════╡\n",
       "│ olimpica             ┆ gratuidad ┆ 1461          │\n",
       "│ guerrero             ┆ gratuidad ┆ 1461          │\n",
       "│ buenavista           ┆ gratuidad ┆ 1461          │\n",
       "│ buenavista           ┆ prepago   ┆ 1461          │\n",
       "│ ricardo flores magon ┆ boleto    ┆ 1461          │\n",
       "│ nezahuacoyotl        ┆ gratuidad ┆ 31            │\n",
       "│ oceania              ┆ boleto    ┆ 1461          │\n",
       "│ san lazaro           ┆ prepago   ┆ 1461          │\n",
       "│ tepito               ┆ gratuidad ┆ 1461          │\n",
       "│ muzquiz              ┆ gratuidad ┆ 1461          │\n",
       "└──────────────────────┴───────────┴───────────────┘"
      ]
     },
     "execution_count": 196,
     "metadata": {},
     "output_type": "execute_result"
    }
   ],
   "source": [
    "df2 = df_linea_B.group_by(['estacion','tipo_pago']).agg(\n",
    "    pl.len().alias(\"pago_estacion\")\n",
    ")\n",
    "df2.head(10)"
   ]
  },
  {
   "cell_type": "code",
   "execution_count": 197,
   "id": "0934c774-2d0a-46ed-bb0f-13629d363627",
   "metadata": {},
   "outputs": [
    {
     "data": {
      "text/html": [
       "<div><style>\n",
       ".dataframe > thead > tr,\n",
       ".dataframe > tbody > tr {\n",
       "  text-align: right;\n",
       "  white-space: pre-wrap;\n",
       "}\n",
       "</style>\n",
       "<small>shape: (9, 4)</small><table border=\"1\" class=\"dataframe\"><thead><tr><th>tipo_pago</th><th>pago_estacion</th><th>suma_pago</th><th>total_anual</th></tr><tr><td>str</td><td>u32</td><td>u32</td><td>u32</td></tr></thead><tbody><tr><td>&quot;prepago&quot;</td><td>1461</td><td>29220</td><td>92043</td></tr><tr><td>&quot;prepago&quot;</td><td>1430</td><td>1430</td><td>92043</td></tr><tr><td>&quot;boleto&quot;</td><td>31</td><td>31</td><td>92043</td></tr><tr><td>&quot;boleto&quot;</td><td>1461</td><td>29220</td><td>92043</td></tr><tr><td>&quot;gratuidad&quot;</td><td>1461</td><td>29220</td><td>92043</td></tr><tr><td>&quot;gratuidad&quot;</td><td>1430</td><td>1430</td><td>92043</td></tr><tr><td>&quot;prepago&quot;</td><td>31</td><td>31</td><td>92043</td></tr><tr><td>&quot;boleto&quot;</td><td>1430</td><td>1430</td><td>92043</td></tr><tr><td>&quot;gratuidad&quot;</td><td>31</td><td>31</td><td>92043</td></tr></tbody></table></div>"
      ],
      "text/plain": [
       "shape: (9, 4)\n",
       "┌───────────┬───────────────┬───────────┬─────────────┐\n",
       "│ tipo_pago ┆ pago_estacion ┆ suma_pago ┆ total_anual │\n",
       "│ ---       ┆ ---           ┆ ---       ┆ ---         │\n",
       "│ str       ┆ u32           ┆ u32       ┆ u32         │\n",
       "╞═══════════╪═══════════════╪═══════════╪═════════════╡\n",
       "│ prepago   ┆ 1461          ┆ 29220     ┆ 92043       │\n",
       "│ prepago   ┆ 1430          ┆ 1430      ┆ 92043       │\n",
       "│ boleto    ┆ 31            ┆ 31        ┆ 92043       │\n",
       "│ boleto    ┆ 1461          ┆ 29220     ┆ 92043       │\n",
       "│ gratuidad ┆ 1461          ┆ 29220     ┆ 92043       │\n",
       "│ gratuidad ┆ 1430          ┆ 1430      ┆ 92043       │\n",
       "│ prepago   ┆ 31            ┆ 31        ┆ 92043       │\n",
       "│ boleto    ┆ 1430          ┆ 1430      ┆ 92043       │\n",
       "│ gratuidad ┆ 31            ┆ 31        ┆ 92043       │\n",
       "└───────────┴───────────────┴───────────┴─────────────┘"
      ]
     },
     "execution_count": 197,
     "metadata": {},
     "output_type": "execute_result"
    }
   ],
   "source": [
    "df2.group_by([\"tipo_pago\",\"pago_estacion\"]).agg(\n",
    "    pl.sum(\"pago_estacion\").alias(\"suma_pago\")\n",
    ").with_columns(pl.col(\"suma_pago\").sum().alias(\"total_anual\"))"
   ]
  },
  {
   "cell_type": "code",
   "execution_count": 198,
   "id": "4e23dd51-c0c7-4b50-bfb7-2bd4bca2ee1e",
   "metadata": {},
   "outputs": [],
   "source": [
    "df_linea_B.write_csv('metro_cdmx/linea_B_limpio.csv')"
   ]
  },
  {
   "cell_type": "markdown",
   "id": "9cb2d13b-f576-4423-95a1-dca64b2fe931",
   "metadata": {},
   "source": [
    "## Linea 12"
   ]
  },
  {
   "cell_type": "code",
   "execution_count": 199,
   "id": "347c52cf-963e-4a6b-af9e-622b872eac67",
   "metadata": {},
   "outputs": [],
   "source": [
    "df_linea_12 = df.filter(pl.col('linea')==\"Linea 12\")\n",
    "#df_linea_A = df.filter((pl.col('linea')==\"Linea A\")&(pl.col('fecha').is_between(fecha_inicio,fecha_fin)))"
   ]
  },
  {
   "cell_type": "code",
   "execution_count": 200,
   "id": "d64a0ca2-fc97-494a-b293-85ad22945755",
   "metadata": {},
   "outputs": [],
   "source": [
    "df_linea_12 = df_linea_12.with_columns(pl.col(\"tipo_pago\").map_elements(elimina_acentos, return_dtype=pl.String).alias(\"tipo_pago\"))\n",
    "df_linea_12 = df_linea_12.with_columns(pl.col(\"tipo_pago\").str.to_lowercase().alias(\"tipo_pago\"))\n",
    "df_linea_12 = df_linea_12.with_columns(pl.col(\"estacion\").map_elements(elimina_acentos, return_dtype=pl.String).alias(\"estacion\"))\n",
    "df_linea_12 = df_linea_12.with_columns(pl.col(\"estacion\").str.to_lowercase().alias(\"estacion\"))"
   ]
  },
  {
   "cell_type": "code",
   "execution_count": 212,
   "id": "882770ee-9bd0-46d6-a4a7-cd12438360a3",
   "metadata": {},
   "outputs": [
    {
     "data": {
      "text/plain": [
       "20"
      ]
     },
     "execution_count": 212,
     "metadata": {},
     "output_type": "execute_result"
    }
   ],
   "source": [
    "estaciones = df_linea_12.select(pl.col(\"estacion\").unique()).to_series().to_list()\n",
    "len(estaciones) #Hay ocho estaciones de mas"
   ]
  },
  {
   "cell_type": "code",
   "execution_count": 210,
   "id": "62e2d9c1-c2bd-4ba7-9500-fb2aabe48b50",
   "metadata": {},
   "outputs": [],
   "source": [
    "df_linea_12 = df_linea_12.with_columns(pl.col('estacion').str.replace(\"san andra©s tomatla¡n\",\"san andres tomatlan\"))"
   ]
  },
  {
   "cell_type": "code",
   "execution_count": 213,
   "id": "05e1a471-0194-4dce-b277-77896d45cbc0",
   "metadata": {},
   "outputs": [
    {
     "data": {
      "text/html": [
       "<div><style>\n",
       ".dataframe > thead > tr,\n",
       ".dataframe > tbody > tr {\n",
       "  text-align: right;\n",
       "  white-space: pre-wrap;\n",
       "}\n",
       "</style>\n",
       "<small>shape: (10, 3)</small><table border=\"1\" class=\"dataframe\"><thead><tr><th>estacion</th><th>tipo_pago</th><th>pago_estacion</th></tr><tr><td>str</td><td>str</td><td>u32</td></tr></thead><tbody><tr><td>&quot;mexicaltzingo&quot;</td><td>&quot;prepago&quot;</td><td>1461</td></tr><tr><td>&quot;mixcoac&quot;</td><td>&quot;prepago&quot;</td><td>1461</td></tr><tr><td>&quot;nopalera&quot;</td><td>&quot;gratuidad&quot;</td><td>1461</td></tr><tr><td>&quot;eje central&quot;</td><td>&quot;gratuidad&quot;</td><td>1461</td></tr><tr><td>&quot;san andres tomatlan&quot;</td><td>&quot;boleto&quot;</td><td>1461</td></tr><tr><td>&quot;nopalera&quot;</td><td>&quot;prepago&quot;</td><td>1461</td></tr><tr><td>&quot;parque de los venados&quot;</td><td>&quot;prepago&quot;</td><td>1461</td></tr><tr><td>&quot;ermita&quot;</td><td>&quot;boleto&quot;</td><td>1461</td></tr><tr><td>&quot;tlahuac&quot;</td><td>&quot;prepago&quot;</td><td>1461</td></tr><tr><td>&quot;parque de los venados&quot;</td><td>&quot;gratuidad&quot;</td><td>1461</td></tr></tbody></table></div>"
      ],
      "text/plain": [
       "shape: (10, 3)\n",
       "┌───────────────────────┬───────────┬───────────────┐\n",
       "│ estacion              ┆ tipo_pago ┆ pago_estacion │\n",
       "│ ---                   ┆ ---       ┆ ---           │\n",
       "│ str                   ┆ str       ┆ u32           │\n",
       "╞═══════════════════════╪═══════════╪═══════════════╡\n",
       "│ mexicaltzingo         ┆ prepago   ┆ 1461          │\n",
       "│ mixcoac               ┆ prepago   ┆ 1461          │\n",
       "│ nopalera              ┆ gratuidad ┆ 1461          │\n",
       "│ eje central           ┆ gratuidad ┆ 1461          │\n",
       "│ san andres tomatlan   ┆ boleto    ┆ 1461          │\n",
       "│ nopalera              ┆ prepago   ┆ 1461          │\n",
       "│ parque de los venados ┆ prepago   ┆ 1461          │\n",
       "│ ermita                ┆ boleto    ┆ 1461          │\n",
       "│ tlahuac               ┆ prepago   ┆ 1461          │\n",
       "│ parque de los venados ┆ gratuidad ┆ 1461          │\n",
       "└───────────────────────┴───────────┴───────────────┘"
      ]
     },
     "execution_count": 213,
     "metadata": {},
     "output_type": "execute_result"
    }
   ],
   "source": [
    "df2 = df_linea_12.group_by(['estacion','tipo_pago']).agg(\n",
    "    pl.len().alias(\"pago_estacion\")\n",
    ")\n",
    "df2.head(10)"
   ]
  },
  {
   "cell_type": "code",
   "execution_count": 214,
   "id": "c0aaa193-3fe9-4f97-bbcb-f30dcff4ad00",
   "metadata": {},
   "outputs": [
    {
     "data": {
      "text/html": [
       "<div><style>\n",
       ".dataframe > thead > tr,\n",
       ".dataframe > tbody > tr {\n",
       "  text-align: right;\n",
       "  white-space: pre-wrap;\n",
       "}\n",
       "</style>\n",
       "<small>shape: (3, 4)</small><table border=\"1\" class=\"dataframe\"><thead><tr><th>tipo_pago</th><th>pago_estacion</th><th>suma_pago</th><th>total_anual</th></tr><tr><td>str</td><td>u32</td><td>u32</td><td>u32</td></tr></thead><tbody><tr><td>&quot;boleto&quot;</td><td>1461</td><td>29220</td><td>87660</td></tr><tr><td>&quot;prepago&quot;</td><td>1461</td><td>29220</td><td>87660</td></tr><tr><td>&quot;gratuidad&quot;</td><td>1461</td><td>29220</td><td>87660</td></tr></tbody></table></div>"
      ],
      "text/plain": [
       "shape: (3, 4)\n",
       "┌───────────┬───────────────┬───────────┬─────────────┐\n",
       "│ tipo_pago ┆ pago_estacion ┆ suma_pago ┆ total_anual │\n",
       "│ ---       ┆ ---           ┆ ---       ┆ ---         │\n",
       "│ str       ┆ u32           ┆ u32       ┆ u32         │\n",
       "╞═══════════╪═══════════════╪═══════════╪═════════════╡\n",
       "│ boleto    ┆ 1461          ┆ 29220     ┆ 87660       │\n",
       "│ prepago   ┆ 1461          ┆ 29220     ┆ 87660       │\n",
       "│ gratuidad ┆ 1461          ┆ 29220     ┆ 87660       │\n",
       "└───────────┴───────────────┴───────────┴─────────────┘"
      ]
     },
     "execution_count": 214,
     "metadata": {},
     "output_type": "execute_result"
    }
   ],
   "source": [
    "df2.group_by([\"tipo_pago\",\"pago_estacion\"]).agg(\n",
    "    pl.sum(\"pago_estacion\").alias(\"suma_pago\")\n",
    ").with_columns(pl.col(\"suma_pago\").sum().alias(\"total_anual\"))"
   ]
  },
  {
   "cell_type": "code",
   "execution_count": 215,
   "id": "9da436e6-a335-4986-9f1d-bdea33c41ad3",
   "metadata": {},
   "outputs": [],
   "source": [
    "df_linea_12.write_csv('metro_cdmx/linea_12_limpio.csv')"
   ]
  },
  {
   "cell_type": "markdown",
   "id": "e1c4bbc9-6e5b-4a69-9eb6-10fdd7b7ceb5",
   "metadata": {},
   "source": [
    "# DF GENERAL"
   ]
  },
  {
   "cell_type": "code",
   "execution_count": 17,
   "id": "325c1ad5-b35b-43e2-81eb-413cb08fe05e",
   "metadata": {},
   "outputs": [
    {
     "data": {
      "text/plain": [
       "['linea_12_limpio.csv',\n",
       " 'linea_1_limpio.csv',\n",
       " 'linea_2_limpio.csv',\n",
       " 'linea_3_limpio.csv',\n",
       " 'linea_4_limpio.csv',\n",
       " 'linea_5_limpio.csv',\n",
       " 'linea_6_limpio.csv',\n",
       " 'linea_7_limpio.csv',\n",
       " 'linea_8_limpio.csv',\n",
       " 'linea_9_limpio.csv',\n",
       " 'linea_A_limpio.csv',\n",
       " 'linea_B_limpio.csv']"
      ]
     },
     "execution_count": 17,
     "metadata": {},
     "output_type": "execute_result"
    }
   ],
   "source": [
    "path = 'metro_cdmx/'\n",
    "content = os.listdir(path)\n",
    "content"
   ]
  },
  {
   "cell_type": "code",
   "execution_count": 18,
   "id": "7188f2eb-12b6-48c8-8d79-a15effdbbcc8",
   "metadata": {},
   "outputs": [
    {
     "data": {
      "text/plain": [
       "[shape: (87_660, 7)\n",
       " ┌────────────┬───────────┬──────┬──────────┬──────────────────────────┬───────────┬───────────┐\n",
       " │ fecha      ┆ mes       ┆ anio ┆ linea    ┆ estacion                 ┆ tipo_pago ┆ afluencia │\n",
       " │ ---        ┆ ---       ┆ ---  ┆ ---      ┆ ---                      ┆ ---       ┆ ---       │\n",
       " │ str        ┆ str       ┆ i64  ┆ str      ┆ str                      ┆ str       ┆ i64       │\n",
       " ╞════════════╪═══════════╪══════╪══════════╪══════════════════════════╪═══════════╪═══════════╡\n",
       " │ 2021-01-01 ┆ enero     ┆ 2021 ┆ Linea 12 ┆ hospital 20 de noviembre ┆ boleto    ┆ 0         │\n",
       " │ 2021-01-01 ┆ enero     ┆ 2021 ┆ Linea 12 ┆ hospital 20 de noviembre ┆ prepago   ┆ 832       │\n",
       " │ 2021-01-01 ┆ enero     ┆ 2021 ┆ Linea 12 ┆ hospital 20 de noviembre ┆ gratuidad ┆ 733       │\n",
       " │ 2021-01-01 ┆ enero     ┆ 2021 ┆ Linea 12 ┆ atlalilco                ┆ boleto    ┆ 0         │\n",
       " │ 2021-01-01 ┆ enero     ┆ 2021 ┆ Linea 12 ┆ atlalilco                ┆ prepago   ┆ 1141      │\n",
       " │ …          ┆ …         ┆ …    ┆ …        ┆ …                        ┆ …         ┆ …         │\n",
       " │ 2024-12-31 ┆ diciembre ┆ 2024 ┆ Linea 12 ┆ insurgentes sur          ┆ prepago   ┆ 14662     │\n",
       " │ 2024-12-31 ┆ diciembre ┆ 2024 ┆ Linea 12 ┆ insurgentes sur          ┆ gratuidad ┆ 1537      │\n",
       " │ 2024-12-31 ┆ diciembre ┆ 2024 ┆ Linea 12 ┆ mixcoac                  ┆ boleto    ┆ 0         │\n",
       " │ 2024-12-31 ┆ diciembre ┆ 2024 ┆ Linea 12 ┆ mixcoac                  ┆ prepago   ┆ 6654      │\n",
       " │ 2024-12-31 ┆ diciembre ┆ 2024 ┆ Linea 12 ┆ mixcoac                  ┆ gratuidad ┆ 733       │\n",
       " └────────────┴───────────┴──────┴──────────┴──────────────────────────┴───────────┴───────────┘,\n",
       " shape: (87_660, 7)\n",
       " ┌────────────┬───────────┬──────┬─────────┬──────────────┬───────────┬───────────┐\n",
       " │ fecha      ┆ mes       ┆ anio ┆ linea   ┆ estacion     ┆ tipo_pago ┆ afluencia │\n",
       " │ ---        ┆ ---       ┆ ---  ┆ ---     ┆ ---          ┆ ---       ┆ ---       │\n",
       " │ str        ┆ str       ┆ i64  ┆ str     ┆ str          ┆ str       ┆ i64       │\n",
       " ╞════════════╪═══════════╪══════╪═════════╪══════════════╪═══════════╪═══════════╡\n",
       " │ 2021-01-01 ┆ enero     ┆ 2021 ┆ Linea 1 ┆ balbuena     ┆ boleto    ┆ 1848      │\n",
       " │ 2021-01-01 ┆ enero     ┆ 2021 ┆ Linea 1 ┆ balbuena     ┆ prepago   ┆ 790       │\n",
       " │ 2021-01-01 ┆ enero     ┆ 2021 ┆ Linea 1 ┆ balbuena     ┆ gratuidad ┆ 325       │\n",
       " │ 2021-01-01 ┆ enero     ┆ 2021 ┆ Linea 1 ┆ balderas     ┆ boleto    ┆ 1103      │\n",
       " │ 2021-01-01 ┆ enero     ┆ 2021 ┆ Linea 1 ┆ balderas     ┆ prepago   ┆ 922       │\n",
       " │ …          ┆ …         ┆ …    ┆ …       ┆ …            ┆ …         ┆ …         │\n",
       " │ 2024-12-31 ┆ diciembre ┆ 2024 ┆ Linea 1 ┆ tacubaya     ┆ prepago   ┆ 0         │\n",
       " │ 2024-12-31 ┆ diciembre ┆ 2024 ┆ Linea 1 ┆ tacubaya     ┆ gratuidad ┆ 0         │\n",
       " │ 2024-12-31 ┆ diciembre ┆ 2024 ┆ Linea 1 ┆ observatorio ┆ boleto    ┆ 0         │\n",
       " │ 2024-12-31 ┆ diciembre ┆ 2024 ┆ Linea 1 ┆ observatorio ┆ prepago   ┆ 0         │\n",
       " │ 2024-12-31 ┆ diciembre ┆ 2024 ┆ Linea 1 ┆ observatorio ┆ gratuidad ┆ 0         │\n",
       " └────────────┴───────────┴──────┴─────────┴──────────────┴───────────┴───────────┘,\n",
       " shape: (105_192, 7)\n",
       " ┌────────────┬───────────┬──────┬─────────┬───────────────┬───────────┬───────────┐\n",
       " │ fecha      ┆ mes       ┆ anio ┆ linea   ┆ estacion      ┆ tipo_pago ┆ afluencia │\n",
       " │ ---        ┆ ---       ┆ ---  ┆ ---     ┆ ---           ┆ ---       ┆ ---       │\n",
       " │ str        ┆ str       ┆ i64  ┆ str     ┆ str           ┆ str       ┆ i64       │\n",
       " ╞════════════╪═══════════╪══════╪═════════╪═══════════════╪═══════════╪═══════════╡\n",
       " │ 2021-01-01 ┆ enero     ┆ 2021 ┆ Linea 2 ┆ allende       ┆ boleto    ┆ 978       │\n",
       " │ 2021-01-01 ┆ enero     ┆ 2021 ┆ Linea 2 ┆ allende       ┆ prepago   ┆ 513       │\n",
       " │ 2021-01-01 ┆ enero     ┆ 2021 ┆ Linea 2 ┆ allende       ┆ gratuidad ┆ 311       │\n",
       " │ 2021-01-01 ┆ enero     ┆ 2021 ┆ Linea 2 ┆ bellas artes  ┆ boleto    ┆ 572       │\n",
       " │ 2021-01-01 ┆ enero     ┆ 2021 ┆ Linea 2 ┆ bellas artes  ┆ prepago   ┆ 292       │\n",
       " │ …          ┆ …         ┆ …    ┆ …       ┆ …             ┆ …         ┆ …         │\n",
       " │ 2024-12-31 ┆ diciembre ┆ 2024 ┆ Linea 2 ┆ general anaya ┆ prepago   ┆ 6811      │\n",
       " │ 2024-12-31 ┆ diciembre ┆ 2024 ┆ Linea 2 ┆ general anaya ┆ gratuidad ┆ 1512      │\n",
       " │ 2024-12-31 ┆ diciembre ┆ 2024 ┆ Linea 2 ┆ tasqueÃ±a     ┆ boleto    ┆ 0         │\n",
       " │ 2024-12-31 ┆ diciembre ┆ 2024 ┆ Linea 2 ┆ tasqueÃ±a     ┆ prepago   ┆ 31305     │\n",
       " │ 2024-12-31 ┆ diciembre ┆ 2024 ┆ Linea 2 ┆ tasqueÃ±a     ┆ gratuidad ┆ 3492      │\n",
       " └────────────┴───────────┴──────┴─────────┴───────────────┴───────────┴───────────┘,\n",
       " shape: (92_043, 7)\n",
       " ┌────────────┬───────────┬──────┬─────────┬───────────────┬───────────┬───────────┐\n",
       " │ fecha      ┆ mes       ┆ anio ┆ linea   ┆ estacion      ┆ tipo_pago ┆ afluencia │\n",
       " │ ---        ┆ ---       ┆ ---  ┆ ---     ┆ ---           ┆ ---       ┆ ---       │\n",
       " │ str        ┆ str       ┆ i64  ┆ str     ┆ str           ┆ str       ┆ i64       │\n",
       " ╞════════════╪═══════════╪══════╪═════════╪═══════════════╪═══════════╪═══════════╡\n",
       " │ 2021-01-01 ┆ enero     ┆ 2021 ┆ Linea 3 ┆ balderas      ┆ boleto    ┆ 194       │\n",
       " │ 2021-01-01 ┆ enero     ┆ 2021 ┆ Linea 3 ┆ balderas      ┆ prepago   ┆ 273       │\n",
       " │ 2021-01-01 ┆ enero     ┆ 2021 ┆ Linea 3 ┆ balderas      ┆ gratuidad ┆ 191       │\n",
       " │ 2021-01-01 ┆ enero     ┆ 2021 ┆ Linea 3 ┆ centro medico ┆ boleto    ┆ 0         │\n",
       " │ 2021-01-01 ┆ enero     ┆ 2021 ┆ Linea 3 ┆ centro medico ┆ prepago   ┆ 1881      │\n",
       " │ …          ┆ …         ┆ …    ┆ …       ┆ …             ┆ …         ┆ …         │\n",
       " │ 2024-12-31 ┆ diciembre ┆ 2024 ┆ Linea 3 ┆ copilco       ┆ prepago   ┆ 10562     │\n",
       " │ 2024-12-31 ┆ diciembre ┆ 2024 ┆ Linea 3 ┆ copilco       ┆ gratuidad ┆ 1320      │\n",
       " │ 2024-12-31 ┆ diciembre ┆ 2024 ┆ Linea 3 ┆ universidad   ┆ boleto    ┆ 0         │\n",
       " │ 2024-12-31 ┆ diciembre ┆ 2024 ┆ Linea 3 ┆ universidad   ┆ prepago   ┆ 22601     │\n",
       " │ 2024-12-31 ┆ diciembre ┆ 2024 ┆ Linea 3 ┆ universidad   ┆ gratuidad ┆ 2680      │\n",
       " └────────────┴───────────┴──────┴─────────┴───────────────┴───────────┴───────────┘,\n",
       " shape: (43_830, 7)\n",
       " ┌────────────┬───────────┬──────┬─────────┬─────────────────┬───────────┬───────────┐\n",
       " │ fecha      ┆ mes       ┆ anio ┆ linea   ┆ estacion        ┆ tipo_pago ┆ afluencia │\n",
       " │ ---        ┆ ---       ┆ ---  ┆ ---     ┆ ---             ┆ ---       ┆ ---       │\n",
       " │ str        ┆ str       ┆ i64  ┆ str     ┆ str             ┆ str       ┆ i64       │\n",
       " ╞════════════╪═══════════╪══════╪═════════╪═════════════════╪═══════════╪═══════════╡\n",
       " │ 2021-01-01 ┆ enero     ┆ 2021 ┆ Linea 4 ┆ bondojito       ┆ boleto    ┆ 353       │\n",
       " │ 2021-01-01 ┆ enero     ┆ 2021 ┆ Linea 4 ┆ bondojito       ┆ prepago   ┆ 324       │\n",
       " │ 2021-01-01 ┆ enero     ┆ 2021 ┆ Linea 4 ┆ bondojito       ┆ gratuidad ┆ 202       │\n",
       " │ 2021-01-01 ┆ enero     ┆ 2021 ┆ Linea 4 ┆ canal del norte ┆ boleto    ┆ 1731      │\n",
       " │ 2021-01-01 ┆ enero     ┆ 2021 ┆ Linea 4 ┆ canal del norte ┆ prepago   ┆ 413       │\n",
       " │ …          ┆ …         ┆ …    ┆ …       ┆ …               ┆ …         ┆ …         │\n",
       " │ 2024-12-31 ┆ diciembre ┆ 2024 ┆ Linea 4 ┆ talisman        ┆ prepago   ┆ 1587      │\n",
       " │ 2024-12-31 ┆ diciembre ┆ 2024 ┆ Linea 4 ┆ talisman        ┆ gratuidad ┆ 284       │\n",
       " │ 2024-12-31 ┆ diciembre ┆ 2024 ┆ Linea 4 ┆ martin carrera  ┆ boleto    ┆ 0         │\n",
       " │ 2024-12-31 ┆ diciembre ┆ 2024 ┆ Linea 4 ┆ martin carrera  ┆ prepago   ┆ 13840     │\n",
       " │ 2024-12-31 ┆ diciembre ┆ 2024 ┆ Linea 4 ┆ martin carrera  ┆ gratuidad ┆ 1522      │\n",
       " └────────────┴───────────┴──────┴─────────┴─────────────────┴───────────┴───────────┘,\n",
       " shape: (56_979, 7)\n",
       " ┌────────────┬───────────┬──────┬─────────┬─────────────────────┬───────────┬───────────┐\n",
       " │ fecha      ┆ mes       ┆ anio ┆ linea   ┆ estacion            ┆ tipo_pago ┆ afluencia │\n",
       " │ ---        ┆ ---       ┆ ---  ┆ ---     ┆ ---                 ┆ ---       ┆ ---       │\n",
       " │ str        ┆ str       ┆ i64  ┆ str     ┆ str                 ┆ str       ┆ i64       │\n",
       " ╞════════════╪═══════════╪══════╪═════════╪═════════════════════╪═══════════╪═══════════╡\n",
       " │ 2021-01-01 ┆ enero     ┆ 2021 ┆ Linea 5 ┆ aragon              ┆ boleto    ┆ 814       │\n",
       " │ 2021-01-01 ┆ enero     ┆ 2021 ┆ Linea 5 ┆ aragon              ┆ prepago   ┆ 577       │\n",
       " │ 2021-01-01 ┆ enero     ┆ 2021 ┆ Linea 5 ┆ aragon              ┆ gratuidad ┆ 377       │\n",
       " │ 2021-01-01 ┆ enero     ┆ 2021 ┆ Linea 5 ┆ autobuses del norte ┆ boleto    ┆ 653       │\n",
       " │ 2021-01-01 ┆ enero     ┆ 2021 ┆ Linea 5 ┆ autobuses del norte ┆ prepago   ┆ 2755      │\n",
       " │ …          ┆ …         ┆ …    ┆ …       ┆ …                   ┆ …         ┆ …         │\n",
       " │ 2024-12-31 ┆ diciembre ┆ 2024 ┆ Linea 5 ┆ hangares            ┆ prepago   ┆ 2774      │\n",
       " │ 2024-12-31 ┆ diciembre ┆ 2024 ┆ Linea 5 ┆ hangares            ┆ gratuidad ┆ 336       │\n",
       " │ 2024-12-31 ┆ diciembre ┆ 2024 ┆ Linea 5 ┆ pantitlan           ┆ boleto    ┆ 0         │\n",
       " │ 2024-12-31 ┆ diciembre ┆ 2024 ┆ Linea 5 ┆ pantitlan           ┆ prepago   ┆ 30239     │\n",
       " │ 2024-12-31 ┆ diciembre ┆ 2024 ┆ Linea 5 ┆ pantitlan           ┆ gratuidad ┆ 3933      │\n",
       " └────────────┴───────────┴──────┴─────────┴─────────────────────┴───────────┴───────────┘,\n",
       " shape: (48_213, 7)\n",
       " ┌────────────┬───────────┬──────┬─────────┬───────────────────────┬───────────┬───────────┐\n",
       " │ fecha      ┆ mes       ┆ anio ┆ linea   ┆ estacion              ┆ tipo_pago ┆ afluencia │\n",
       " │ ---        ┆ ---       ┆ ---  ┆ ---     ┆ ---                   ┆ ---       ┆ ---       │\n",
       " │ str        ┆ str       ┆ i64  ┆ str     ┆ str                   ┆ str       ┆ i64       │\n",
       " ╞════════════╪═══════════╪══════╪═════════╪═══════════════════════╪═══════════╪═══════════╡\n",
       " │ 2021-01-01 ┆ enero     ┆ 2021 ┆ Linea 6 ┆ uam-azcapotzalco      ┆ boleto    ┆ 520       │\n",
       " │ 2021-01-01 ┆ enero     ┆ 2021 ┆ Linea 6 ┆ uam-azcapotzalco      ┆ prepago   ┆ 652       │\n",
       " │ 2021-01-01 ┆ enero     ┆ 2021 ┆ Linea 6 ┆ uam-azcapotzalco      ┆ gratuidad ┆ 221       │\n",
       " │ 2021-01-01 ┆ enero     ┆ 2021 ┆ Linea 6 ┆ deportivo 18 de marzo ┆ boleto    ┆ 65        │\n",
       " │ 2021-01-01 ┆ enero     ┆ 2021 ┆ Linea 6 ┆ deportivo 18 de marzo ┆ prepago   ┆ 64        │\n",
       " │ …          ┆ …         ┆ …    ┆ …       ┆ …                     ┆ …         ┆ …         │\n",
       " │ 2024-12-31 ┆ diciembre ┆ 2024 ┆ Linea 6 ┆ la villa/basilica     ┆ prepago   ┆ 7176      │\n",
       " │ 2024-12-31 ┆ diciembre ┆ 2024 ┆ Linea 6 ┆ la villa/basilica     ┆ gratuidad ┆ 956       │\n",
       " │ 2024-12-31 ┆ diciembre ┆ 2024 ┆ Linea 6 ┆ martin carrera        ┆ boleto    ┆ 0         │\n",
       " │ 2024-12-31 ┆ diciembre ┆ 2024 ┆ Linea 6 ┆ martin carrera        ┆ prepago   ┆ 11239     │\n",
       " │ 2024-12-31 ┆ diciembre ┆ 2024 ┆ Linea 6 ┆ martin carrera        ┆ gratuidad ┆ 1592      │\n",
       " └────────────┴───────────┴──────┴─────────┴───────────────────────┴───────────┴───────────┘,\n",
       " shape: (61_362, 7)\n",
       " ┌────────────┬───────────┬──────┬─────────┬─────────────────────┬───────────┬───────────┐\n",
       " │ fecha      ┆ mes       ┆ anio ┆ linea   ┆ estacion            ┆ tipo_pago ┆ afluencia │\n",
       " │ ---        ┆ ---       ┆ ---  ┆ ---     ┆ ---                 ┆ ---       ┆ ---       │\n",
       " │ str        ┆ str       ┆ i64  ┆ str     ┆ str                 ┆ str       ┆ i64       │\n",
       " ╞════════════╪═══════════╪══════╪═════════╪═════════════════════╪═══════════╪═══════════╡\n",
       " │ 2021-01-01 ┆ enero     ┆ 2021 ┆ Linea 7 ┆ aquiles serdan      ┆ boleto    ┆ 0         │\n",
       " │ 2021-01-01 ┆ enero     ┆ 2021 ┆ Linea 7 ┆ aquiles serdan      ┆ prepago   ┆ 1059      │\n",
       " │ 2021-01-01 ┆ enero     ┆ 2021 ┆ Linea 7 ┆ aquiles serdan      ┆ gratuidad ┆ 347       │\n",
       " │ 2021-01-01 ┆ enero     ┆ 2021 ┆ Linea 7 ┆ auditorio           ┆ boleto    ┆ 0         │\n",
       " │ 2021-01-01 ┆ enero     ┆ 2021 ┆ Linea 7 ┆ auditorio           ┆ prepago   ┆ 1615      │\n",
       " │ …          ┆ …         ┆ …    ┆ …       ┆ …                   ┆ …         ┆ …         │\n",
       " │ 2024-12-31 ┆ diciembre ┆ 2024 ┆ Linea 7 ┆ mixcoac             ┆ prepago   ┆ 8906      │\n",
       " │ 2024-12-31 ┆ diciembre ┆ 2024 ┆ Linea 7 ┆ mixcoac             ┆ gratuidad ┆ 1417      │\n",
       " │ 2024-12-31 ┆ diciembre ┆ 2024 ┆ Linea 7 ┆ barranca del muerto ┆ boleto    ┆ 0         │\n",
       " │ 2024-12-31 ┆ diciembre ┆ 2024 ┆ Linea 7 ┆ barranca del muerto ┆ prepago   ┆ 14074     │\n",
       " │ 2024-12-31 ┆ diciembre ┆ 2024 ┆ Linea 7 ┆ barranca del muerto ┆ gratuidad ┆ 1410      │\n",
       " └────────────┴───────────┴──────┴─────────┴─────────────────────┴───────────┴───────────┘,\n",
       " shape: (83_277, 7)\n",
       " ┌────────────┬───────────┬──────┬─────────┬──────────────────────┬───────────┬───────────┐\n",
       " │ fecha      ┆ mes       ┆ anio ┆ linea   ┆ estacion             ┆ tipo_pago ┆ afluencia │\n",
       " │ ---        ┆ ---       ┆ ---  ┆ ---     ┆ ---                  ┆ ---       ┆ ---       │\n",
       " │ str        ┆ str       ┆ i64  ┆ str     ┆ str                  ┆ str       ┆ i64       │\n",
       " ╞════════════╪═══════════╪══════╪═════════╪══════════════════════╪═══════════╪═══════════╡\n",
       " │ 2021-01-01 ┆ enero     ┆ 2021 ┆ Linea 8 ┆ aculco               ┆ boleto    ┆ 659       │\n",
       " │ 2021-01-01 ┆ enero     ┆ 2021 ┆ Linea 8 ┆ aculco               ┆ prepago   ┆ 634       │\n",
       " │ 2021-01-01 ┆ enero     ┆ 2021 ┆ Linea 8 ┆ aculco               ┆ gratuidad ┆ 214       │\n",
       " │ 2021-01-01 ┆ enero     ┆ 2021 ┆ Linea 8 ┆ apatlaco             ┆ boleto    ┆ 3134      │\n",
       " │ 2021-01-01 ┆ enero     ┆ 2021 ┆ Linea 8 ┆ apatlaco             ┆ prepago   ┆ 1289      │\n",
       " │ …          ┆ …         ┆ …    ┆ …       ┆ …                    ┆ …         ┆ …         │\n",
       " │ 2024-12-31 ┆ diciembre ┆ 2024 ┆ Linea 8 ┆ uam-i                ┆ prepago   ┆ 11325     │\n",
       " │ 2024-12-31 ┆ diciembre ┆ 2024 ┆ Linea 8 ┆ uam-i                ┆ gratuidad ┆ 2206      │\n",
       " │ 2024-12-31 ┆ diciembre ┆ 2024 ┆ Linea 8 ┆ constitucion de 1917 ┆ boleto    ┆ 0         │\n",
       " │ 2024-12-31 ┆ diciembre ┆ 2024 ┆ Linea 8 ┆ constitucion de 1917 ┆ prepago   ┆ 53658     │\n",
       " │ 2024-12-31 ┆ diciembre ┆ 2024 ┆ Linea 8 ┆ constitucion de 1917 ┆ gratuidad ┆ 9295      │\n",
       " └────────────┴───────────┴──────┴─────────┴──────────────────────┴───────────┴───────────┘,\n",
       " shape: (52_596, 7)\n",
       " ┌────────────┬───────────┬──────┬─────────┬───────────────┬───────────┬───────────┐\n",
       " │ fecha      ┆ mes       ┆ anio ┆ linea   ┆ estacion      ┆ tipo_pago ┆ afluencia │\n",
       " │ ---        ┆ ---       ┆ ---  ┆ ---     ┆ ---           ┆ ---       ┆ ---       │\n",
       " │ str        ┆ str       ┆ i64  ┆ str     ┆ str           ┆ str       ┆ i64       │\n",
       " ╞════════════╪═══════════╪══════╪═════════╪═══════════════╪═══════════╪═══════════╡\n",
       " │ 2021-01-01 ┆ enero     ┆ 2021 ┆ Linea 9 ┆ centro medico ┆ boleto    ┆ 0         │\n",
       " │ 2021-01-01 ┆ enero     ┆ 2021 ┆ Linea 9 ┆ centro medico ┆ prepago   ┆ 921       │\n",
       " │ 2021-01-01 ┆ enero     ┆ 2021 ┆ Linea 9 ┆ centro medico ┆ gratuidad ┆ 317       │\n",
       " │ 2021-01-01 ┆ enero     ┆ 2021 ┆ Linea 9 ┆ chabacano     ┆ boleto    ┆ 359       │\n",
       " │ 2021-01-01 ┆ enero     ┆ 2021 ┆ Linea 9 ┆ chabacano     ┆ prepago   ┆ 498       │\n",
       " │ …          ┆ …         ┆ …    ┆ …       ┆ …             ┆ …         ┆ …         │\n",
       " │ 2024-12-31 ┆ diciembre ┆ 2024 ┆ Linea 9 ┆ patriotismo   ┆ prepago   ┆ 7875      │\n",
       " │ 2024-12-31 ┆ diciembre ┆ 2024 ┆ Linea 9 ┆ patriotismo   ┆ gratuidad ┆ 859       │\n",
       " │ 2024-12-31 ┆ diciembre ┆ 2024 ┆ Linea 9 ┆ tacubaya      ┆ boleto    ┆ 0         │\n",
       " │ 2024-12-31 ┆ diciembre ┆ 2024 ┆ Linea 9 ┆ tacubaya      ┆ prepago   ┆ 38730     │\n",
       " │ 2024-12-31 ┆ diciembre ┆ 2024 ┆ Linea 9 ┆ tacubaya      ┆ gratuidad ┆ 1473      │\n",
       " └────────────┴───────────┴──────┴─────────┴───────────────┴───────────┴───────────┘,\n",
       " shape: (43_830, 7)\n",
       " ┌────────────┬───────────┬──────┬─────────┬───────────────────┬───────────┬───────────┐\n",
       " │ fecha      ┆ mes       ┆ anio ┆ linea   ┆ estacion          ┆ tipo_pago ┆ afluencia │\n",
       " │ ---        ┆ ---       ┆ ---  ┆ ---     ┆ ---               ┆ ---       ┆ ---       │\n",
       " │ str        ┆ str       ┆ i64  ┆ str     ┆ str               ┆ str       ┆ i64       │\n",
       " ╞════════════╪═══════════╪══════╪═════════╪═══════════════════╪═══════════╪═══════════╡\n",
       " │ 2021-01-01 ┆ enero     ┆ 2021 ┆ Linea A ┆ acatitla          ┆ boleto    ┆ 1814      │\n",
       " │ 2021-01-01 ┆ enero     ┆ 2021 ┆ Linea A ┆ acatitla          ┆ prepago   ┆ 2265      │\n",
       " │ 2021-01-01 ┆ enero     ┆ 2021 ┆ Linea A ┆ acatitla          ┆ gratuidad ┆ 1135      │\n",
       " │ 2021-01-01 ┆ enero     ┆ 2021 ┆ Linea A ┆ agricola oriental ┆ boleto    ┆ 3610      │\n",
       " │ 2021-01-01 ┆ enero     ┆ 2021 ┆ Linea A ┆ agricola oriental ┆ prepago   ┆ 804       │\n",
       " │ …          ┆ …         ┆ …    ┆ …       ┆ …                 ┆ …         ┆ …         │\n",
       " │ 2024-12-31 ┆ diciembre ┆ 2024 ┆ Linea A ┆ los reyes         ┆ prepago   ┆ 13934     │\n",
       " │ 2024-12-31 ┆ diciembre ┆ 2024 ┆ Linea A ┆ los reyes         ┆ gratuidad ┆ 2138      │\n",
       " │ 2024-12-31 ┆ diciembre ┆ 2024 ┆ Linea A ┆ la paz            ┆ boleto    ┆ 0         │\n",
       " │ 2024-12-31 ┆ diciembre ┆ 2024 ┆ Linea A ┆ la paz            ┆ prepago   ┆ 26139     │\n",
       " │ 2024-12-31 ┆ diciembre ┆ 2024 ┆ Linea A ┆ la paz            ┆ gratuidad ┆ 3983      │\n",
       " └────────────┴───────────┴──────┴─────────┴───────────────────┴───────────┴───────────┘,\n",
       " shape: (92_043, 7)\n",
       " ┌────────────┬───────────┬──────┬─────────┬──────────────────┬───────────┬───────────┐\n",
       " │ fecha      ┆ mes       ┆ anio ┆ linea   ┆ estacion         ┆ tipo_pago ┆ afluencia │\n",
       " │ ---        ┆ ---       ┆ ---  ┆ ---     ┆ ---              ┆ ---       ┆ ---       │\n",
       " │ str        ┆ str       ┆ i64  ┆ str     ┆ str              ┆ str       ┆ i64       │\n",
       " ╞════════════╪═══════════╪══════╪═════════╪══════════════════╪═══════════╪═══════════╡\n",
       " │ 2021-01-01 ┆ enero     ┆ 2021 ┆ Linea B ┆ bosque de aragon ┆ boleto    ┆ 301       │\n",
       " │ 2021-01-01 ┆ enero     ┆ 2021 ┆ Linea B ┆ bosque de aragon ┆ prepago   ┆ 402       │\n",
       " │ 2021-01-01 ┆ enero     ┆ 2021 ┆ Linea B ┆ bosque de aragon ┆ gratuidad ┆ 496       │\n",
       " │ 2021-01-01 ┆ enero     ┆ 2021 ┆ Linea B ┆ buenavista       ┆ boleto    ┆ 4949      │\n",
       " │ 2021-01-01 ┆ enero     ┆ 2021 ┆ Linea B ┆ buenavista       ┆ prepago   ┆ 4621      │\n",
       " │ …          ┆ …         ┆ …    ┆ …       ┆ …                ┆ …         ┆ …         │\n",
       " │ 2024-12-31 ┆ diciembre ┆ 2024 ┆ Linea B ┆ plaza aragon     ┆ prepago   ┆ 10348     │\n",
       " │ 2024-12-31 ┆ diciembre ┆ 2024 ┆ Linea B ┆ plaza aragon     ┆ gratuidad ┆ 2232      │\n",
       " │ 2024-12-31 ┆ diciembre ┆ 2024 ┆ Linea B ┆ ciudad azteca    ┆ boleto    ┆ 0         │\n",
       " │ 2024-12-31 ┆ diciembre ┆ 2024 ┆ Linea B ┆ ciudad azteca    ┆ prepago   ┆ 24880     │\n",
       " │ 2024-12-31 ┆ diciembre ┆ 2024 ┆ Linea B ┆ ciudad azteca    ┆ gratuidad ┆ 4596      │\n",
       " └────────────┴───────────┴──────┴─────────┴──────────────────┴───────────┴───────────┘]"
      ]
     },
     "execution_count": 18,
     "metadata": {},
     "output_type": "execute_result"
    }
   ],
   "source": [
    "df_lista = [pl.read_csv('metro_cdmx/'+ i,encoding='latin1') for i in content]\n",
    "df_lista"
   ]
  },
  {
   "cell_type": "code",
   "execution_count": 19,
   "id": "8e9f7fb9-a37a-4f0c-ac44-b8a60e4da824",
   "metadata": {},
   "outputs": [],
   "source": [
    "df_general = pl.concat(df_lista)"
   ]
  },
  {
   "cell_type": "code",
   "execution_count": 20,
   "id": "0701d41c-5053-4b62-b512-d9578ad62d8a",
   "metadata": {},
   "outputs": [
    {
     "data": {
      "text/html": [
       "<div><style>\n",
       ".dataframe > thead > tr,\n",
       ".dataframe > tbody > tr {\n",
       "  text-align: right;\n",
       "  white-space: pre-wrap;\n",
       "}\n",
       "</style>\n",
       "<small>shape: (854_685, 7)</small><table border=\"1\" class=\"dataframe\"><thead><tr><th>fecha</th><th>mes</th><th>anio</th><th>linea</th><th>estacion</th><th>tipo_pago</th><th>afluencia</th></tr><tr><td>str</td><td>str</td><td>i64</td><td>str</td><td>str</td><td>str</td><td>i64</td></tr></thead><tbody><tr><td>&quot;2021-01-01&quot;</td><td>&quot;enero&quot;</td><td>2021</td><td>&quot;Linea 12&quot;</td><td>&quot;hospital 20 de noviembre&quot;</td><td>&quot;boleto&quot;</td><td>0</td></tr><tr><td>&quot;2021-01-01&quot;</td><td>&quot;enero&quot;</td><td>2021</td><td>&quot;Linea 12&quot;</td><td>&quot;hospital 20 de noviembre&quot;</td><td>&quot;prepago&quot;</td><td>832</td></tr><tr><td>&quot;2021-01-01&quot;</td><td>&quot;enero&quot;</td><td>2021</td><td>&quot;Linea 12&quot;</td><td>&quot;hospital 20 de noviembre&quot;</td><td>&quot;gratuidad&quot;</td><td>733</td></tr><tr><td>&quot;2021-01-01&quot;</td><td>&quot;enero&quot;</td><td>2021</td><td>&quot;Linea 12&quot;</td><td>&quot;atlalilco&quot;</td><td>&quot;boleto&quot;</td><td>0</td></tr><tr><td>&quot;2021-01-01&quot;</td><td>&quot;enero&quot;</td><td>2021</td><td>&quot;Linea 12&quot;</td><td>&quot;atlalilco&quot;</td><td>&quot;prepago&quot;</td><td>1141</td></tr><tr><td>&hellip;</td><td>&hellip;</td><td>&hellip;</td><td>&hellip;</td><td>&hellip;</td><td>&hellip;</td><td>&hellip;</td></tr><tr><td>&quot;2024-12-31&quot;</td><td>&quot;diciembre&quot;</td><td>2024</td><td>&quot;Linea B&quot;</td><td>&quot;plaza aragon&quot;</td><td>&quot;prepago&quot;</td><td>10348</td></tr><tr><td>&quot;2024-12-31&quot;</td><td>&quot;diciembre&quot;</td><td>2024</td><td>&quot;Linea B&quot;</td><td>&quot;plaza aragon&quot;</td><td>&quot;gratuidad&quot;</td><td>2232</td></tr><tr><td>&quot;2024-12-31&quot;</td><td>&quot;diciembre&quot;</td><td>2024</td><td>&quot;Linea B&quot;</td><td>&quot;ciudad azteca&quot;</td><td>&quot;boleto&quot;</td><td>0</td></tr><tr><td>&quot;2024-12-31&quot;</td><td>&quot;diciembre&quot;</td><td>2024</td><td>&quot;Linea B&quot;</td><td>&quot;ciudad azteca&quot;</td><td>&quot;prepago&quot;</td><td>24880</td></tr><tr><td>&quot;2024-12-31&quot;</td><td>&quot;diciembre&quot;</td><td>2024</td><td>&quot;Linea B&quot;</td><td>&quot;ciudad azteca&quot;</td><td>&quot;gratuidad&quot;</td><td>4596</td></tr></tbody></table></div>"
      ],
      "text/plain": [
       "shape: (854_685, 7)\n",
       "┌────────────┬───────────┬──────┬──────────┬──────────────────────────┬───────────┬───────────┐\n",
       "│ fecha      ┆ mes       ┆ anio ┆ linea    ┆ estacion                 ┆ tipo_pago ┆ afluencia │\n",
       "│ ---        ┆ ---       ┆ ---  ┆ ---      ┆ ---                      ┆ ---       ┆ ---       │\n",
       "│ str        ┆ str       ┆ i64  ┆ str      ┆ str                      ┆ str       ┆ i64       │\n",
       "╞════════════╪═══════════╪══════╪══════════╪══════════════════════════╪═══════════╪═══════════╡\n",
       "│ 2021-01-01 ┆ enero     ┆ 2021 ┆ Linea 12 ┆ hospital 20 de noviembre ┆ boleto    ┆ 0         │\n",
       "│ 2021-01-01 ┆ enero     ┆ 2021 ┆ Linea 12 ┆ hospital 20 de noviembre ┆ prepago   ┆ 832       │\n",
       "│ 2021-01-01 ┆ enero     ┆ 2021 ┆ Linea 12 ┆ hospital 20 de noviembre ┆ gratuidad ┆ 733       │\n",
       "│ 2021-01-01 ┆ enero     ┆ 2021 ┆ Linea 12 ┆ atlalilco                ┆ boleto    ┆ 0         │\n",
       "│ 2021-01-01 ┆ enero     ┆ 2021 ┆ Linea 12 ┆ atlalilco                ┆ prepago   ┆ 1141      │\n",
       "│ …          ┆ …         ┆ …    ┆ …        ┆ …                        ┆ …         ┆ …         │\n",
       "│ 2024-12-31 ┆ diciembre ┆ 2024 ┆ Linea B  ┆ plaza aragon             ┆ prepago   ┆ 10348     │\n",
       "│ 2024-12-31 ┆ diciembre ┆ 2024 ┆ Linea B  ┆ plaza aragon             ┆ gratuidad ┆ 2232      │\n",
       "│ 2024-12-31 ┆ diciembre ┆ 2024 ┆ Linea B  ┆ ciudad azteca            ┆ boleto    ┆ 0         │\n",
       "│ 2024-12-31 ┆ diciembre ┆ 2024 ┆ Linea B  ┆ ciudad azteca            ┆ prepago   ┆ 24880     │\n",
       "│ 2024-12-31 ┆ diciembre ┆ 2024 ┆ Linea B  ┆ ciudad azteca            ┆ gratuidad ┆ 4596      │\n",
       "└────────────┴───────────┴──────┴──────────┴──────────────────────────┴───────────┴───────────┘"
      ]
     },
     "execution_count": 20,
     "metadata": {},
     "output_type": "execute_result"
    }
   ],
   "source": [
    "df_general"
   ]
  },
  {
   "cell_type": "code",
   "execution_count": 21,
   "id": "a7d2c68f-1c69-493a-8f29-702f18dc9f3c",
   "metadata": {},
   "outputs": [],
   "source": [
    "df_general.write_csv('metro_cdmx/afluencia_desglosado_procesado.csv')\n",
    "df_general.write_json('metro_cdmx/afluencia_desglosado_procesado.json')"
   ]
  },
  {
   "cell_type": "code",
   "execution_count": null,
   "id": "579fd9f0-013c-465f-89a6-c22bd004235d",
   "metadata": {},
   "outputs": [],
   "source": []
  }
 ],
 "metadata": {
  "kernelspec": {
   "display_name": "Python 3 (ipykernel)",
   "language": "python",
   "name": "python3"
  },
  "language_info": {
   "codemirror_mode": {
    "name": "ipython",
    "version": 3
   },
   "file_extension": ".py",
   "mimetype": "text/x-python",
   "name": "python",
   "nbconvert_exporter": "python",
   "pygments_lexer": "ipython3",
   "version": "3.12.3"
  }
 },
 "nbformat": 4,
 "nbformat_minor": 5
}
